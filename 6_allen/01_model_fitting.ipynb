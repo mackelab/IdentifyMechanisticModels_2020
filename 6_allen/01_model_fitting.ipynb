{
 "cells": [
  {
   "cell_type": "code",
   "execution_count": null,
   "metadata": {},
   "outputs": [],
   "source": [
    "import delfi.distribution as dd\n",
    "import delfi.generator as dg\n",
    "import delfi.inference as infer\n",
    "import delfi.utils.io as io\n",
    "import delfi.summarystats as ds\n",
    "import model.utils as utils\n",
    "import matplotlib as mpl\n",
    "import matplotlib.pyplot as plt\n",
    "import numpy as np\n",
    "import pickle\n",
    "\n",
    "from model.HodgkinHuxley import HodgkinHuxley\n",
    "from model.HodgkinHuxleyStatsMoments import HodgkinHuxleyStatsMoments\n",
    "\n",
    "%matplotlib inline"
   ]
  },
  {
   "cell_type": "markdown",
   "metadata": {},
   "source": [
    "## log-transform functions, if necessary"
   ]
  },
  {
   "cell_type": "code",
   "execution_count": null,
   "metadata": {},
   "outputs": [],
   "source": [
    "def param_transform(prior_log, x):\n",
    "    if prior_log:\n",
    "        return np.log(x)\n",
    "    else:\n",
    "        return x\n",
    "\n",
    "def param_invtransform(prior_log, x):\n",
    "    if prior_log:\n",
    "        return np.exp(x)\n",
    "    else:\n",
    "        return x"
   ]
  },
  {
   "cell_type": "markdown",
   "metadata": {},
   "source": [
    "## define model, prior, summary statistics and generator"
   ]
  },
  {
   "cell_type": "code",
   "execution_count": null,
   "metadata": {},
   "outputs": [],
   "source": [
    "reduced_model = False\n",
    "true_params, labels_params = utils.obs_params(reduced_model=reduced_model)\n",
    "\n",
    "seed = 1\n",
    "prior_uniform = True\n",
    "prior_log = False\n",
    "prior_extent = True\n",
    "n_xcorr = 0\n",
    "n_mom = 4\n",
    "cython=True\n",
    "n_summary = 7\n",
    "summary_stats = 1\n",
    "\n",
    "# list of all Allen recordings\n",
    "list_cells_AllenDB = [[518290966,57,0.0234/126],[509881736,39,0.0153/184],[566517779,46,0.0195/198],\n",
    "                      [567399060,38,0.0259/161],[569469018,44,0.033/403],[532571720,42,0.0139/127],\n",
    "                      [555060623,34,0.0294/320],[534524026,29,0.027/209],[532355382,33,0.0199/230],\n",
    "                      [526950199,37,0.0186/218]]\n",
    "\n",
    "\n",
    "n_cells = len(list_cells_AllenDB)\n",
    "\n",
    "# define prior\n",
    "p = utils.prior(true_params=true_params,prior_uniform=prior_uniform,\n",
    "                prior_extent=prior_extent,prior_log=prior_log, seed=seed)\n",
    "\n",
    "# define model, summary statistics and generator\n",
    "obs_stats_ls = []\n",
    "m_ls = []\n",
    "s_ls = []\n",
    "g_ls = []\n",
    "for cell_num in range(n_cells):\n",
    "    ephys_cell = list_cells_AllenDB[cell_num][0]\n",
    "    sweep_number = list_cells_AllenDB[cell_num][1]\n",
    "    A_soma = list_cells_AllenDB[cell_num][2]\n",
    "    junction_potential = -14\n",
    "\n",
    "    obs = utils.allen_obs_data(ephys_cell=ephys_cell,sweep_number=sweep_number,A_soma=A_soma)\n",
    "\n",
    "    obs['data'] = obs['data'] + junction_potential\n",
    "    I = obs['I']\n",
    "    dt = obs['dt']\n",
    "    t_on = obs['t_on']\n",
    "    t_off = obs['t_off']\n",
    "\n",
    "    obs_stats = utils.allen_obs_stats(data=obs,ephys_cell=ephys_cell,sweep_number=sweep_number,\n",
    "                                      n_xcorr=n_xcorr,n_mom=n_mom,\n",
    "                                      summary_stats=summary_stats,n_summary=n_summary)\n",
    "    obs_stats_ls.append(obs_stats)\n",
    "\n",
    "    n_processes = 6\n",
    "\n",
    "    seeds_model = np.arange(1,n_processes+1,1)\n",
    "    m = []\n",
    "    for i in range(n_processes):\n",
    "        m.append(HodgkinHuxley(I, dt, V0=obs['data'][0], seed=seeds_model[i], cython=cython,prior_log=prior_log))\n",
    "    m_ls.append(m)\n",
    "    s = HodgkinHuxleyStatsMoments(t_on=t_on, t_off=t_off,n_xcorr=n_xcorr,n_mom=n_mom,n_summary=n_summary)\n",
    "    s_ls.append(s)\n",
    "    g = dg.MPGenerator(models=m, prior=p, summary=s)\n",
    "    g_ls.append(g)"
   ]
  },
  {
   "cell_type": "markdown",
   "metadata": {},
   "source": [
    "## run inference and save results"
   ]
  },
  {
   "cell_type": "code",
   "execution_count": null,
   "metadata": {},
   "outputs": [],
   "source": [
    "seed = 1\n",
    "svi = False\n",
    "impute_missing = False\n",
    "pilot_samples = 1000\n",
    "n_sims = 125000\n",
    "n_rounds = 2\n",
    "n_components = 1\n",
    "n_hiddens = [100]*2\n",
    "\n",
    "for cell_num in range(n_cells):\n",
    "    # setup inference and run pilot run\n",
    "    res = infer.SNPE(g_ls[cell_num], obs=obs_stats_ls[cell_num], pilot_samples=pilot_samples, n_hiddens=n_hiddens,\n",
    "                     seed=seed, prior_norm=True,n_components=n_components, svi=svi, impute_missing=impute_missing)\n",
    "\n",
    "    # run with N samples\n",
    "    log, train_data, posterior = res.run(n_sims, n_rounds=n_rounds, epochs=1000)\n",
    "    \n",
    "    # save results\n",
    "    if svi:\n",
    "        svi_flag = '_svi'\n",
    "    else:\n",
    "        svi_flag = '_nosvi'\n",
    "        \n",
    "    ephys_cell = list_cells_AllenDB[cell_num][0]\n",
    "    sweep_number = list_cells_AllenDB[cell_num][1]\n",
    "\n",
    "    filename1 = './results/allen_'+str(ephys_cell)+'_'+str(sweep_number)+\\\n",
    "    '_run_1_round2_prior0013_param8'+svi_flag+'_ncomp'+str(n_components)+\\\n",
    "    '_nsims'+str(n_sims*n_rounds)+'_snpe.pkl'\n",
    "    filename2 = './results/allen_'+str(ephys_cell)+'_'+str(sweep_number)+\\\n",
    "    '_run_1_round2_prior0013_param8'+svi_flag+'_ncomp'+str(n_components)+\\\n",
    "    '_nsims'+str(n_sims*n_rounds)+'_snpe_res.pkl'\n",
    "    io.save_pkl((log, train_data, posterior),filename1)\n",
    "    io.save(res, filename2)"
   ]
  }
 ],
 "metadata": {
  "kernelspec": {
   "display_name": "Python 3",
   "language": "python",
   "name": "python3"
  },
  "language_info": {
   "codemirror_mode": {
    "name": "ipython",
    "version": 3
   },
   "file_extension": ".py",
   "mimetype": "text/x-python",
   "name": "python",
   "nbconvert_exporter": "python",
   "pygments_lexer": "ipython3",
   "version": "3.5.2"
  }
 },
 "nbformat": 4,
 "nbformat_minor": 2
}
