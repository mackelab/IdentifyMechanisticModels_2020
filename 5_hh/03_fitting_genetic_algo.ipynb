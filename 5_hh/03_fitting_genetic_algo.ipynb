{
 "cells": [
  {
   "cell_type": "code",
   "execution_count": null,
   "metadata": {},
   "outputs": [],
   "source": [
    "import delfi.generator as dg\n",
    "import delfi.inference as infer\n",
    "import delfi.utils.io as io\n",
    "import model.utils as utils\n",
    "import matplotlib as mpl\n",
    "import matplotlib.pyplot as plt\n",
    "import numpy as np\n",
    "\n",
    "from model.HodgkinHuxley import HodgkinHuxley\n",
    "from model.HodgkinHuxleyStatsMoments import HodgkinHuxleyStatsMoments\n",
    "from run_genetic import run_deap\n",
    "\n",
    "%matplotlib inline"
   ]
  },
  {
   "cell_type": "markdown",
   "metadata": {},
   "source": [
    "## Set up the model"
   ]
  },
  {
   "cell_type": "code",
   "execution_count": null,
   "metadata": {},
   "outputs": [],
   "source": [
    "seed = 1\n",
    "seed_p = 2\n",
    "n_xcorr = 0\n",
    "n_mom = 4\n",
    "n_summary = 7\n",
    "summary_stats = 1\n",
    "prior_uniform = True\n",
    "prior_log = False\n",
    "prior_extent = True\n",
    "cython=True\n",
    "\n",
    "true_params, labels_params = utils.obs_params(reduced_model=False)\n",
    "I, t_on, t_off, dt = utils.syn_current()\n",
    "\n",
    "obs = utils.syn_obs_data(I, dt, true_params, seed=seed, cython=cython)\n",
    "obs_stats = utils.syn_obs_stats(data=obs, I=I, t_on=t_on, t_off=t_off, dt=dt, params=true_params,\n",
    "                                seed=seed, n_xcorr=n_xcorr, n_mom=n_mom, cython=cython,\n",
    "                                summary_stats=summary_stats,n_summary=n_summary)\n",
    "\n",
    "LABELS_HH_SUMSTATS = [r'$sp$',r'$rpot$',r'$\\sigma_{rpot}$','$m_1$','$m_2$','$m_3$','$m_4$']\n",
    "\n",
    "# define model, prior, summary statistics and generator\n",
    "n_processes = 10\n",
    "\n",
    "seeds_model = np.arange(1,n_processes+1,1)\n",
    "m = []\n",
    "for i in range(n_processes):\n",
    "    m.append(HodgkinHuxley(I, dt, V0=obs['data'][0], reduced_model=False, seed=seeds_model[i],\n",
    "                           cython=cython,prior_log=prior_log))\n",
    "p = utils.prior(true_params=true_params,prior_uniform=prior_uniform,\n",
    "                prior_extent=prior_extent,prior_log=prior_log, seed=seed_p)\n",
    "s = HodgkinHuxleyStatsMoments(t_on=t_on, t_off=t_off, n_xcorr=n_xcorr, n_mom=n_mom, n_summary=n_summary)\n",
    "g = dg.MPGenerator(models=m, prior=p, summary=s)\n",
    "    \n",
    "bounds = np.asarray([p.lower,p.upper]).T"
   ]
  },
  {
   "cell_type": "markdown",
   "metadata": {},
   "source": [
    "## pilot run"
   ]
  },
  {
   "cell_type": "code",
   "execution_count": null,
   "metadata": {},
   "outputs": [],
   "source": [
    "seed_inf = 1\n",
    "\n",
    "pilot_samples = 1000\n",
    "\n",
    "# network setup\n",
    "n_hiddens = [50,50]\n",
    "\n",
    "# convenience\n",
    "prior_norm = True\n",
    "\n",
    "# MAF parameters\n",
    "density = 'maf'\n",
    "n_mades = 5         # number of MADES\n",
    "\n",
    "# inference object\n",
    "res = infer.SNPEC(g,\n",
    "                obs=obs_stats,\n",
    "                n_hiddens=n_hiddens,\n",
    "                seed=seed_inf,\n",
    "                pilot_samples=pilot_samples,\n",
    "                n_mades=n_mades,\n",
    "                prior_norm=prior_norm,\n",
    "                density=density,\n",
    "                verbose=True)"
   ]
  },
  {
   "cell_type": "markdown",
   "metadata": {},
   "source": [
    "## Run genetic algorithm"
   ]
  },
  {
   "cell_type": "code",
   "execution_count": null,
   "metadata": {},
   "outputs": [],
   "source": [
    "algo = 'ibea'\n",
    "offspring_size = 1000\n",
    "max_ngen = 100\n",
    "seed_ibea = 5 # 5,6,7,8,9\n",
    "final_pop, halloffame, log, hist = run_deap(model=m[0], bounds=bounds, labels_params=labels_params,\n",
    "                                            summary=s, obs_stats=obs_stats, labels_sum_stats=LABELS_HH_SUMSTATS,\n",
    "                                            stats_std=res.stats_std,algo=algo, offspring_size=offspring_size,\n",
    "                                            max_ngen=max_ngen, seed=seed_ibea)"
   ]
  },
  {
   "cell_type": "code",
   "execution_count": null,
   "metadata": {},
   "outputs": [],
   "source": [
    "io.save_pkl((final_pop,halloffame,log,hist),'./results/'+\\\n",
    "            'sim_run_2_offspr'+str(offspring_size)+'_max_gen'+str(max_ngen)+ '_param8_7stats_' + algo + '.pkl')"
   ]
  },
  {
   "cell_type": "code",
   "execution_count": null,
   "metadata": {},
   "outputs": [],
   "source": [
    "final_pop, halloffame, log, hist = io.load_pkl('./results/'+\\\n",
    "                                               'sim_run_2_offspr'+str(offspring_size)+\\\n",
    "                                               '_max_gen'+str(max_ngen)+ '_param8_7stats_' + algo + '.pkl')"
   ]
  },
  {
   "cell_type": "code",
   "execution_count": null,
   "metadata": {},
   "outputs": [],
   "source": []
  }
 ],
 "metadata": {
  "anaconda-cloud": {},
  "kernelspec": {
   "display_name": "Python 3",
   "language": "python",
   "name": "python3"
  },
  "language_info": {
   "codemirror_mode": {
    "name": "ipython",
    "version": 3
   },
   "file_extension": ".py",
   "mimetype": "text/x-python",
   "name": "python",
   "nbconvert_exporter": "python",
   "pygments_lexer": "ipython3",
   "version": "3.5.2"
  }
 },
 "nbformat": 4,
 "nbformat_minor": 1
}
