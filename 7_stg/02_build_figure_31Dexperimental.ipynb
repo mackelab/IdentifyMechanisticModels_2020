{
 "cells": [
  {
   "cell_type": "markdown",
   "metadata": {},
   "source": [
    "# Demonstrate the path of high probability and the orthogonal path on the pyloric rhythm for experimental data"
   ]
  },
  {
   "cell_type": "code",
   "execution_count": null,
   "metadata": {},
   "outputs": [],
   "source": [
    "# Note: this application requires a more recent version of dill.\n",
    "# Other applications in this repository will require 0.2.7.1\n",
    "# You might have to switch between versions to run all applications.\n",
    "!pip install --upgrade dill"
   ]
  },
  {
   "cell_type": "code",
   "execution_count": 1,
   "metadata": {},
   "outputs": [],
   "source": [
    "import numpy as np\n",
    "import matplotlib.pylab as plt\n",
    "import delfi.distribution as dd\n",
    "import time\n",
    "from copy import deepcopy\n",
    "import sys\n",
    "sys.path.append(\"model/setup\")\n",
    "sys.path.append(\"model/simulator\")\n",
    "sys.path.append(\"model/inference\")\n",
    "sys.path.append(\"model/visualization\")\n",
    "sys.path.append(\"model/utils\")\n",
    "\n",
    "import sys; sys.path.append('../')\n",
    "from common import col, svg, plot_pdf, samples_nd\n",
    "\n",
    "import netio\n",
    "import viz\n",
    "import importlib\n",
    "import viz_samples\n",
    "import train_utils as tu\n",
    "\n",
    "import matplotlib as mpl\n",
    "\n",
    "%load_ext autoreload\n",
    "%autoreload 2"
   ]
  },
  {
   "cell_type": "code",
   "execution_count": 2,
   "metadata": {},
   "outputs": [],
   "source": [
    "PANEL_A  = 'illustration/panel_a.svg'\n",
    "PANEL_B  = 'svg/31D_panel_b.svg'\n",
    "PANEL_C  = 'svg/31D_panel_c.svg'\n",
    "PANEL_C2 = 'svg/31D_panel_c2.svg'\n",
    "PANEL_D = 'svg/31D_panel_d.svg'\n",
    "\n",
    "PANEL_X1params = 'svg/31D_panel_App1_params.svg'\n",
    "PANEL_X2params = 'svg/31D_panel_App2_params.svg'\n",
    "PANEL_X1ss = 'svg/31D_panel_App1_ss.svg'\n",
    "PANEL_X2ss = 'svg/31D_panel_App2_ss.svg'\n",
    "\n",
    "PANEL_X = 'svg/31D_panel_x.svg'"
   ]
  },
  {
   "cell_type": "markdown",
   "metadata": {},
   "source": [
    "### Load samples"
   ]
  },
  {
   "cell_type": "code",
   "execution_count": 3,
   "metadata": {},
   "outputs": [],
   "source": [
    "params = netio.load_setup('train_31D_R1_BigPaper')"
   ]
  },
  {
   "cell_type": "code",
   "execution_count": 4,
   "metadata": {},
   "outputs": [
    {
     "name": "stdout",
     "output_type": "stream",
     "text": [
      "We use 170000 training samples.\n"
     ]
    }
   ],
   "source": [
    "filedir = \"results/31D_samples/pyloricsamples_31D_noNaN_3.npz\"\n",
    "pilot_data, trn_data, params_mean, params_std = tu.load_trn_data_normalize(filedir, params)\n",
    "print('We use', len(trn_data[0]), 'training samples.')\n",
    "\n",
    "stats = trn_data[1]\n",
    "stats_mean = np.mean(stats, axis=0)\n",
    "stats_std  = np.std(stats, axis=0)"
   ]
  },
  {
   "cell_type": "markdown",
   "metadata": {},
   "source": [
    "### Load network'"
   ]
  },
  {
   "cell_type": "code",
   "execution_count": 5,
   "metadata": {},
   "outputs": [],
   "source": [
    "date_today = '1908208'\n",
    "import dill as pickle\n",
    "with open('results/31D_nets/191001_seed1_Exper11deg.pkl', 'rb') as file:\n",
    "    inf_SNPE_MAF, log, params = pickle.load(file)\n",
    "params = netio.load_setup('train_31D_R1_BigPaper')"
   ]
  },
  {
   "cell_type": "code",
   "execution_count": 6,
   "metadata": {},
   "outputs": [],
   "source": [
    "prior = netio.create_prior(params, log=True)\n",
    "dimensions = np.sum(params.use_membrane) + 7\n",
    "lims = np.asarray([-np.sqrt(3)*np.ones(dimensions), np.sqrt(3)*np.ones(dimensions)]).T"
   ]
  },
  {
   "cell_type": "code",
   "execution_count": 7,
   "metadata": {},
   "outputs": [],
   "source": [
    "prior = netio.create_prior(params, log=True)\n",
    "params_mean = prior.mean\n",
    "params_std = prior.std"
   ]
  },
  {
   "cell_type": "code",
   "execution_count": 8,
   "metadata": {},
   "outputs": [],
   "source": [
    "from find_pyloric import merge_samples, params_are_bounded\n",
    "\n",
    "labels_ = viz.get_labels(params)\n",
    "prior_normalized = dd.Uniform(-np.sqrt(3)*np.ones(dimensions), np.sqrt(3)*np.ones(dimensions), seed=params.seed)"
   ]
  },
  {
   "cell_type": "markdown",
   "metadata": {},
   "source": [
    "### Load experimental data"
   ]
  },
  {
   "cell_type": "code",
   "execution_count": 9,
   "metadata": {},
   "outputs": [],
   "source": [
    "summstats_experimental = np.load('results/31D_experimental/190807_summstats_prep845_082_0044.npz')['summ_stats']"
   ]
  },
  {
   "cell_type": "markdown",
   "metadata": {},
   "source": [
    "### Calculate posterior"
   ]
  },
  {
   "cell_type": "code",
   "execution_count": 10,
   "metadata": {},
   "outputs": [],
   "source": [
    "from find_pyloric import merge_samples, params_are_bounded\n",
    "\n",
    "all_paths = []\n",
    "all_posteriors = []\n",
    "labels_ = viz.get_labels(params)\n",
    "\n",
    "posterior_MAF = inf_SNPE_MAF.predict([summstats_experimental]) # given the current sample, we now predict the posterior given our simulation outcome. Note that this could just be overfitted."
   ]
  },
  {
   "cell_type": "markdown",
   "metadata": {},
   "source": [
    "### Load samples"
   ]
  },
  {
   "cell_type": "code",
   "execution_count": null,
   "metadata": {},
   "outputs": [],
   "source": [
    "samples_MAF = merge_samples(\"results/31D_samples/02_cond_vals\", name='conductance_params')\n",
    "samples_MAF = np.reshape(samples_MAF, (1000*2520, 31))\n",
    "print(np.shape(samples_MAF))"
   ]
  },
  {
   "cell_type": "markdown",
   "metadata": {},
   "source": [
    "### Load start and end point"
   ]
  },
  {
   "cell_type": "code",
   "execution_count": null,
   "metadata": {},
   "outputs": [],
   "source": [
    "num_to_watch = 3\n",
    "infile = 'results/31D_pairs/similar_and_good/sample_pair_{}.npz'.format(num_to_watch) # 0 is shitty\n",
    "npz = np.load(infile)\n",
    "start_point = npz['params1']\n",
    "end_point = npz['params2']"
   ]
  },
  {
   "cell_type": "code",
   "execution_count": null,
   "metadata": {},
   "outputs": [],
   "source": [
    "start_point_unnorm = start_point * params_std + params_mean\n",
    "end_point_unnorm   = end_point   * params_std + params_mean\n",
    "ratio = end_point_unnorm / start_point_unnorm\n",
    "run_true = (ratio > np.ones_like(ratio) * 2.0) | (ratio < np.ones_like(ratio) / 2.0)"
   ]
  },
  {
   "cell_type": "code",
   "execution_count": null,
   "metadata": {},
   "outputs": [],
   "source": [
    "print(run_true)"
   ]
  },
  {
   "cell_type": "markdown",
   "metadata": {},
   "source": [
    "### Calculate the high-probability path"
   ]
  },
  {
   "cell_type": "code",
   "execution_count": null,
   "metadata": {},
   "outputs": [],
   "source": [
    "from HighProbabilityPath import HighProbabilityPath"
   ]
  },
  {
   "cell_type": "code",
   "execution_count": null,
   "metadata": {},
   "outputs": [],
   "source": [
    "# number of basis functions used\n",
    "num_basis_functions = 2\n",
    "\n",
    "# number of timesteps\n",
    "num_path_steps = 80\n",
    "\n",
    "high_p_path = HighProbabilityPath(num_basis_functions, num_path_steps, use_sine_square=True)"
   ]
  },
  {
   "cell_type": "code",
   "execution_count": null,
   "metadata": {},
   "outputs": [],
   "source": [
    "#print('Starting to calculate path')\n",
    "#high_p_path.set_start_end(start_point, end_point)\n",
    "#high_p_path.set_pdf(posterior_MAF, dimensions)\n",
    "#high_p_path.find_path(posterior_MAF, prior=prior_normalized, multiply_posterior=1,\n",
    "#                      non_linearity=None, non_lin_param=3.0)\n",
    "#high_p_path.get_travelled_distance()\n",
    "#print('Finished calculating path')"
   ]
  },
  {
   "cell_type": "code",
   "execution_count": null,
   "metadata": {},
   "outputs": [],
   "source": [
    "#np.savez('results/31D_paths/high_p_path.npz', high_p_path=high_p_path)"
   ]
  },
  {
   "cell_type": "code",
   "execution_count": null,
   "metadata": {},
   "outputs": [],
   "source": [
    "high_p_path = np.load('results/31D_paths/high_p_path.npz', allow_pickle=True)['high_p_path'].tolist()"
   ]
  },
  {
   "cell_type": "code",
   "execution_count": null,
   "metadata": {},
   "outputs": [],
   "source": [
    "lims = np.asarray([-np.sqrt(3)*np.ones(dimensions), np.sqrt(3)*np.ones(dimensions)]).T"
   ]
  },
  {
   "cell_type": "markdown",
   "metadata": {},
   "source": [
    "# Panel B: experimental data\n",
    "Note: the full data is not contained in the repo. Therefore, this figure can not be created."
   ]
  },
  {
   "cell_type": "code",
   "execution_count": null,
   "metadata": {},
   "outputs": [],
   "source": [
    "npz = np.load('results/31D_experimental/trace_data_845_082_0044.npz')\n",
    "t = npz['t']\n",
    "PD_spikes = npz['PD_spikes']\n",
    "LP_spikes = npz['LP_spikes']\n",
    "PY_spikes = npz['PY_spikes']\n",
    "pdn = npz['pdn']\n",
    "lpn = npz['lpn']\n",
    "pyn = npz['pyn']"
   ]
  },
  {
   "cell_type": "code",
   "execution_count": null,
   "metadata": {},
   "outputs": [],
   "source": [
    "start_index = 219500 + 2100\n",
    "end_index   = 246500 + 2100  # 32000\n",
    "height_offset = 200\n",
    "shown_t = t[end_index] - t[start_index]\n",
    "time_len = shown_t / 0.025 * 1000\n",
    "dt = t[1] - t[0]"
   ]
  },
  {
   "cell_type": "code",
   "execution_count": null,
   "metadata": {},
   "outputs": [],
   "source": [
    "import matplotlib.patches as mp"
   ]
  },
  {
   "cell_type": "code",
   "execution_count": null,
   "metadata": {},
   "outputs": [],
   "source": [
    "with mpl.rc_context(fname='../.matplotlibrc'):\n",
    "    fig, ax = plt.subplots(1,1,figsize=(2.87, 2.08*3/4)) # (2.87, 2.08*3/4)\n",
    "    ax.plot(t[start_index:end_index], 2.5+pdn[start_index:end_index]*0.007, c=col['GT'], lw=0.8)\n",
    "    ax.plot(t[start_index:end_index], 1.2+lpn[start_index:end_index]*0.25, c=col['GT'], lw=0.8)\n",
    "    ax.plot(t[start_index:end_index], -0.1+pyn[start_index:end_index]*0.013, c=col['GT'], lw=0.8)\n",
    "    \n",
    "    linew = 0.4\n",
    "    headl = 0.06\n",
    "    headw = 0.16\n",
    "    linelen = 0.17\n",
    "    circlefact = 0.8\n",
    "    \n",
    "    # period arrow\n",
    "    height1 = 3.2\n",
    "    plt.arrow(t[start_index]+0.6, height1, 1.15, 0,  shape='full', head_width=headw, head_length=headl, length_includes_head=True, color='k', lw=linew)\n",
    "    plt.arrow(t[start_index]+1.75, height1, -1.15, 0,  shape='full', head_width=headw, head_length=headl, length_includes_head=True, color='k', lw=linew)\n",
    "    plt.plot([t[start_index]+0.6, t[start_index]+0.6], [height1-linelen,height1+linelen], c='k', lw=linew*1.5)\n",
    "    plt.plot([t[start_index]+1.75, t[start_index]+1.75], [height1-linelen,height1+linelen], c='k', lw=linew*1.5)\n",
    "    #patch =mp.Ellipse((t[start_index]+1.2, 3.65), 0.2*circlefact,0.6*circlefact, color='lightgray')\n",
    "    #ax.add_patch(patch)\n",
    "    \n",
    "    # delay arrow\n",
    "    height2 = 1.64\n",
    "    plt.arrow(t[start_index]+0.6, height2, 0.48, 0,  shape='full', head_width=headw, head_length=headl, length_includes_head=True, color='k', lw=linew)\n",
    "    plt.arrow(t[start_index]+1.08, height2, -0.48, 0,  shape='full', head_width=headw, head_length=headl, length_includes_head=True, color='k', lw=linew)\n",
    "    plt.plot([t[start_index]+0.6, t[start_index]+0.6], [height2-linelen,height2+linelen], c='k', lw=linew*1.5)\n",
    "    plt.plot([t[start_index]+1.08, t[start_index]+1.08], [height2-linelen,height2+linelen], c='k', lw=linew*1.5)\n",
    "    #patch =mp.Ellipse((t[start_index]+0.94, 2.1), 0.2*circlefact,0.6*circlefact, color='lightgray')\n",
    "    #ax.add_patch(patch)\n",
    "    \n",
    "    # gap arrow\n",
    "    plt.arrow(t[start_index]+1.98, height2, 0.27, 0,  shape='full', head_width=headw, head_length=headl, length_includes_head=True, color='k', lw=linew)\n",
    "    plt.arrow(t[start_index]+2.25, height2, -0.27, 0,  shape='full', head_width=headw, head_length=headl, length_includes_head=True, color='k', lw=linew)\n",
    "    plt.plot([t[start_index]+1.98, t[start_index]+1.98], [height2-linelen,height2+linelen], c='k', lw=linew*1.5)\n",
    "    plt.plot([t[start_index]+2.25, t[start_index]+2.25], [height2-linelen,height2+linelen], c='k', lw=linew*1.5)\n",
    "    #patch =mp.Ellipse((t[start_index]+2.1, 2.1), 0.2*circlefact,0.6*circlefact, color='lightgray')\n",
    "    #ax.add_patch(patch)\n",
    "    \n",
    "    # duration arrow\n",
    "    height4 = 0.44\n",
    "    plt.arrow(t[start_index]+1.33, height4, 0.43, 0,  shape='full', head_width=headw, head_length=headl, length_includes_head=True, color='k', lw=linew)\n",
    "    plt.arrow(t[start_index]+1.76, height4, -0.43, 0,  shape='full', head_width=headw, head_length=headl, length_includes_head=True, color='k', lw=linew)\n",
    "    plt.plot([t[start_index]+1.33, t[start_index]+1.33], [height4-linelen,height4+linelen], c='k', lw=linew*1.5)\n",
    "    plt.plot([t[start_index]+1.76, t[start_index]+1.76], [height4-linelen,height4+linelen], c='k', lw=linew*1.5)\n",
    "    #patch =mp.Ellipse((t[start_index]+1.55, 0.9), radius=0.2, color='lightgray')\n",
    "    #ax.add_patch(patch)\n",
    "    \n",
    "\n",
    "    ax.spines['right'].set_visible(False)\n",
    "    ax.spines['top'].set_visible(False)\n",
    "    ax.spines['bottom'].set_visible(False)\n",
    "    ax.spines['left'].set_visible(False)\n",
    "    ax.axes.get_yaxis().set_ticks([])\n",
    "    ax.axes.get_xaxis().set_ticks([])\n",
    "    ax.get_yaxis().set_visible(False)\n",
    "    ax.set_ylim([-0.95, 4.0])\n",
    "    \n",
    "    duration = 0.5\n",
    "    number_of_timesteps = int(duration / dt)\n",
    "    t_scale = np.linspace(t[start_index], t[start_index + number_of_timesteps], 2)\n",
    "    \n",
    "    ax.plot(t_scale, -0.8 * np.ones_like(t_scale), c='k', lw=1.0)\n",
    "    \n",
    "    #plt.savefig(PANEL_B, facecolor='None', transparent=True)\n",
    "    plt.show()"
   ]
  },
  {
   "cell_type": "markdown",
   "metadata": {},
   "source": [
    "# Panel C: posterior"
   ]
  },
  {
   "cell_type": "code",
   "execution_count": null,
   "metadata": {},
   "outputs": [],
   "source": [
    "from decimal import Decimal\n",
    "all_labels = []\n",
    "for dim_i in range(31):\n",
    "    if dim_i > len(params_mean) - 7.5: # synapses\n",
    "        if dim_i == 24: all_labels.append([r'$\\mathdefault{0.01}$ ', r'$\\mathdefault{10000}\\;\\;\\;\\;$  '])\n",
    "        else: all_labels.append([r'$\\;\\;\\mathdefault{0.01}$', r'$\\mathdefault{1000}\\;\\;\\;\\;$ '])\n",
    "    else: # membrane conductances\n",
    "        num_after_digits = -int(np.log10(lims[dim_i, 1] * params_std[dim_i] + params_mean[dim_i]))\n",
    "        if num_after_digits > 2:\n",
    "            num_after_digits=2\n",
    "        labels = [round(Decimal((lims[dim_i, num_tmp] * params_std[dim_i] + params_mean[dim_i]) / 0.628e-3), num_after_digits)\n",
    "                  for num_tmp in range(2)]\n",
    "        new_labels = []\n",
    "        counter=0\n",
    "        for l in labels:\n",
    "            if counter == 0:\n",
    "                new_labels.append(r'$\\mathdefault{'+str(l)+'}$')\n",
    "            else:\n",
    "                new_labels.append(r'$\\mathdefault{'+str(l)+'}\\;\\;\\;$ ')\n",
    "            counter+=1\n",
    "        all_labels.append(new_labels)"
   ]
  },
  {
   "cell_type": "code",
   "execution_count": null,
   "metadata": {},
   "outputs": [],
   "source": [
    "import matplotlib.patheffects as pe\n",
    "\n",
    "with mpl.rc_context(fname='../.matplotlibrc'):\n",
    "\n",
    "    labels_ = viz.get_labels_8pt(params)\n",
    "    labels_[9] += ''\n",
    "\n",
    "    fig, axes = samples_nd(samples=[samples_MAF[:1260000], high_p_path.path_coords],\n",
    "                           subset=[2,4,10,19,24,25,26,28],\n",
    "                           limits=lims,\n",
    "                           ticks=lims,\n",
    "                           tick_labels=all_labels,\n",
    "                           fig_size=(17.0*0.2435,17.0*0.2435),\n",
    "                           labels=labels_,\n",
    "                           points=[start_point, end_point],\n",
    "                           scatter_offdiag={'rasterized':True, 'alpha':1.0},\n",
    "                           points_offdiag={'marker':'o', 'markeredgecolor':'w', 'markersize':3.6, 'markeredgewidth':0.5, 'path_effects':[pe.Stroke(linewidth=1.2, foreground='k'), pe.Normal()]},\n",
    "                           points_colors=[col['CONSISTENT1'], col['CONSISTENT2']],\n",
    "                           samples_colors=[col['SNPE'], 'white'],\n",
    "                           diag=['kde', 'None'],\n",
    "                           upper=['hist', 'plot'],\n",
    "                           hist_offdiag={'bins':50},\n",
    "                           plot_offdiag={'linewidth': 1.6, 'path_effects':[pe.Stroke(linewidth=2.4, foreground='k'), pe.Normal()]})\n",
    "    \n",
    "#     plt.savefig(PANEL_C, facecolor='None', transparent=True)\n",
    "    plt.show()"
   ]
  },
  {
   "cell_type": "markdown",
   "metadata": {},
   "source": [
    "### Evaluate whether samples along path are identical according to Prinz"
   ]
  },
  {
   "cell_type": "code",
   "execution_count": null,
   "metadata": {},
   "outputs": [],
   "source": [
    "pyloric_sim = netio.create_simulators(params)\n",
    "summ_stats = netio.create_summstats(params)"
   ]
  },
  {
   "cell_type": "code",
   "execution_count": null,
   "metadata": {},
   "outputs": [],
   "source": [
    "from viz import plot_posterior_over_path"
   ]
  },
  {
   "cell_type": "code",
   "execution_count": null,
   "metadata": {},
   "outputs": [],
   "source": [
    "high_p_path_mod = deepcopy(high_p_path)\n",
    "# plots for the samples\n",
    "num_cols = 2\n",
    "num_rows = 5\n",
    "scale = 'dist' # set this to 'dist' if you want to x-axis to be scale according to the travelled distance\n",
    "\n",
    "num_steps = num_cols*num_rows\n",
    "if scale == 'dist':\n",
    "    steps = np.linspace(0, high_p_path_mod.dists[-1], num_steps)\n",
    "else:\n",
    "    steps = np.linspace(0, 1.0, num_steps)"
   ]
  },
  {
   "cell_type": "markdown",
   "metadata": {},
   "source": [
    "# Inlet for Panel C"
   ]
  },
  {
   "cell_type": "code",
   "execution_count": null,
   "metadata": {},
   "outputs": [],
   "source": [
    "dimensions_to_use = [24,25]\n",
    "\n",
    "high_p_path_mod = deepcopy(high_p_path)\n",
    "num_paths = 10\n",
    "path_start_positions = np.linspace(0, high_p_path_mod.dists[-1], num_paths)\n",
    "high_p_indizes = high_p_path_mod.find_closest_index_to_dist(path_start_positions)"
   ]
  },
  {
   "cell_type": "code",
   "execution_count": null,
   "metadata": {},
   "outputs": [],
   "source": [
    "use_high_p_index = 45\n",
    "high_p_indizes = [use_high_p_index]"
   ]
  },
  {
   "cell_type": "code",
   "execution_count": null,
   "metadata": {},
   "outputs": [],
   "source": [
    "from OrthogonalPath import OrthogonalPath\n",
    "\n",
    "dimensions_to_use = [24,25]\n",
    "\n",
    "high_p_path_mod = deepcopy(high_p_path)\n",
    "start_point_ind = 23# 10\n",
    "\n",
    "# ortho_path = OrthogonalPath(high_p_path_mod.path_coords, start_point_ind)\n",
    "# ortho_path.find_orthogonal_path(posterior_MAF, max_distance=high_p_path_mod.dists[-1]/27, dim=dimensions, prior=prior_normalized)\n",
    "# ortho_path.get_travelled_distance()\n",
    "# print(len(ortho_path.path_coords))\n",
    "#np.savez('results/31D_paths/ortho_path.npz', ortho_path=ortho_path)"
   ]
  },
  {
   "cell_type": "code",
   "execution_count": null,
   "metadata": {},
   "outputs": [],
   "source": [
    "ortho_path = np.load('results/31D_paths/ortho_path.npz', allow_pickle=True)['ortho_path'].tolist()"
   ]
  },
  {
   "cell_type": "code",
   "execution_count": null,
   "metadata": {},
   "outputs": [],
   "source": [
    "ortho_path_mod = deepcopy(ortho_path)\n",
    "num_path_pos = 2\n",
    "path_start_positions = np.linspace(0, ortho_path_mod.dists[-1], num_path_pos)\n",
    "ortho_p_indizes = ortho_path_mod.find_closest_index_to_dist(path_start_positions)"
   ]
  },
  {
   "cell_type": "code",
   "execution_count": null,
   "metadata": {},
   "outputs": [],
   "source": [
    "ortho_p_indizes = [ortho_p_indizes[-1]]"
   ]
  },
  {
   "cell_type": "code",
   "execution_count": null,
   "metadata": {},
   "outputs": [],
   "source": [
    "labels_ = viz.get_labels_8pt(params)\n",
    "labels_[9] += ''\n",
    "color_mixture = 0.5 * (np.asarray(list(col['CONSISTENT1'])) + np.asarray(list(col['CONSISTENT2'])))\n",
    "\n",
    "p1g = high_p_path.path_coords[int(high_p_indizes[0])]\n",
    "\n",
    "p1b = ortho_path.path_coords[int(ortho_p_indizes[0])]\n",
    "\n",
    "with mpl.rc_context(fname='../.matplotlibrc'):\n",
    "\n",
    "    _ = viz.plot_single_marginal_pdf(pdf1=posterior_MAF, prior=prior, resolution=200,\n",
    "                                                 lims=lims, samples=np.transpose(samples_MAF), figsize=(1.5, 1.5),\n",
    "                                                 ticks=False, no_contours=True, labels_params=labels_,\n",
    "                                                 start_point=high_p_path.start_point, end_point=high_p_path.end_point,\n",
    "                                                 path1=high_p_path.path_coords, display_axis_lims=True,\n",
    "                                                 path2=ortho_path.path_coords, pointscale=0.5,\n",
    "                                                 p1g=p1g, start_col=col['CONSISTENT1'], end_col=col['CONSISTENT2'],\n",
    "                                                 p1b=p1b, current_col1=color_mixture,current_col=col['CONSISTENT2'],\n",
    "                                                 current_col2=col['INCONSISTENT'],\n",
    "                                                 path_steps1=1, path_steps2=1,\n",
    "                                                 dimensions=dimensions_to_use)\n",
    "    #plt.savefig(PANEL_C2, facecolor='None', transparent=True, dpi=300, bbox_inches='tight')\n",
    "    plt.show()"
   ]
  },
  {
   "cell_type": "markdown",
   "metadata": {},
   "source": [
    "# Panel D"
   ]
  },
  {
   "cell_type": "code",
   "execution_count": null,
   "metadata": {},
   "outputs": [],
   "source": [
    "dimensions_to_use = [6,7]\n",
    "\n",
    "high_p_path_mod = deepcopy(high_p_path)\n",
    "num_paths = 5\n",
    "path_start_positions = np.linspace(0, high_p_path_mod.dists[-1], num_paths)\n",
    "high_p_indizes = high_p_path_mod.find_closest_index_to_dist(path_start_positions)\n",
    "indizes_show = high_p_indizes\n",
    "high_p_indizes.pop(2)\n",
    "high_p_indizes.pop(1)\n",
    "current_point = high_p_path_mod.path_coords[high_p_indizes]\n",
    "high_p_indizes = np.flip(high_p_indizes)\n",
    "print(high_p_indizes)"
   ]
  },
  {
   "cell_type": "code",
   "execution_count": null,
   "metadata": {},
   "outputs": [],
   "source": [
    "high_p_indizes = [79, 0, use_high_p_index]"
   ]
  },
  {
   "cell_type": "code",
   "execution_count": null,
   "metadata": {},
   "outputs": [],
   "source": [
    "prior.mean"
   ]
  },
  {
   "cell_type": "code",
   "execution_count": null,
   "metadata": {},
   "outputs": [],
   "source": [
    "prior.std"
   ]
  },
  {
   "cell_type": "code",
   "execution_count": null,
   "metadata": {},
   "outputs": [],
   "source": [
    "labels_ = viz.get_labels_8pt(params)\n",
    "high_p_path_mod = deepcopy(high_p_path)\n",
    "seeds = [8, 8, 8, 8, 8]\n",
    "offsets = 39000 * np.ones_like(seeds)\n",
    "#offsets[0] = 47000\n",
    "offsets[1] = 83500 # 75500\n",
    "offsets[2] = 29000 # 21000\n",
    "offsets[3] = 40500 # 40500\n",
    "dimensions_to_use2D = [6,7]\n",
    "\n",
    "with mpl.rc_context(fname='../.matplotlibrc'):\n",
    "\n",
    "    fig = viz.viz_path_and_samples_abstract_twoRows(posterior_MoG=posterior_MAF, high_p_path=high_p_path_mod, ortho_path=ortho_path_mod, prior=prior, lims=lims, samples=samples_MAF,\n",
    "                                                    figsize=(5.87, 3.0), offsets=offsets, linescale=1.5, ticks=False, no_contours=True, labels_params=labels_, start_point=high_p_path.start_point,\n",
    "                                                    end_point=high_p_path.end_point, ortho_p_indizes=ortho_p_indizes, high_p_indizes=high_p_indizes, mycols=col, time_len=int(time_len),\n",
    "                                                    path1=high_p_path_mod.path_coords, path_steps1=1, path2=ortho_path_mod.path_coords, path_steps2=1, dimensions_to_use=dimensions_to_use2D, #ax=ax,\n",
    "                                                    seeds=seeds, indizes=[0], hyperparams=params, date_today='190910_80start', case='ortho_p', save_fig=False)\n",
    "    #plt.savefig(PANEL_D, facecolor='None', transparent=True, dpi=300, bbox_inches='tight')\n",
    "    plt.show()"
   ]
  },
  {
   "cell_type": "markdown",
   "metadata": {},
   "source": [
    "# Assemble figure"
   ]
  },
  {
   "cell_type": "code",
   "execution_count": null,
   "metadata": {},
   "outputs": [],
   "source": [
    "color_mixture = 0.5 * (np.asarray(list(col['CONSISTENT1'])) + np.asarray(list(col['CONSISTENT2'])))"
   ]
  },
  {
   "cell_type": "code",
   "execution_count": null,
   "metadata": {},
   "outputs": [],
   "source": [
    "import time\n",
    "import IPython.display as IPd\n",
    "\n",
    "def svg(img):\n",
    "    IPd.display(IPd.HTML('<img src=\"{}\" / >'.format(img, time.time())))"
   ]
  },
  {
   "cell_type": "code",
   "execution_count": null,
   "metadata": {},
   "outputs": [],
   "source": [
    "from svgutils.compose import *\n",
    "\n",
    "# > Inkscape pixel is 1/90 of an inch, other software usually uses 1/72.\n",
    "# > http://www.inkscapeforum.com/viewtopic.php?f=6&t=5964\n",
    "svg_scale = 1.25  # set this to 1.25 for Inkscape, 1.0 otherwise\n",
    "factor_svg=5.5\n",
    "\n",
    "# Panel letters in Helvetica Neue, 12pt, Medium\n",
    "kwargs_text = {'size': '12pt', 'font': 'Arial', 'weight': '800'}\n",
    "kwargs_consistent = {'size': '10pt', 'font': 'Arial', 'weight': '500', 'color': '#AF99EF'}\n",
    "kwargs_consistent1 = {'size': '10pt', 'font': 'Arial', 'weight': '500', 'color': '#9E7DD5'}\n",
    "kwargs_inconsistent = {'size': '10pt', 'font': 'Arial', 'weight': '500', 'color': '#D73789'}\n",
    "kwargs_text8pt = {'size': '7.7pt', 'font': 'Arial'}\n",
    "\n",
    "startx1 = 492\n",
    "startx2 = 594\n",
    "starty1 = 204\n",
    "starty2 = 307\n",
    "\n",
    "endx1 = 642\n",
    "endx2 = 673\n",
    "endy1 = 159\n",
    "endy2 = 191\n",
    "\n",
    "deltax1 =  endx1-startx1\n",
    "deltax2 =  endx2-startx2\n",
    "deltay1 =  endy1-starty1\n",
    "deltay2 =  endy2-starty2\n",
    "\n",
    "sizefactor = 1.0\n",
    "dshift = 0.5*factor_svg\n",
    "\n",
    "f = Figure(\"20.3cm\", \"9.1cm\",\n",
    "\n",
    "    Line(((startx1,starty1+dshift),(startx1+deltax1*sizefactor,starty1+dshift+deltay1*sizefactor)), width=1.5, color='grey'),\n",
    "    Line(((startx2,starty2+dshift),(startx2+deltax2*sizefactor,starty2+dshift+deltay2*sizefactor)), width=1.5, color='grey'),\n",
    "           \n",
    "    Panel(\n",
    "          SVG(PANEL_A).scale(svg_scale).scale(0.9).move(0, 15*factor_svg),\n",
    "          Text(\"a\", -2.7*factor_svg, 16.9*factor_svg-dshift, **kwargs_text),\n",
    "    ).move(2.7*factor_svg, -14.4*factor_svg+dshift),\n",
    "           \n",
    "    Panel(\n",
    "        SVG(PANEL_B).scale(svg_scale).move(0*factor_svg, 0*factor_svg),\n",
    "        Text(\"b\", -6.0*factor_svg, 5*factor_svg-dshift, **kwargs_text),\n",
    "       Text(\"PD\", -1.*factor_svg+0.0, 8.2*factor_svg, **kwargs_text8pt),\n",
    "       Text(\"LP\", -1.*factor_svg+0.0, 13.4*factor_svg, **kwargs_text8pt),\n",
    "       Text(\"PY\", -1.*factor_svg+0.0, 18.6*factor_svg, **kwargs_text8pt),\n",
    "        \n",
    "        #Text(\"Period\", 15.5*factor_svg+0.0, 2.8*factor_svg, **kwargs_text8pt),\n",
    "        #Text(\"Delay\", 11.3*factor_svg+0.0, 9.6*factor_svg, **kwargs_text8pt),\n",
    "        #Text(\"Gap\", 27.5*factor_svg+0.0, 9.6*factor_svg, **kwargs_text8pt),\n",
    "        #Text(\"Duration\", 19.2*factor_svg+0.0, 13.8*factor_svg, **kwargs_text8pt),\n",
    "        Text(\"1\", 17.45*factor_svg+0.0, 4.5*factor_svg, **kwargs_text8pt),\n",
    "        Text(\"2\", 13.1*factor_svg+0.0, 10.6*factor_svg, **kwargs_text8pt),\n",
    "        Text(\"3\", 28.75*factor_svg+0.0, 10.6*factor_svg, **kwargs_text8pt),\n",
    "        Text(\"4\", 21.7*factor_svg+0.0, 15.4*factor_svg, **kwargs_text8pt),\n",
    "       #Text(\"50 mV\", 39.4*factor_svg, 25*factor_svg, **kwargs_text8pt),\n",
    "       #Text(\"50 mV\", 32.0*factor_svg, 4.8*factor_svg, **kwargs_text8pt),\n",
    "       Text(\"500 ms\", 3.2*factor_svg, 22.5*factor_svg, **kwargs_text8pt),\n",
    "    ).move(37.8*factor_svg, -2.5*factor_svg+dshift),\n",
    "    \n",
    "    Panel(\n",
    "          SVG(PANEL_C).scale(svg_scale).move(-10*factor_svg,0*factor_svg),\n",
    "          Text(\"c\", -11.5*factor_svg, 2.7*factor_svg-dshift, **kwargs_text),\n",
    "    ).move(90.1*factor_svg, -0.2*factor_svg+dshift),\n",
    "           \n",
    "    Panel(\n",
    "          SVG(PANEL_C2).scale(svg_scale).move(-10*factor_svg,0*factor_svg),\n",
    "        #Text(\"1\", 3.1*factor_svg, 5.2*factor_svg, **kwargs_consistent1),\n",
    "        Text(\"1\", 11.2*factor_svg, 11.3*factor_svg, **kwargs_consistent1),\n",
    "        Text(\"2\", 7.5*factor_svg, 6.7*factor_svg, **kwargs_inconsistent),\n",
    "    ).move(90*factor_svg, 35.2*factor_svg+dshift),\n",
    "\n",
    "    Panel(\n",
    "          SVG(PANEL_D).scale(svg_scale).move(0*factor_svg, 0*factor_svg),\n",
    "          Text(\"d\", 0*factor_svg, 3.5*factor_svg-dshift, **kwargs_text),\n",
    "        #Text(\"1\", 41.5*factor_svg, 4*factor_svg, **kwargs_consistent),\n",
    "        Text(\"1\", 4*factor_svg, 23.5*factor_svg, **kwargs_consistent1),\n",
    "        Text(\"2\", 41.5*factor_svg, 23.5*factor_svg, **kwargs_inconsistent),\n",
    "        Text(\"50 mV\", 68.4*factor_svg, 4*factor_svg, **kwargs_text8pt),\n",
    "    ).move(0*factor_svg, 23.2*factor_svg+dshift)\n",
    "\n",
    ")\n",
    "\n",
    "!mkdir -p fig\n",
    "f.save(\"fig/fig8_stg_31D.svg\")\n",
    "svg('fig/fig8_stg_31D.svg')"
   ]
  },
  {
   "cell_type": "code",
   "execution_count": null,
   "metadata": {},
   "outputs": [],
   "source": [
    "\n",
    "\n",
    "\n",
    "\n",
    "\n",
    "\n",
    "\n",
    "\n",
    "\n",
    "\n",
    "\n",
    "\n",
    "\n",
    "\n",
    "\n",
    "\n",
    "\n",
    "\n",
    "\n",
    "\n",
    "\n",
    "\n",
    "\n",
    "\n",
    "\n",
    "\n",
    "\n",
    "\n",
    "\n",
    "\n",
    "\n",
    "\n",
    "\n",
    "\n",
    "\n",
    "\n",
    "\n",
    "\n",
    "\n",
    "\n",
    "\n",
    "\n"
   ]
  },
  {
   "cell_type": "code",
   "execution_count": null,
   "metadata": {},
   "outputs": [],
   "source": []
  },
  {
   "cell_type": "code",
   "execution_count": null,
   "metadata": {},
   "outputs": [],
   "source": []
  }
 ],
 "metadata": {
  "kernelspec": {
   "display_name": "ind2",
   "language": "python",
   "name": "ind2"
  },
  "language_info": {
   "codemirror_mode": {
    "name": "ipython",
    "version": 3
   },
   "file_extension": ".py",
   "mimetype": "text/x-python",
   "name": "python",
   "nbconvert_exporter": "python",
   "pygments_lexer": "ipython3",
   "version": "3.7.9"
  }
 },
 "nbformat": 4,
 "nbformat_minor": 4
}
