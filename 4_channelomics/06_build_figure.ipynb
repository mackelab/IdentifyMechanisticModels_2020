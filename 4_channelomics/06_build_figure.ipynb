{
 "cells": [
  {
   "cell_type": "markdown",
   "metadata": {},
   "source": [
    "# Figures"
   ]
  },
  {
   "cell_type": "code",
   "execution_count": 1,
   "metadata": {},
   "outputs": [],
   "source": [
    "import dill as pickle\n",
    "import matplotlib as mpl\n",
    "import matplotlib.pyplot as plt\n",
    "import numpy as np\n",
    "import os\n",
    "import seaborn as sns\n",
    "%matplotlib inline\n",
    "\n",
    "import sys; sys.path.append('../')\n",
    "from common import col, svg, plot_pdf\n",
    "\n",
    "from box import Box\n",
    "from common import plot_pdf, samples_nd, col, svg\n",
    "from support_files.pickle_macos import pickle_load\n",
    "from tqdm import tqdm\n",
    "\n",
    "%matplotlib inline\n",
    "\n",
    "dats = pickle.load(open('support_files/manualfit_params.pkl', 'rb'))\n",
    "mats = Box(pickle_load('support_files/pow1_mats_comp.pkl'))\n",
    "protocols = ['ap', 'act', 'inact', 'deact', 'ramp']\n",
    "\n",
    "!mkdir -p svg/"
   ]
  },
  {
   "cell_type": "markdown",
   "metadata": {},
   "source": [
    "## Panel for model curves"
   ]
  },
  {
   "cell_type": "code",
   "execution_count": 2,
   "metadata": {},
   "outputs": [],
   "source": [
    "df = pickle.load(open('./support_files/manualfit_curves_complete_df.pkl','rb'))"
   ]
  },
  {
   "cell_type": "code",
   "execution_count": 3,
   "metadata": {},
   "outputs": [
    {
     "data": {
      "text/html": [
       "<div>\n",
       "<style scoped>\n",
       "    .dataframe tbody tr th:only-of-type {\n",
       "        vertical-align: middle;\n",
       "    }\n",
       "\n",
       "    .dataframe tbody tr th {\n",
       "        vertical-align: top;\n",
       "    }\n",
       "\n",
       "    .dataframe thead th {\n",
       "        text-align: right;\n",
       "    }\n",
       "</style>\n",
       "<table border=\"1\" class=\"dataframe\">\n",
       "  <thead>\n",
       "    <tr style=\"text-align: right;\">\n",
       "      <th></th>\n",
       "      <th>Name</th>\n",
       "      <th>Type</th>\n",
       "      <th>Variable</th>\n",
       "      <th>Group</th>\n",
       "      <th>Trace</th>\n",
       "    </tr>\n",
       "  </thead>\n",
       "  <tbody>\n",
       "    <tr>\n",
       "      <th>3375</th>\n",
       "      <td>./raw_data/K/3434_khva.mod/khva.n.inf.dat</td>\n",
       "      <td>K</td>\n",
       "      <td>INF</td>\n",
       "      <td>PS</td>\n",
       "      <td>0    [[0.0, 0.0, 0.0, 0.0, 0.0, 0.0, 0.0, 0.0,...</td>\n",
       "    </tr>\n",
       "    <tr>\n",
       "      <th>7370</th>\n",
       "      <td>./raw_data/K/3434_khva.mod/khva.n.tau.dat</td>\n",
       "      <td>K</td>\n",
       "      <td>TAU</td>\n",
       "      <td>UNKOWN</td>\n",
       "      <td>0    [[0.05, 0.06, 0.08, 0.1, 0.13, 0.16, 0.2,...</td>\n",
       "    </tr>\n",
       "  </tbody>\n",
       "</table>\n",
       "</div>"
      ],
      "text/plain": [
       "                                           Name Type Variable   Group  \\\n",
       "3375  ./raw_data/K/3434_khva.mod/khva.n.inf.dat    K      INF      PS   \n",
       "7370  ./raw_data/K/3434_khva.mod/khva.n.tau.dat    K      TAU  UNKOWN   \n",
       "\n",
       "                                                  Trace  \n",
       "3375  0    [[0.0, 0.0, 0.0, 0.0, 0.0, 0.0, 0.0, 0.0,...  \n",
       "7370  0    [[0.05, 0.06, 0.08, 0.1, 0.13, 0.16, 0.2,...  "
      ]
     },
     "execution_count": 3,
     "metadata": {},
     "output_type": "execute_result"
    }
   ],
   "source": [
    "channel = df[(df['Name'].str.contains(\"khva\"))]\n",
    "channel"
   ]
  },
  {
   "cell_type": "code",
   "execution_count": 4,
   "metadata": {},
   "outputs": [
    {
     "data": {
      "image/png": "[encoded data removed]",
      "text/plain": [
       "<Figure size 177.165x98.4252 with 1 Axes>"
      ]
     },
     "metadata": {},
     "output_type": "display_data"
    },
    {
     "data": {
      "image/png": "[encoded data removed]",
      "text/plain": [
       "<Figure size 177.165x98.4252 with 1 Axes>"
      ]
     },
     "metadata": {},
     "output_type": "display_data"
    }
   ],
   "source": [
    "color = 'black'\n",
    "\n",
    "traces = {}\n",
    "traces['inf'] = channel.iloc[0]['Trace'][0].T\n",
    "traces['tau'] = channel.iloc[1]['Trace'][0].T\n",
    "\n",
    "V = np.linspace(-150,150,61)\n",
    "\n",
    "for name, trace in traces.items():\n",
    "    with mpl.rc_context(fname='../.matplotlibrc'):\n",
    "        plt.figure(figsize=(4.5/2.54, 2.5/2.54))\n",
    "\n",
    "        plt.plot(V, trace, color=color)\n",
    "\n",
    "        plt.xlim([-150, 150])\n",
    "        plt.xticks([-150, 0, 150], ['-150', '0', '150 mV'])\n",
    "        plt.xlabel('')\n",
    "\n",
    "        plt.yticks([])\n",
    "        plt.ylabel(r'$\\infty_{gate}$' if name == 'inf' else r'$\\tau_{gate}$')\n",
    "\n",
    "        sns.despine(left=True, offset=5)\n",
    "\n",
    "        plt.savefig('svg/panel_model_{}.svg'.format(name), transparent=True)"
   ]
  },
  {
   "cell_type": "markdown",
   "metadata": {},
   "source": [
    "## Panels for traces and posterior"
   ]
  },
  {
   "cell_type": "code",
   "execution_count": 5,
   "metadata": {},
   "outputs": [],
   "source": [
    "import matplotlib.pyplot as plt\n",
    "import numpy as np\n",
    "import os\n",
    "import dill as pickle\n",
    "\n",
    "from delfi.distribution import TransformedNormal\n",
    "from model.ChannelOmni import ChannelOmni\n",
    "from model.ChannelOmniStats import ChannelOmniStats as ChannelStats\n",
    "from support_files.pickle_macos import pickle_load\n",
    "from scipy.optimize import minimize\n",
    "\n",
    "from support_files.pickle_macos import pickle_load\n",
    "from box import Box\n",
    "\n",
    "mats = Box(pickle_load('support_files/pow1_mats_comp.pkl'))"
   ]
  },
  {
   "cell_type": "markdown",
   "metadata": {},
   "source": [
    "### Inference on example channel"
   ]
  },
  {
   "cell_type": "code",
   "execution_count": null,
   "metadata": {},
   "outputs": [],
   "source": [
    "ix = idx_chan = 120\n",
    "name_gt = mats['ap']['names'][idx_chan]\n",
    "print(name_gt)\n",
    "    \n",
    "trace_gt = {\n",
    "    'v_act':   {'data' : mats['act']['data'][idx_chan,   6:, 1:].T, 'time' : mats['act']['data'][idx_chan,   6:, 0].T},\n",
    "    'v_inact': {'data' : mats['inact']['data'][idx_chan, 6:, 1:].T, 'time' : mats['inact']['data'][idx_chan,   6:, 0].T},\n",
    "    'v_deact': {'data' : mats['deact']['data'][idx_chan, 6:, 1:].T, 'time' : mats['deact']['data'][idx_chan,   6:, 0].T},\n",
    "    'v_ap':    {'data' : mats['ap']['data'][idx_chan,    6:, 1:].T, 'time' : mats['ap']['data'][idx_chan,   6:, 0].T},\n",
    "    'v_ramp':  {'data' : mats['ramp']['data'][idx_chan,  6:, 1:].T, 'time' : mats['ramp']['data'][idx_chan,   6:, 0].T},\n",
    "}\n",
    "\n",
    "stats_gt = s.calc([trace_gt])\n",
    "stats_gt_norm = stats_gt\n",
    "posterior = res.predict(stats_gt_norm.astype(np.float32), deterministic=True)"
   ]
  },
  {
   "cell_type": "markdown",
   "metadata": {},
   "source": [
    "### GT"
   ]
  },
  {
   "cell_type": "code",
   "execution_count": null,
   "metadata": {},
   "outputs": [],
   "source": [
    "protocols = ['ap', 'act', 'ramp']  # ['ap', 'act', 'inact', 'deact', 'ramp']\n",
    "\n",
    "with mpl.rc_context(fname='../.matplotlibrc'):\n",
    "    plt.figure(figsize=(12/2.54, 2.5/2.54))\n",
    "\n",
    "    for p, protocol in enumerate(protocols):      \n",
    "        plt.subplot(1, 3, p+1)\n",
    "        mat = mats[protocol].data[ix,:,:]\n",
    "        \n",
    "        #plt.title(\"{1} : {0}\".format(protocol, mats[protocol].names[ix]))\n",
    "        \n",
    "        if p == 0:\n",
    "            plt.ylabel('current')\n",
    "            \n",
    "        if p == 1:\n",
    "            plt.title('observation')\n",
    "\n",
    "        cm = sns.light_palette(col['GT'], mat.shape[1])\n",
    "                \n",
    "        N = mat.shape[1]-1\n",
    "        if N == 1:\n",
    "            plt.gca().set_prop_cycle('color',[cm[-1]])\n",
    "        else:\n",
    "            plt.gca().set_prop_cycle('color',cm)\n",
    "        \n",
    "        plt.plot(trace_gt['v_' + protocol]['time'], trace_gt['v_' + protocol]['data'].T, linewidth=1.);  # usually 1.5\n",
    "\n",
    "        plt.xticks([])\n",
    "        plt.yticks([])\n",
    "        sns.despine(left=True, bottom=True, offset=5)\n",
    "\n",
    "        plt.plot([0., 100.],[-0.1, -0.1], color='k', linewidth=2)\n",
    "        plt.text(0.0, -0.4, '100ms', fontsize=8)\n",
    "\n",
    "    PANEL_GT = 'svg/posterior_gt.svg'\n",
    "    plt.savefig(PANEL_GT, transparent=True)\n",
    "    #plt.close()\n",
    "    \n",
    "#svg(PANEL_GT)"
   ]
  },
  {
   "cell_type": "markdown",
   "metadata": {},
   "source": [
    "### Sample 1"
   ]
  },
  {
   "cell_type": "code",
   "execution_count": null,
   "metadata": {},
   "outputs": [],
   "source": [
    "# Sample (via posterior.gen(1))\n",
    "sam1 = np.array([[ 1.26382307e-01,  2.34724258e+00, -7.33582510e+01,\n",
    "         8.95541459e+02,  4.39435624e-01,  8.46091437e-04,\n",
    "         1.50227734e-02,  5.05728615e-04]])\n",
    "trace_sam1 = m.gen_single(sam1.reshape(-1))\n",
    "\n",
    "protocols = ['ap', 'act', 'ramp']  # ['ap', 'act', 'inact', 'deact', 'ramp']\n",
    "\n",
    "gt_col = (35/255, 86/255, 167/255)\n",
    "\n",
    "with mpl.rc_context(fname='../.matplotlibrc'):\n",
    "    plt.figure(figsize=(12/2.54, 2.5/2.54))\n",
    "\n",
    "    for p, protocol in enumerate(protocols):      \n",
    "        plt.subplot(1, 3, p+1)\n",
    "        mat = mats[protocol].data[ix,:,:]\n",
    "        \n",
    "        #plt.title(\"{1} : {0}\".format(protocol, mats[protocol].names[ix]))\n",
    "        \n",
    "        if p == 0:\n",
    "            plt.ylabel('current')\n",
    "        \n",
    "        if p == 1:\n",
    "            plt.title('sample 1')\n",
    "        \n",
    "        cm = sns.light_palette(col['CONSISTENT1'], mat.shape[1])\n",
    "            \n",
    "        N = mat.shape[1]-1\n",
    "        if N == 1:\n",
    "            plt.gca().set_prop_cycle('color',[cm[-1]])\n",
    "        else:\n",
    "            plt.gca().set_prop_cycle('color',cm)\n",
    "\n",
    "        plt.plot(trace_sam1['v_' + protocol]['time'], trace_sam1['v_' + protocol]['data'].T, linewidth=1.);  # usually 1.5\n",
    "\n",
    "        plt.xticks([])\n",
    "        plt.yticks([])\n",
    "        sns.despine(left=True, bottom=True, offset=5)\n",
    "\n",
    "        #plt.plot([0., 100.],[-0.1, -0.1], color='k', linewidth=2)\n",
    "        #plt.text(0.0, -0.4, '100ms', fontsize=8)\n",
    "\n",
    "    PANEL_SAM1 = 'svg/posterior_sam1.svg'\n",
    "    plt.savefig(PANEL_SAM1, transparent=True)\n",
    "    plt.show()\n",
    "    \n",
    "#svg(PANEL_SAM1)"
   ]
  },
  {
   "cell_type": "markdown",
   "metadata": {},
   "source": [
    "### Sample 2"
   ]
  },
  {
   "cell_type": "code",
   "execution_count": null,
   "metadata": {},
   "outputs": [],
   "source": [
    "# Sample (via posterior.gen(1))\n",
    "sam2 = np.array([[ 1.45095758e-01,  2.42705041e+00, -3.21785190e+01,\n",
    "         8.16976505e+02,  1.36955244e-01,  2.05773538e-03,\n",
    "         1.35503283e-01, -1.56107865e-04]])\n",
    "trace_sam2 = m.gen_single(sam2.reshape(-1))\n",
    "\n",
    "protocols = ['ap', 'act', 'ramp']  # ['ap', 'act', 'inact', 'deact', 'ramp']\n",
    "\n",
    "gt_col = (35/255, 86/255, 167/255)\n",
    "\n",
    "with mpl.rc_context(fname='../.matplotlibrc'):\n",
    "    plt.figure(figsize=(12/2.54, 2.5/2.54))\n",
    "\n",
    "    for p, protocol in enumerate(protocols):      \n",
    "        plt.subplot(1, 3, p+1)\n",
    "        mat = mats[protocol].data[ix,:,:]\n",
    "        \n",
    "        #plt.title(\"{1} : {0}\".format(protocol, mats[protocol].names[ix]))\n",
    "        \n",
    "        if p == 1:\n",
    "            plt.title('sample 2')\n",
    "            \n",
    "        if p == 0:\n",
    "            plt.ylabel('current')\n",
    "        \n",
    "        \n",
    "        cm = sns.light_palette(col['CONSISTENT2'], mat.shape[1])\n",
    "                \n",
    "        N = mat.shape[1]-1\n",
    "        if N == 1:\n",
    "            plt.gca().set_prop_cycle('color',[cm[-1]])\n",
    "        else:\n",
    "            plt.gca().set_prop_cycle('color',cm)\n",
    "\n",
    "        plt.plot(trace_sam2['v_' + protocol]['time'], trace_sam2['v_' + protocol]['data'].T, linewidth=1.);  # usually 1.5\n",
    "\n",
    "        plt.xticks([])\n",
    "        plt.yticks([])\n",
    "        sns.despine(left=True, bottom=True, offset=5)\n",
    "\n",
    "        #plt.plot([0., 100.],[-0.1, -0.1], color='k', linewidth=2)\n",
    "        #plt.text(0.0, -0.4, '100ms', fontsize=8)\n",
    "        \n",
    "        sns.despine(left=True, bottom=True, offset=5)\n",
    "\n",
    "\n",
    "    PANEL_SAM2 = 'svg/posterior_sam2.svg'\n",
    "    plt.savefig(PANEL_SAM2, transparent=True)\n",
    "    #plt.close()\n",
    "    plt.show()\n",
    "    \n",
    "#svg(PANEL_SAM2)"
   ]
  },
  {
   "cell_type": "markdown",
   "metadata": {},
   "source": [
    "### Outlier"
   ]
  },
  {
   "cell_type": "code",
   "execution_count": null,
   "metadata": {},
   "outputs": [],
   "source": [
    "out = [ 0.5,  8.,  80.,  500, 0.4, 0.04, 0.4, 0.04]\n",
    "params_out = out\n",
    "trace_out = m.gen_single(params_out)\n",
    "\n",
    "protocols = ['ap', 'act', 'ramp']  # ['ap', 'act', 'inact', 'deact', 'ramp']\n",
    "\n",
    "gt_col = (35/255, 86/255, 167/255)\n",
    "\n",
    "with mpl.rc_context(fname='../.matplotlibrc'):\n",
    "    plt.figure(figsize=(12/2.54, 2.5/2.54))\n",
    "\n",
    "    for p, protocol in enumerate(protocols):      \n",
    "        plt.subplot(1, 3, p+1)\n",
    "        mat = mats[protocol].data[ix,:,:]\n",
    "        \n",
    "        #plt.title(\"{1} : {0}\".format(protocol, mats[protocol].names[ix]))\n",
    "        \n",
    "        if p == 0:\n",
    "            plt.ylabel('current')\n",
    "\n",
    "        if p == 1:\n",
    "            plt.title('outlier')\n",
    "        \n",
    "        cm = sns.light_palette(col['INCONSISTENT'], mat.shape[1])\n",
    "                \n",
    "        N = mat.shape[1]-1\n",
    "        if N == 1:\n",
    "            plt.gca().set_prop_cycle('color',[cm[-1]])\n",
    "        else:\n",
    "            plt.gca().set_prop_cycle('color',cm)\n",
    "\n",
    "        plt.plot(trace_out['v_' + protocol]['time'], trace_out['v_' + protocol]['data'].T, linewidth=1.);  # usually 1.5\n",
    "\n",
    "        plt.xticks([])\n",
    "        plt.yticks([])\n",
    "        sns.despine(left=True, bottom=True, offset=5)\n",
    "\n",
    "        plt.plot([0., 100.],[-0.1, -0.1], color='k', linewidth=2)\n",
    "        plt.text(0.0, -0.4, '100ms', fontsize=8)\n",
    "\n",
    "    PANEL_OUT = 'svg/posterior_out.svg'\n",
    "    plt.savefig(PANEL_OUT, transparent=True)\n",
    "    #plt.close()\n",
    "    \n",
    "#svg(PANEL_OUT)"
   ]
  },
  {
   "cell_type": "markdown",
   "metadata": {},
   "source": [
    "### Posterior (main paper and supplement)"
   ]
  },
  {
   "cell_type": "code",
   "execution_count": null,
   "metadata": {},
   "outputs": [],
   "source": [
    "from delfi.utils.viz import samples_nd\n",
    "\n",
    "# For supplement\n",
    "fig_inches = (5.8, 5.8)\n",
    "\n",
    "MPL_RC = '../.matplotlibrc'\n",
    "with mpl.rc_context(fname=MPL_RC):\n",
    "    fig, axes = samples_nd(posterior.gen(25000),\n",
    "                           limits=prior_lims,\n",
    "                           ticks=prior_lims,\n",
    "                           labels=[f'$\\\\theta_{i}$' for i in range(1,9)],\n",
    "                           fig_size=fig_inches,\n",
    "                           diag='kde',\n",
    "                           upper='kde',\n",
    "                           hist_diag={'bins': 50},\n",
    "                           hist_offdiag={'bins': 50},\n",
    "                           kde_diag={'bins': 50, 'color': col['SNPE']},\n",
    "                           kde_offdiag={'bins': 50},\n",
    "                           points=[sam1, sam2, out],\n",
    "                           points_offdiag={'markersize': 5},\n",
    "                           points_colors=[col['CONSISTENT1'], col['CONSISTENT2'], col['INCONSISTENT']],\n",
    "                           subset=[0,1,2,3,4,5]\n",
    "    );\n",
    "\n",
    "    plt.savefig('svg/posterior_partial.svg', facecolor='None', transparent=True)\n",
    "    plt.show()"
   ]
  },
  {
   "cell_type": "code",
   "execution_count": null,
   "metadata": {},
   "outputs": [],
   "source": [
    "from delfi.utils.viz import samples_nd\n",
    "\n",
    "# For supplement\n",
    "fig_inches = (3.8, 3.8)\n",
    "\n",
    "MPL_RC = '../.matplotlibrc'\n",
    "with mpl.rc_context(fname=MPL_RC):\n",
    "    fig, axes = samples_nd(posterior.gen(25000),\n",
    "                           limits=prior_lims,\n",
    "                           ticks=prior_lims,\n",
    "                           labels=[f'$\\\\theta_{i}$' for i in range(1,9)],\n",
    "                           fig_size=fig_inches,\n",
    "                           diag='kde',\n",
    "                           upper='kde',\n",
    "                           hist_diag={'bins': 50},\n",
    "                           hist_offdiag={'bins': 50},\n",
    "                           kde_diag={'bins': 50, 'color': col['SNPE']},\n",
    "                           kde_offdiag={'bins': 50},\n",
    "                           points=[sam1, sam2, out],\n",
    "                           points_offdiag={'markersize': 5},\n",
    "                           points_colors=[col['CONSISTENT1'], col['CONSISTENT2'], col['INCONSISTENT']],\n",
    "    );\n",
    "\n",
    "    plt.savefig('svg/posterior_full.svg', facecolor='None', transparent=True)\n",
    "    plt.show()"
   ]
  },
  {
   "cell_type": "markdown",
   "metadata": {},
   "source": [
    "### Compose"
   ]
  },
  {
   "cell_type": "code",
   "execution_count": null,
   "metadata": {},
   "outputs": [],
   "source": [
    "from svgutils.compose import *\n",
    "\n",
    "# > Inkscape pixel is 1/90 of an inch, other software usually uses 1/72.\n",
    "# > http://www.inkscapeforum.com/viewtopic.php?f=6&t=5964\n",
    "svg_scale = 1.25  # set this to 1.25 for Inkscape, 1.0 otherwise\n",
    "\n",
    "# Panel letters in Helvetica Neue, 12pt, Medium\n",
    "kwargs_text = {'size': '12pt', 'font': 'Arial', 'weight': '800'}\n",
    "\n",
    "pxw = 720\n",
    "pxh = 760\n",
    "\n",
    "\n",
    "f = Figure(\"20.3cm\", \"22cm\",\n",
    "    #Grid(25, 25),\n",
    "\n",
    "    Panel(\n",
    "          SVG(\"../fig4_channelomics/illustration/illustration_a.svg\").scale(svg_scale).move(20,0),\n",
    "          Text(\"C\", 0, 13, **kwargs_text),\n",
    "    ).move(0, 115),\n",
    "           \n",
    "    Panel(\n",
    "          SVG(\"../fig4_channelomics/illustration/illustration_b.svg\").scale(svg_scale).move(19,0),\n",
    "          Text(\"D\", 0, 13, **kwargs_text),\n",
    "    ).move(pxw/2, 115),\n",
    "           \n",
    "    Panel(\n",
    "          SVG(\"svg/panel_model_inf.svg\").scale(svg_scale).move(5, -5),\n",
    "          SVG(\"svg/panel_model_tau.svg\").scale(svg_scale).move(190,-5),\n",
    "          Text(\"A\", 0, 18, **kwargs_text),\n",
    "    ).move(0, 0),\n",
    "\n",
    "    Panel(\n",
    "          SVG(\"svg/posterior_gt.svg\").scale(svg_scale).move(0,-5),\n",
    "          Text(\"B\", 0, 18, **kwargs_text),\n",
    "    ).move(pxw/2, 0),\n",
    "           \n",
    "    Panel(\n",
    "          SVG(\"svg/posterior_full.svg\").scale(svg_scale).move(35, 0),\n",
    "          Text(\"E\", -5, 23, **kwargs_text),\n",
    "    ).move(5, 265),\n",
    "\n",
    "    Panel(\n",
    "          SVG(\"svg/posterior_sam1.svg\").scale(svg_scale),\n",
    "          SVG(\"svg/posterior_sam2.svg\").scale(svg_scale).move(0, 93),\n",
    "          SVG(\"svg/posterior_out.svg\").scale(svg_scale).move(0, 182),\n",
    "          Text(\"F\", 2, 10, **kwargs_text),\n",
    "    ).move(pxw/2, 280),\n",
    "\n",
    "    Panel(\n",
    "          SVG(\"results/net_maf/svg/112.svg\").scale(svg_scale).move(5, -7),\n",
    "          SVG(\"results/net_maf/svg/289.svg\").scale(svg_scale).move(5, 120-12),\n",
    "          SVG(\"results/net_maf/svg/205.svg\").scale(svg_scale).move(pxw/2+20-10, -7),\n",
    "          SVG(\"results/net_maf/svg/27.svg\").scale(svg_scale).move(pxw/2+20-10, 120-12),\n",
    "          Text(\"G\", 0, 10, **kwargs_text),\n",
    "    ).move(0, 575),\n",
    ")\n",
    "\n",
    "f.save(\"fig/fig4_channelomics.svg\")\n",
    "svg(\"fig/fig4_channelomics.svg\")"
   ]
  }
 ],
 "metadata": {
  "kernel_info": {
   "name": "ind_channelomics"
  },
  "kernelspec": {
   "display_name": "Python 3",
   "language": "python",
   "name": "python3"
  },
  "language_info": {
   "codemirror_mode": {
    "name": "ipython",
    "version": 3
   },
   "file_extension": ".py",
   "mimetype": "text/x-python",
   "name": "python",
   "nbconvert_exporter": "python",
   "pygments_lexer": "ipython3",
   "version": "3.7.7"
  },
  "nteract": {
   "version": "0.12.3"
  }
 },
 "nbformat": 4,
 "nbformat_minor": 2
}
