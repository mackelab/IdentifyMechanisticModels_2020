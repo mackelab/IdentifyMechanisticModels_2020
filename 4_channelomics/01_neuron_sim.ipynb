{
 "cells": [
  {
   "cell_type": "markdown",
   "metadata": {},
   "source": [
    "# Step 1: Run NEURON simulations"
   ]
  },
  {
   "cell_type": "markdown",
   "metadata": {},
   "source": [
    "We will use ICG project code to run the protocols of the Podlaski et. al (2017) on a subset of non-inactivating K-channels. \n",
    "\n",
    "Two subsets of such channels were hand-selected by Chaitanya Chintaluri. The selection is stored in a pickled file in the subfolder `support_files`:"
   ]
  },
  {
   "cell_type": "code",
   "execution_count": null,
   "metadata": {},
   "outputs": [],
   "source": [
    "import pickle\n",
    "\n",
    "kvactonly = pickle.load(open('support_files/kvact_only.pkl', 'rb'))\n",
    "\n",
    "pow1 = kvactonly['pow1']\n",
    "pow4 = kvactonly['pow4']"
   ]
  },
  {
   "cell_type": "markdown",
   "metadata": {},
   "source": [
    "`pow1` contains filenames in which the gating variable appears to power 1, in `pow4` the gating variable appears to the fourth power. We will focus on the set of `pow1` channels, since iwe have more of those."
   ]
  },
  {
   "cell_type": "code",
   "execution_count": null,
   "metadata": {},
   "outputs": [],
   "source": [
    "print(len(pow1))\n",
    "print(len(pow4))"
   ]
  },
  {
   "cell_type": "markdown",
   "metadata": {},
   "source": [
    "We create subdirectories into which we will store the modfiles of the respective channels (modfiles are the NEURON models). We will download all modfiles in ICG by cloning a git repo. Then we pick out the ones from the selection:"
   ]
  },
  {
   "cell_type": "code",
   "execution_count": null,
   "metadata": {},
   "outputs": [],
   "source": [
    "!git clone https://github.com/icgenealogy/icg-channels-K\n",
    "!cd icg-channels-K && git checkout 926c5758a9ba6aec8092ac8e48d2f0c985114a37"
   ]
  },
  {
   "cell_type": "code",
   "execution_count": null,
   "metadata": {},
   "outputs": [],
   "source": [
    "import os\n",
    "\n",
    "!mkdir -p modfiles\n",
    "!mkdir -p modfiles/pow1\n",
    "\n",
    "# sort into subdirs\n",
    "channels = os.listdir(\"icg-channels-K/\")\n",
    "for chan in channels:\n",
    "    if chan in pow1:\n",
    "        !cp -n -r icg-channels-K/$chan/*.mod modfiles/pow1/"
   ]
  },
  {
   "cell_type": "markdown",
   "metadata": {},
   "source": [
    "There is a problem with the modfile of some channels, which we will delete:"
   ]
  },
  {
   "cell_type": "code",
   "execution_count": null,
   "metadata": {},
   "outputs": [],
   "source": [
    "!rm modfiles/pow1/112834_kir*\n",
    "!rm modfiles/pow1/150284_kir*\n",
    "!rm modfiles/pow1/151458_kir*\n",
    "!rm modfiles/pow1/121060_chan_KIR*"
   ]
  },
  {
   "cell_type": "markdown",
   "metadata": {},
   "source": [
    "Next, we clone the ICG repos needed for NEURON simulations. "
   ]
  },
  {
   "cell_type": "code",
   "execution_count": null,
   "metadata": {},
   "outputs": [],
   "source": [
    "!git clone https://github.com/icgenealogy/icg-nrn-sim.git\n",
    "!cd icg-nrn-sim && git checkout 4d58a1f40f779a99bd3146fda84a9acd59b07246"
   ]
  },
  {
   "cell_type": "code",
   "execution_count": null,
   "metadata": {},
   "outputs": [],
   "source": [
    "!git clone https://github.com/icgenealogy/icg-channels-customcode.git\n",
    "!cd icg-channels-customcode && git checkout 9b7b0ad0c7c18d121f2ec108a38735f4640c26d6"
   ]
  },
  {
   "cell_type": "code",
   "execution_count": null,
   "metadata": {},
   "outputs": [],
   "source": [
    "!cp -r icg-channels-customcode/* icg-nrn-sim/icg-channels-customcode/"
   ]
  },
  {
   "cell_type": "markdown",
   "metadata": {},
   "source": [
    "Setting up directories for the outputs that will be generated:"
   ]
  },
  {
   "cell_type": "code",
   "execution_count": null,
   "metadata": {},
   "outputs": [],
   "source": [
    "!mkdir -p modfiles_results\n",
    "!mkdir -p modfiles_results/pow1"
   ]
  },
  {
   "cell_type": "markdown",
   "metadata": {},
   "source": [
    "We need to define the basepath of the current directory (make sure to adjust this):"
   ]
  },
  {
   "cell_type": "code",
   "execution_count": null,
   "metadata": {},
   "outputs": [],
   "source": [
    "bp = '/home/jm/GitHub/mackelab/InferenceNeuralDynamics/fig4_channelomics/'"
   ]
  },
  {
   "cell_type": "markdown",
   "metadata": {},
   "source": [
    "We are ready to run NEURON on the subset of channels. We run the modfiles for `pow1` channels only. Running NEURON for all these modfiles may take a while. It requires a functioning NEURON setup on your machine."
   ]
  },
  {
   "cell_type": "code",
   "execution_count": null,
   "metadata": {},
   "outputs": [],
   "source": [
    "print('{bp}/icg-nrn-sim/runbatch.pl {bp}/modfiles/pow1 {bp}/icg-nrn-sim/kvconfig.in {bp}/modfiles_results/pow1'.format(bp=bp))"
   ]
  },
  {
   "cell_type": "code",
   "execution_count": null,
   "metadata": {
    "scrolled": false
   },
   "outputs": [],
   "source": [
    "# run models\n",
    "!$bp/icg-nrn-sim/runbatch.pl $bp/modfiles/pow1 $bp/icg-nrn-sim/kvconfig.in $bp/modfiles_results/pow1"
   ]
  },
  {
   "cell_type": "markdown",
   "metadata": {},
   "source": [
    "Once the simulation have run through, we keep `modfiles_results` only."
   ]
  },
  {
   "cell_type": "code",
   "execution_count": null,
   "metadata": {},
   "outputs": [],
   "source": [
    "# clean up\n",
    "\n",
    "!rm -rf icg-channels-K\n",
    "!rm -rf *.dat *.txt *.hoc *.in *.mod x86_64\n",
    "\n",
    "!rm -rf icg-nrn-sim\n",
    "!rm -rf modfiles"
   ]
  },
  {
   "cell_type": "markdown",
   "metadata": {},
   "source": [
    "Next, we will loop through the results files and store all traces in a pkl. We will use a special dict for it, that requires you to `pip install python-box`."
   ]
  },
  {
   "cell_type": "code",
   "execution_count": null,
   "metadata": {},
   "outputs": [],
   "source": [
    "from box import Box"
   ]
  },
  {
   "cell_type": "markdown",
   "metadata": {},
   "source": [
    "With that, you should be able to run:"
   ]
  },
  {
   "cell_type": "code",
   "execution_count": null,
   "metadata": {},
   "outputs": [],
   "source": [
    "import csv\n",
    "import glob\n",
    "import numpy as np\n",
    "import os\n",
    "\n",
    "protocols = ['ap', 'act', 'inact', 'deact', 'ramp']\n",
    "\n",
    "\n",
    "# function to load tab delim data from disc\n",
    "def get_matrix(file_path):\n",
    "    matrix = []\n",
    "    with open(file_path,'r') as f:\n",
    "        reader = csv.reader(f, delimiter='\\t')\n",
    "        for trow in reader:\n",
    "            row = []\n",
    "            for tcol in trow:\n",
    "                if tcol != '':\n",
    "                    row.append(float(tcol))\n",
    "            matrix.append(row)\n",
    "    return np.asarray(matrix)\n",
    "\n",
    "mats = Box()\n",
    "for protocol in protocols:\n",
    "    mats[protocol] = Box()\n",
    "    mats[protocol]['data'] = []\n",
    "    mats[protocol]['names'] = []\n",
    "    for fpath in sorted(glob.glob(bp + '/modfiles_results/pow1/*_' + protocol + '.i')):\n",
    "        mats[protocol].names.append(os.path.basename(fpath)[:-len(protocol)-3])\n",
    "        mats[protocol].data.append(get_matrix(fpath))\n",
    "    mats[protocol].data = np.asarray(mats[protocol].data)"
   ]
  },
  {
   "cell_type": "code",
   "execution_count": null,
   "metadata": {},
   "outputs": [],
   "source": [
    "from support_files.pickle_macos import pickle_dump\n",
    "\n",
    "pickle_dump(mats.to_dict(), 'support_files/pow1_mats_comp_lfs.pkl')"
   ]
  },
  {
   "cell_type": "markdown",
   "metadata": {},
   "source": [
    "Number of channels simulated:"
   ]
  },
  {
   "cell_type": "code",
   "execution_count": null,
   "metadata": {},
   "outputs": [],
   "source": [
    "len(mats.keys())"
   ]
  },
  {
   "cell_type": "markdown",
   "metadata": {},
   "source": [
    "Once that executed cleanly, we can get rid of `modfiles` and `modfiles_results` if we like:"
   ]
  },
  {
   "cell_type": "code",
   "execution_count": null,
   "metadata": {},
   "outputs": [],
   "source": [
    "!rm -rf modfiles\n",
    "!rm -rf modfiles_results"
   ]
  },
  {
   "cell_type": "markdown",
   "metadata": {},
   "source": [
    "Let's plot some traces:"
   ]
  },
  {
   "cell_type": "code",
   "execution_count": null,
   "metadata": {},
   "outputs": [],
   "source": [
    "from support_files.pickle_macos import pickle_load\n",
    "from box import Box\n",
    "\n",
    "mats = Box(pickle_load('support_files/pow1_mats_comp_lfs.pkl'))\n",
    "protocols = ['ap', 'act', 'inact', 'deact', 'ramp']"
   ]
  },
  {
   "cell_type": "code",
   "execution_count": null,
   "metadata": {},
   "outputs": [],
   "source": [
    "mats['ap']['data'].shape"
   ]
  },
  {
   "cell_type": "code",
   "execution_count": null,
   "metadata": {
    "scrolled": false
   },
   "outputs": [],
   "source": [
    "import matplotlib.pyplot as plt\n",
    "%matplotlib inline\n",
    "\n",
    "N = mats.ap.data.shape[0]\n",
    "\n",
    "assert mats.ap.data.shape[0] == mats.act.data.shape[0] == mats.inact.data.shape[0] == mats.deact.data.shape[0] == mats.ramp.data.shape[0]\n",
    "print('total N: {}'.format(N))\n",
    "\n",
    "plot_subset = True\n",
    "if plot_subset:\n",
    "    N = 18\n",
    "ncols = 6\n",
    "nrows = N//ncols+1\n",
    "\n",
    "for protocol in protocols:\n",
    "    print(protocol)\n",
    "   \n",
    "    plt.figure(figsize=(19, N//ncols*3))\n",
    "    for i in range(N):\n",
    "        plt.subplot(nrows, ncols, i+1)\n",
    "        mat = mats[protocol].data[i,:,:]\n",
    "        plt.title(mats[protocol].names[i])\n",
    "        plt.plot(mat[:,0], mat[:,1:]);  # first col are times, other cols are values\n",
    "        plt.axis('off')\n",
    "    plt.show()"
   ]
  }
 ],
 "metadata": {
  "jupytext": {
   "cell_metadata_filter": "-all",
   "main_language": "python",
   "notebook_metadata_filter": "-all"
  },
  "kernelspec": {
   "display_name": "Python 3",
   "language": "python",
   "name": "python3"
  },
  "language_info": {
   "codemirror_mode": {
    "name": "ipython",
    "version": 3
   },
   "file_extension": ".py",
   "mimetype": "text/x-python",
   "name": "python",
   "nbconvert_exporter": "python",
   "pygments_lexer": "ipython3",
   "version": "3.7.7"
  }
 },
 "nbformat": 4,
 "nbformat_minor": 2
}
