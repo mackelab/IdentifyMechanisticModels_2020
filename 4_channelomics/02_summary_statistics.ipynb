{
 "cells": [
  {
   "cell_type": "markdown",
   "metadata": {},
   "source": [
    "# Step 2: Creation of summary statistics"
   ]
  },
  {
   "cell_type": "markdown",
   "metadata": {},
   "source": [
    "We will use the resulting simulations to create PCA basis functions. For that, we load the traces from step 1."
   ]
  },
  {
   "cell_type": "markdown",
   "metadata": {},
   "source": [
    "Because the traces are greater than 2GB, we use a workaround."
   ]
  },
  {
   "cell_type": "code",
   "execution_count": null,
   "metadata": {},
   "outputs": [],
   "source": [
    "import matplotlib.pyplot as plt\n",
    "import numpy as np\n",
    "import pickle\n",
    "from support_files.pickle_macos import pickle_load\n",
    "from box import Box\n",
    "%matplotlib inline\n",
    "\n",
    "mats = pickle_load('support_files/pow1_mats_comp_lfs.pkl')\n",
    "mats = Box(mats)\n",
    "\n",
    "protocols = ['ap', 'act', 'inact', 'deact', 'ramp']"
   ]
  },
  {
   "cell_type": "markdown",
   "metadata": {},
   "source": [
    "Let's do the PCA:"
   ]
  },
  {
   "cell_type": "code",
   "execution_count": null,
   "metadata": {},
   "outputs": [],
   "source": [
    "from sklearn.decomposition import PCA as sklearnPCA\n",
    "from sklearn.preprocessing import StandardScaler\n",
    "\n",
    "N = mats.ap.data.shape[0]\n",
    "N_pcs = 10\n",
    "\n",
    "pcas = Box()"
   ]
  },
  {
   "cell_type": "code",
   "execution_count": null,
   "metadata": {},
   "outputs": [],
   "source": [
    "for protocol in protocols:    \n",
    "    v = mats[protocol].data[:,6:,1:].reshape(N, -1).T\n",
    "    \n",
    "    # Standardizing the features\n",
    "    v = StandardScaler().fit_transform(v)\n",
    "\n",
    "    skpca = sklearnPCA(n_components=N_pcs)\n",
    "    skpcs = skpca.fit_transform(v)\n",
    "\n",
    "    for c in range(skpcs.shape[1]):\n",
    "        skpcs[:,c] = skpcs[:,c]/np.linalg.norm(skpcs[:,c])\n",
    "\n",
    "    pcas[protocol] = Box()\n",
    "    pcas[protocol]['pcs'] = skpcs\n",
    "    pcas[protocol]['explained_var'] = np.sum(skpca.explained_variance_ratio_*100)\n",
    "\n",
    "    print('{}: explained variance {:.1f}%'.format(protocol, pcas[protocol]['explained_var']))"
   ]
  },
  {
   "cell_type": "code",
   "execution_count": null,
   "metadata": {},
   "outputs": [],
   "source": [
    "pickle.dump(pcas, open('./support_files/pow1_sumstats_lfs.pkl', 'wb'))"
   ]
  },
  {
   "cell_type": "code",
   "execution_count": null,
   "metadata": {},
   "outputs": [],
   "source": [
    "!cp ./support_files/pow1_sumstats_lfs.pkl model/pca/."
   ]
  },
  {
   "cell_type": "markdown",
   "metadata": {},
   "source": [
    "... and look at a reconstruction:"
   ]
  },
  {
   "cell_type": "code",
   "execution_count": null,
   "metadata": {},
   "outputs": [],
   "source": [
    "matching = [s for s in mats['ap'].names if \"2488\" in s]\n",
    "idx_2488kv = mats['ap'].names.index('2488_kv')\n",
    "\n",
    "# 2488kv reconstructions\n",
    "plt.figure(figsize=(19, 4)); i=0\n",
    "for protocol in protocols:   \n",
    "    a = pcas[protocol].pcs\n",
    "    a = np.hstack((a, np.ones((a.shape[0], 1))))   \n",
    "    b = mats[protocol].data[idx_2488kv, 6:,1:]\n",
    "    P = b.shape[1]\n",
    "    x, _, _, _ = np.linalg.lstsq(a, b.reshape(-1), rcond=None)\n",
    "\n",
    "    i += 1\n",
    "    plt.subplot(1, 5, i)\n",
    "    plt.title(protocol)\n",
    "    plt.plot(mats[protocol].data[0, 6:,0], b, color='b')\n",
    "    plt.plot(mats[protocol].data[0, 6:,0], np.dot(a, x).reshape(-1, P), alpha=0.8, color='r')\n",
    "    \n",
    "    if protocol == 'act':\n",
    "        pass\n",
    "    if protocol == 'inact':\n",
    "        pass"
   ]
  },
  {
   "cell_type": "markdown",
   "metadata": {},
   "source": [
    "Make sure to copy the `pow1_sumstats.pkl` to `model/pca/pow1_sumstats.pkl`."
   ]
  },
  {
   "cell_type": "markdown",
   "metadata": {},
   "source": [
    "## PCA testing"
   ]
  },
  {
   "cell_type": "code",
   "execution_count": null,
   "metadata": {},
   "outputs": [],
   "source": [
    "np.random.seed(44)\n",
    "X = np.random.rand(100, 5)\n",
    "X_std = StandardScaler().fit_transform(X)\n",
    "    \n",
    "pca = sklearnPCA(n_components=2)\n",
    "X_reduced = pca.fit_transform(X_std)\n",
    "\n",
    "# np\n",
    "x = X_std\n",
    "cov = np.cov(x, rowvar = False)\n",
    "evals , evecs = np.linalg.eigh(cov)\n",
    "idx = np.argsort(evals)[::-1]\n",
    "evecs = evecs[:,idx]\n",
    "evals = evals[idx]\n",
    "a = np.dot(x, evecs) \n",
    "\n",
    "\n",
    "for c in range(pca.n_components_):\n",
    "    print('component: {}'.format(c))\n",
    "    print('eigenvalue: {}'.format(pca.singular_values_[c]))\n",
    "    print('eigenvector (norm={:.3f}): {}'.format(np.linalg.norm(pca.components_[:,c]), pca.components_[:,c]))\n",
    "    print('dim red X norm={:.3f}\\n'.format(np.linalg.norm(X_reduced[:,c])))\n",
    "    \n",
    "    print(pca.pcs)"
   ]
  }
 ],
 "metadata": {
  "jupytext": {
   "cell_metadata_filter": "-all",
   "main_language": "python",
   "notebook_metadata_filter": "-all"
  },
  "kernelspec": {
   "display_name": "Python 3",
   "language": "python",
   "name": "python3"
  },
  "language_info": {
   "codemirror_mode": {
    "name": "ipython",
    "version": 3
   },
   "file_extension": ".py",
   "mimetype": "text/x-python",
   "name": "python",
   "nbconvert_exporter": "python",
   "pygments_lexer": "ipython3",
   "version": "3.7.7"
  }
 },
 "nbformat": 4,
 "nbformat_minor": 2
}
