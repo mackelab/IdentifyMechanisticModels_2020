{
 "cells": [
  {
   "cell_type": "markdown",
   "metadata": {},
   "source": [
    "# Figures for supplement"
   ]
  },
  {
   "cell_type": "markdown",
   "metadata": {},
   "source": [
    "### Histograms summarizing fits"
   ]
  },
  {
   "cell_type": "code",
   "execution_count": null,
   "metadata": {},
   "outputs": [],
   "source": [
    "import matplotlib as mpl\n",
    "import matplotlib.pyplot as plt\n",
    "import numpy as np\n",
    "import seaborn as sns\n",
    "import pickle\n",
    "%matplotlib inline\n",
    "\n",
    "import sys; sys.path.append('../')\n",
    "from common import col, svg\n",
    "\n",
    "!mkdir -p svg/"
   ]
  },
  {
   "cell_type": "code",
   "execution_count": null,
   "metadata": {},
   "outputs": [],
   "source": [
    "nfidxs = pickle.load(open('results/net_maf/idxs.pkl', 'rb'))\n",
    "nfccs = np.asarray(pickle.load(open('results/net_maf/ccs.pkl', 'rb')))\n",
    "\n",
    "mfidxs = pickle.load(open('results/manual_fit/idxs.pkl', 'rb'))\n",
    "mfccs = np.asarray(pickle.load(open('results/manual_fit/ccs.pkl', 'rb')))\n",
    "\n",
    "# We exclude CCs smaller than 0.9 since those models are outliers and the problem \n",
    "# is with the modfiles rather than with inference/fitting.\n",
    "cutoff = 0.9\n",
    "\n",
    "nfidxs_valid = np.asarray(nfidxs)[np.argwhere(nfccs > cutoff).reshape(-1)]\n",
    "nfccs_valid = nfccs[np.argwhere(nfccs > cutoff).reshape(-1)]\n",
    "\n",
    "nfidxs_valid_sorted = nfidxs_valid[np.argsort(nfccs_valid).reshape(-1)]\n",
    "nfccs_valid_sorted = nfccs_valid[np.argsort(nfccs_valid).reshape(-1)]\n",
    "\n",
    "\n",
    "mfidxs_valid = np.asarray(mfidxs)[np.argwhere(mfccs > cutoff).reshape(-1)]\n",
    "mfccs_valid = mfccs[np.argwhere(mfccs > cutoff).reshape(-1)]\n",
    "\n",
    "mfidxs_valid_sorted = mfidxs_valid[np.argsort(mfccs_valid).reshape(-1)]\n",
    "mfccs_valid_sorted = mfccs_valid[np.argsort(mfccs_valid).reshape(-1)]\n",
    "\n",
    "ccs_combined = np.empty((373, 2))\n",
    "ccs_combined[nfidxs_valid,0] = nfccs_valid\n",
    "ccs_combined[mfidxs_valid,1] = mfccs_valid\n",
    "\n",
    "with mpl.rc_context(fname='../.matplotlibrc'):\n",
    "    plt.figure(figsize=(10/2.54, 8/2.54))\n",
    "    plt.hist(ccs_combined, bins=np.linspace(0.9, 1.0, 11), \n",
    "             color=[col['SNPE'], col['MCMC']], \n",
    "             label=['posterior mode', 'curve fitting'], \n",
    "             fill=False, histtype='step', density=False, linewidth=1.5, clip_on=False)\n",
    "    plt.ylim([0, 350])\n",
    "    plt.legend(loc='upper left', frameon=False, title='Parameters via')\n",
    "    sns.despine(offset=10, trim=True)\n",
    "    plt.xticks(np.linspace(0.9, 1.0, 5))\n",
    "    plt.ylabel('# models')\n",
    "    plt.xlabel('CC between observation and prediction')\n",
    "    PANEL_CCS = 'fig/fig4_channelomics_supp_hists.svg'\n",
    "    plt.savefig(PANEL_CCS, transparent=True)\n",
    "    plt.close()\n",
    "\n",
    "svg(PANEL_CCS)"
   ]
  }
 ],
 "metadata": {
  "jupytext": {
   "cell_metadata_filter": "-all",
   "main_language": "python",
   "notebook_metadata_filter": "-all"
  },
  "kernelspec": {
   "display_name": "Python 3",
   "language": "python",
   "name": "python3"
  },
  "language_info": {
   "codemirror_mode": {
    "name": "ipython",
    "version": 3
   },
   "file_extension": ".py",
   "mimetype": "text/x-python",
   "name": "python",
   "nbconvert_exporter": "python",
   "pygments_lexer": "ipython3",
   "version": "3.7.7"
  }
 },
 "nbformat": 4,
 "nbformat_minor": 2
}
