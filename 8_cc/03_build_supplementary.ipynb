{
 "cells": [
  {
   "cell_type": "markdown",
   "metadata": {},
   "source": [
    "# Fig9: Supplementary conditional correlations in the STG"
   ]
  },
  {
   "cell_type": "code",
   "execution_count": 1,
   "metadata": {},
   "outputs": [],
   "source": [
    "import numpy as np\n",
    "import matplotlib.pylab as plt\n",
    "import delfi.distribution as dd\n",
    "import time\n",
    "from copy import deepcopy\n",
    "import sys\n",
    "sys.path.append(\"../fig8_stg/model/setup\")\n",
    "sys.path.append(\"../fig8_stg/model/simulator\")\n",
    "sys.path.append(\"../fig8_stg/model/inference\")\n",
    "sys.path.append(\"../fig8_stg/model/visualization\")\n",
    "sys.path.append(\"../fig8_stg/model/utils\")\n",
    "\n",
    "import sys; sys.path.append('../')\n",
    "from common import col, svg, plot_pdf, samples_nd, buildCondCovMatrix, extractSpecificCondCorr\n",
    "\n",
    "import netio\n",
    "import viz\n",
    "import importlib\n",
    "import viz_samples\n",
    "import train_utils as tu\n",
    "\n",
    "import matplotlib as mpl\n",
    "\n",
    "%load_ext autoreload\n",
    "%autoreload 2"
   ]
  },
  {
   "cell_type": "code",
   "execution_count": 68,
   "metadata": {},
   "outputs": [],
   "source": [
    "PANEL_X  = 'svg/31D_panel_x.svg'\n",
    "PANEL_Y1 = 'svg/31D_panel_y1.svg'\n",
    "PANEL_Y2 = 'svg/31D_panel_y2.svg'\n",
    "PANEL_Y3 = 'svg/31D_panel_y3.svg'\n",
    "PANEL_Y4 = 'svg/31D_panel_y4.svg'\n",
    "PANEL_Z1 = 'svg/31D_panel_z1.svg'\n",
    "PANEL_Z2 = 'svg/31D_panel_z2.svg'"
   ]
  },
  {
   "cell_type": "markdown",
   "metadata": {},
   "source": [
    "### Load samples"
   ]
  },
  {
   "cell_type": "code",
   "execution_count": 3,
   "metadata": {},
   "outputs": [],
   "source": [
    "params = netio.load_setup('train_31D_R1_BigPaper')"
   ]
  },
  {
   "cell_type": "code",
   "execution_count": 4,
   "metadata": {},
   "outputs": [
    {
     "name": "stdout",
     "output_type": "stream",
     "text": [
      "We use 170000 training samples.\n"
     ]
    }
   ],
   "source": [
    "filedir = \"../fig8_stg/results/31D_samples/pyloricsamples_31D_noNaN_3.npz\"\n",
    "pilot_data, trn_data, params_mean, params_std = tu.load_trn_data_normalize(filedir, params)\n",
    "print('We use', len(trn_data[0]), 'training samples.')\n",
    "\n",
    "stats = trn_data[1]\n",
    "stats_mean = np.mean(stats, axis=0)\n",
    "stats_std  = np.std(stats, axis=0)"
   ]
  },
  {
   "cell_type": "markdown",
   "metadata": {},
   "source": [
    "### Load network"
   ]
  },
  {
   "cell_type": "code",
   "execution_count": 5,
   "metadata": {},
   "outputs": [],
   "source": [
    "date_today = '1908208'\n",
    "import dill as pickle\n",
    "with open('../fig8_stg/results/31D_nets/191001_seed1_Exper11deg.pkl', 'rb') as file:\n",
    "    inf_SNPE_MAF, log, params = pickle.load(file)\n",
    "params = netio.load_setup('train_31D_R1_BigPaper')"
   ]
  },
  {
   "cell_type": "code",
   "execution_count": 6,
   "metadata": {},
   "outputs": [],
   "source": [
    "prior = netio.create_prior(params, log=True)\n",
    "dimensions = np.sum(params.use_membrane) + 7\n",
    "lims = np.asarray([-np.sqrt(3)*np.ones(dimensions), np.sqrt(3)*np.ones(dimensions)]).T"
   ]
  },
  {
   "cell_type": "code",
   "execution_count": 7,
   "metadata": {},
   "outputs": [],
   "source": [
    "prior = netio.create_prior(params, log=True)\n",
    "params_mean = prior.mean\n",
    "params_std = prior.std"
   ]
  },
  {
   "cell_type": "code",
   "execution_count": 8,
   "metadata": {},
   "outputs": [],
   "source": [
    "from find_pyloric import merge_samples, params_are_bounded\n",
    "\n",
    "labels_ = viz.get_labels(params)\n",
    "prior_normalized = dd.Uniform(-np.sqrt(3)*np.ones(dimensions), np.sqrt(3)*np.ones(dimensions), seed=params.seed)"
   ]
  },
  {
   "cell_type": "markdown",
   "metadata": {},
   "source": [
    "### Load experimental data"
   ]
  },
  {
   "cell_type": "code",
   "execution_count": 9,
   "metadata": {},
   "outputs": [],
   "source": [
    "summstats_experimental = np.load('../fig8_stg/results/31D_experimental/190807_summstats_prep845_082_0044.npz')['summ_stats']"
   ]
  },
  {
   "cell_type": "markdown",
   "metadata": {},
   "source": [
    "### Calculate posterior"
   ]
  },
  {
   "cell_type": "code",
   "execution_count": 10,
   "metadata": {},
   "outputs": [],
   "source": [
    "from find_pyloric import merge_samples, params_are_bounded\n",
    "\n",
    "all_paths = []\n",
    "all_posteriors = []\n",
    "labels_ = viz.get_labels(params)\n",
    "\n",
    "posterior_MAF = inf_SNPE_MAF.predict([summstats_experimental]) # given the current sample, we now predict the posterior given our simulation outcome. Note that this could just be overfitted."
   ]
  },
  {
   "cell_type": "markdown",
   "metadata": {},
   "source": [
    "### Load samples"
   ]
  },
  {
   "cell_type": "code",
   "execution_count": 11,
   "metadata": {},
   "outputs": [
    {
     "name": "stdout",
     "output_type": "stream",
     "text": [
      "(2520000, 31)\n"
     ]
    }
   ],
   "source": [
    "samples_MAF = merge_samples(\"../fig8_stg/results/31D_samples/02_cond_vals\", name='conductance_params')\n",
    "samples_MAF = np.reshape(samples_MAF, (1000*2520, 31))\n",
    "print(np.shape(samples_MAF))"
   ]
  },
  {
   "cell_type": "markdown",
   "metadata": {},
   "source": [
    "### Load start and end point"
   ]
  },
  {
   "cell_type": "code",
   "execution_count": 12,
   "metadata": {},
   "outputs": [],
   "source": [
    "num_to_watch = 3\n",
    "infile = '../fig8_stg/results/31D_pairs/similar_and_good/sample_pair_{}.npz'.format(num_to_watch) # 0 is shitty\n",
    "npz = np.load(infile)\n",
    "start_point = npz['params1']\n",
    "end_point = npz['params2']"
   ]
  },
  {
   "cell_type": "code",
   "execution_count": 13,
   "metadata": {},
   "outputs": [],
   "source": [
    "start_point_unnorm = start_point * params_std + params_mean\n",
    "end_point_unnorm   = end_point   * params_std + params_mean\n",
    "ratio = end_point_unnorm / start_point_unnorm\n",
    "run_true = (ratio > np.ones_like(ratio) * 2.0) | (ratio < np.ones_like(ratio) / 2.0)"
   ]
  },
  {
   "cell_type": "code",
   "execution_count": 14,
   "metadata": {},
   "outputs": [
    {
     "name": "stdout",
     "output_type": "stream",
     "text": [
      "[ True  True False  True False False  True False False False False  True\n",
      "  True False False False False False False False  True False  True False\n",
      " False False False False False False False]\n"
     ]
    }
   ],
   "source": [
    "print(run_true)"
   ]
  },
  {
   "cell_type": "code",
   "execution_count": 15,
   "metadata": {},
   "outputs": [],
   "source": [
    "lims = np.asarray([-np.sqrt(3)*np.ones(dimensions), np.sqrt(3)*np.ones(dimensions)]).T\n",
    "#lims[-7,1] -= 2*np.sqrt(3)/6"
   ]
  },
  {
   "cell_type": "code",
   "execution_count": 16,
   "metadata": {},
   "outputs": [],
   "source": [
    "def extract_1D_hist(sampels_MAF, dim, num_bins):\n",
    "    hist1D, _ = np.histogram(samples_MAF[:,dim], bins=np.linspace(-np.sqrt(3), np.sqrt(3), num_bins))\n",
    "    return hist1D"
   ]
  },
  {
   "cell_type": "code",
   "execution_count": 17,
   "metadata": {},
   "outputs": [],
   "source": [
    "def sample_1D_hist(hist, num_samples, num_bins):\n",
    "    cumsum = np.cumsum(hist)\n",
    "    cumsum = cumsum / cumsum[-1]\n",
    "    rand_var = np.random.rand(num_samples)\n",
    "    \n",
    "    samples = []\n",
    "    for r in rand_var:\n",
    "        a = np.abs(r - cumsum)\n",
    "        index_of_min = np.argmin(a)\n",
    "        samples.append(index_of_min)\n",
    "    \n",
    "    samples = (np.asarray(samples) / (num_bins-1) * 2 * np.sqrt(3)) - np.sqrt(3)\n",
    "    return samples"
   ]
  },
  {
   "cell_type": "code",
   "execution_count": 18,
   "metadata": {},
   "outputs": [],
   "source": [
    "def draw_independent_theta(num_samples=1):\n",
    "    theta = []\n",
    "    for dim in range(31):\n",
    "        num_bins = 1000\n",
    "        myhist = extract_1D_hist(samples_MAF, dim, num_bins=num_bins)\n",
    "        theta.append(sample_1D_hist(myhist, num_samples, num_bins))\n",
    "    theta = np.asarray(theta).T\n",
    "    return theta"
   ]
  },
  {
   "cell_type": "code",
   "execution_count": 19,
   "metadata": {},
   "outputs": [
    {
     "name": "stdout",
     "output_type": "stream",
     "text": [
      "overall time:   28.722280263900757\n"
     ]
    }
   ],
   "source": [
    "#import time\n",
    "##start_time = time.time()\n",
    "#thetas = draw_independent_theta(num_samples=100000)\n",
    "#print('overall time:  ', time.time()-start_time)"
   ]
  },
  {
   "cell_type": "code",
   "execution_count": 51,
   "metadata": {},
   "outputs": [],
   "source": [
    "#np.savez('results/factorized_posteriorSamples.npz', thetas=thetas)"
   ]
  },
  {
   "cell_type": "code",
   "execution_count": 52,
   "metadata": {},
   "outputs": [],
   "source": [
    "thetas = np.load('results/factorized_posteriorSamples.npz')['thetas']"
   ]
  },
  {
   "cell_type": "code",
   "execution_count": 21,
   "metadata": {},
   "outputs": [],
   "source": [
    "from decimal import Decimal\n",
    "all_labels = []\n",
    "for dim_i in range(31):\n",
    "    if dim_i > len(params_mean) - 7.5: # synapses\n",
    "        if dim_i == 24: all_labels.append([r'$\\mathdefault{0.01}$   ', r'$\\mathdefault{10000}\\;\\;\\;\\;$   '])\n",
    "        else: all_labels.append([r'$\\;\\;\\mathdefault{0.01}$', r'$\\mathdefault{1000}\\;\\;\\;\\;$ '])\n",
    "    else: # membrane conductances\n",
    "        num_after_digits = -int(np.log10(lims[dim_i, 1] * params_std[dim_i] + params_mean[dim_i]))\n",
    "        if num_after_digits > 2:\n",
    "            num_after_digits=2\n",
    "        labels = [round(Decimal((lims[dim_i, num_tmp] * params_std[dim_i] + params_mean[dim_i]) / 0.628e-3), num_after_digits)\n",
    "                  for num_tmp in range(2)]\n",
    "        new_labels = []\n",
    "        counter=0\n",
    "        for l in labels:\n",
    "            if counter == 0:\n",
    "                new_labels.append(r'$\\mathdefault{'+str(l)+'}$')\n",
    "            else:\n",
    "                new_labels.append(r'$\\mathdefault{'+str(l)+'}\\;\\;\\;$ ')\n",
    "            counter+=1\n",
    "        all_labels.append(new_labels)"
   ]
  },
  {
   "cell_type": "code",
   "execution_count": 22,
   "metadata": {},
   "outputs": [
    {
     "name": "stderr",
     "output_type": "stream",
     "text": [
      "../common.py:591: FutureWarning: elementwise comparison failed; returning scalar instead, but in the future will perform elementwise comparison\n",
      "  if opts['labels'] == [] or opts['labels'] is None:\n"
     ]
    },
    {
     "data": {
      "image/png": "[encoded data removed]",
      "text/plain": [
       "<Figure size 289x289 with 36 Axes>"
      ]
     },
     "metadata": {},
     "output_type": "display_data"
    }
   ],
   "source": [
    "import matplotlib.patheffects as pe\n",
    "\n",
    "with mpl.rc_context(fname='../.matplotlibrc'):\n",
    "\n",
    "    labels_ = viz.get_labels_8pt(params)\n",
    "    labels_[9] += ''\n",
    "\n",
    "    fig, axes = samples_nd(samples=[thetas[:100000]],\n",
    "                           subset=[4,5,11,12,19,22], # ,25,26,28\n",
    "                           limits=lims,\n",
    "                           ticks=lims,\n",
    "                           tick_labels=all_labels,\n",
    "                           fig_size=(17.0*0.17, 17.0*0.17),\n",
    "                           labels=labels_,\n",
    "                           scatter_offdiag={'rasterized':True, 'alpha':1.0},\n",
    "                           samples_colors=[col['SNPE']],\n",
    "                           diag=['kde'],\n",
    "                           upper=['kde'],\n",
    "                           hist_offdiag={'bins':50})\n",
    "    \n",
    "    plt.savefig(PANEL_X, facecolor='None', transparent=True)\n",
    "    plt.show()"
   ]
  },
  {
   "cell_type": "code",
   "execution_count": 23,
   "metadata": {},
   "outputs": [],
   "source": [
    "prior = netio.create_prior(params, log=True)\n",
    "params_mean = prior.mean\n",
    "params_std = prior.std"
   ]
  },
  {
   "cell_type": "code",
   "execution_count": 133,
   "metadata": {},
   "outputs": [
    {
     "data": {
      "image/png": "[encoded data removed]",
      "text/plain": [
       "<Figure size 318x156 with 1 Axes>"
      ]
     },
     "metadata": {},
     "output_type": "display_data"
    },
    {
     "data": {
      "image/png": "[encoded data removed]",
      "text/plain": [
       "<Figure size 318x156 with 1 Axes>"
      ]
     },
     "metadata": {},
     "output_type": "display_data"
    },
    {
     "data": {
      "image/png": "[encoded data removed]",
      "text/plain": [
       "<Figure size 318x156 with 1 Axes>"
      ]
     },
     "metadata": {},
     "output_type": "display_data"
    },
    {
     "data": {
      "image/png": "[encoded data removed]",
      "text/plain": [
       "<Figure size 318x156 with 1 Axes>"
      ]
     },
     "metadata": {},
     "output_type": "display_data"
    }
   ],
   "source": [
    "pyloric_sim = netio.create_simulators(params)\n",
    "summ_stats = netio.create_summstats(params)\n",
    "\n",
    "offsets = [127000]\n",
    "scale_bar_ = [False, False, False, True]\n",
    "counter = 0\n",
    "\n",
    "panels = [PANEL_Y1, PANEL_Y2, PANEL_Y3, PANEL_Y4]\n",
    "\n",
    "with mpl.rc_context(fname='../.matplotlibrc'):\n",
    "\n",
    "    for my_count, k in enumerate([4,6,9,17]): # [4,6,9,10]\n",
    "        fig, ax = plt.subplots(1, 1, facecolor='white', figsize=(3.18, 2.08*3/4))\n",
    "\n",
    "        theta = thetas[k]\n",
    "        target_params = theta * prior.std + prior.mean\n",
    "\n",
    "        out_target = pyloric_sim[0].gen_single(deepcopy(target_params), seed_sim=True, to_seed=8) # params.true_params gives the synaptic strengths #  165000\n",
    "\n",
    "        _ = viz_samples.vis_sample_plain_bit_more_31DSynthetic(pyloric_sim[0], summ_stats, target_params, voltage_trace=out_target, test_idx=[0], case='high_p', col=[col['INCONSISTENT'], col['INCONSISTENT'], col['INCONSISTENT']], axV=ax, scale_bar=scale_bar_[my_count], time_len=115000, fontscale=1.0, linescale=1.2, legend=False, offset=offsets[0],\n",
    "                                     title='Sample along the path of high probability in Prinz format', date_today='190910_samples_small', counter=counter, save_fig=False)\n",
    "        plt.savefig(panels[my_count], facecolor='None', transparent=True, dpi=300, bbox_inches='tight')\n",
    "        plt.show()"
   ]
  },
  {
   "cell_type": "markdown",
   "metadata": {},
   "source": [
    "# Panel C: summary statistics"
   ]
  },
  {
   "cell_type": "markdown",
   "metadata": {},
   "source": [
    "### Generate summstats from factorized posterior"
   ]
  },
  {
   "cell_type": "code",
   "execution_count": 53,
   "metadata": {},
   "outputs": [
    {
     "name": "stderr",
     "output_type": "stream",
     "text": [
      "/Users/deismic/anaconda3/envs/lfi_prinz/lib/python3.7/site-packages/numpy/core/fromnumeric.py:3118: RuntimeWarning: Mean of empty slice.\n",
      "  out=out, **kwargs)\n",
      "/Users/deismic/anaconda3/envs/lfi_prinz/lib/python3.7/site-packages/numpy/lib/function_base.py:392: RuntimeWarning: Mean of empty slice.\n",
      "  avg = a.mean(axis)\n"
     ]
    }
   ],
   "source": [
    "pyloric_sim = netio.create_simulators(params)\n",
    "summ_stats = netio.create_summstats(params)\n",
    "\n",
    "offsets = [127000]\n",
    "scale_bar_ = [False, False, False, True]\n",
    "counter = 0\n",
    "\n",
    "panels = [PANEL_Y1, PANEL_Y2, PANEL_Y3, PANEL_Y4]\n",
    "start_index = 100\n",
    "num_sim_samples = 500\n",
    "\n",
    "with mpl.rc_context(fname='../.matplotlibrc'):\n",
    "    \n",
    "    all_ss = []\n",
    "\n",
    "    for k in range(start_index, start_index+num_sim_samples):\n",
    "        theta = thetas[k]\n",
    "        target_params = theta * prior.std + prior.mean\n",
    "\n",
    "        #out_target = pyloric_sim[0].gen_single(deepcopy(target_params), seed_sim=True, to_seed=8) # params.true_params gives the synaptic strengths #  165000\n",
    "        #ss = summ_stats.calc([out_target])[0]\n",
    "        #all_ss.append(ss)\n",
    "#np.savez('results/summstats_factorized_{}posteriorSamples.npz'.format(num_sim_samples), all_ss=all_ss)"
   ]
  },
  {
   "cell_type": "code",
   "execution_count": 3,
   "metadata": {},
   "outputs": [],
   "source": [
    "all_ss = np.load('results/summstats_factorized_500posteriorSamples.npz')['all_ss']"
   ]
  },
  {
   "cell_type": "code",
   "execution_count": 73,
   "metadata": {},
   "outputs": [
    {
     "name": "stdout",
     "output_type": "stream",
     "text": [
      "Fraction of bad samples:    0.734\n"
     ]
    }
   ],
   "source": [
    "num_noNan = 0\n",
    "ss_noNan = []\n",
    "for s in all_ss:\n",
    "    if not np.any(np.isnan(s)):\n",
    "        num_noNan += 1\n",
    "        ss_noNan.append(s)\n",
    "print('Fraction of bad samples:   ', (500-num_noNan)/500)"
   ]
  },
  {
   "cell_type": "markdown",
   "metadata": {},
   "source": [
    "### Generate summary stats from normal posterior"
   ]
  },
  {
   "cell_type": "code",
   "execution_count": 61,
   "metadata": {},
   "outputs": [
    {
     "name": "stderr",
     "output_type": "stream",
     "text": [
      "/Users/deismic/anaconda3/envs/lfi_prinz/lib/python3.7/site-packages/numpy/core/fromnumeric.py:3118: RuntimeWarning: Mean of empty slice.\n",
      "  out=out, **kwargs)\n",
      "/Users/deismic/anaconda3/envs/lfi_prinz/lib/python3.7/site-packages/numpy/lib/function_base.py:392: RuntimeWarning: Mean of empty slice.\n",
      "  avg = a.mean(axis)\n"
     ]
    }
   ],
   "source": [
    "pyloric_sim = netio.create_simulators(params)\n",
    "summ_stats = netio.create_summstats(params)\n",
    "\n",
    "offsets = [127000]\n",
    "scale_bar_ = [False, False, False, True]\n",
    "counter = 0\n",
    "\n",
    "panels = [PANEL_Y1, PANEL_Y2, PANEL_Y3, PANEL_Y4]\n",
    "start_index = 0\n",
    "num_sim_samples = 500\n",
    "\n",
    "with mpl.rc_context(fname='../.matplotlibrc'):\n",
    "    \n",
    "    all_ss = []\n",
    "\n",
    "    for k in range(start_index, start_index+num_sim_samples):\n",
    "        theta = samples_MAF[k]\n",
    "        target_params = theta * prior.std + prior.mean\n",
    "\n",
    "        #out_target = pyloric_sim[0].gen_single(deepcopy(target_params), seed_sim=True, to_seed=8) # params.true_params gives the synaptic strengths #  165000\n",
    "        #ss = summ_stats.calc([out_target])[0]\n",
    "        #all_ss.append(ss)\n",
    "#np.savez('results/summstats_{}posteriorSamples.npz'.format(num_sim_samples), all_ss=all_ss)"
   ]
  },
  {
   "cell_type": "code",
   "execution_count": 62,
   "metadata": {},
   "outputs": [],
   "source": [
    "all_ss_posterior = np.load('results/summstats_500posteriorSamples.npz')['all_ss']"
   ]
  },
  {
   "cell_type": "code",
   "execution_count": 63,
   "metadata": {},
   "outputs": [
    {
     "name": "stdout",
     "output_type": "stream",
     "text": [
      "Fraction of bad samples:    0.208\n"
     ]
    }
   ],
   "source": [
    "num_noNan = 0\n",
    "ss_noNan_posterior = []\n",
    "for s in all_ss_posterior:\n",
    "    if not np.any(np.isnan(s)):\n",
    "        num_noNan += 1\n",
    "        ss_noNan_posterior.append(s)\n",
    "print('Fraction of bad samples:   ', (500-num_noNan)/500)"
   ]
  },
  {
   "cell_type": "markdown",
   "metadata": {},
   "source": [
    "### Generate figures"
   ]
  },
  {
   "cell_type": "code",
   "execution_count": 74,
   "metadata": {},
   "outputs": [],
   "source": [
    "from print_helper import get_summ_stat_name, get_summ_stat_name_text, get_synapse_name, get_summ_stat_name_asterisk"
   ]
  },
  {
   "cell_type": "code",
   "execution_count": 75,
   "metadata": {},
   "outputs": [],
   "source": [
    "names = []\n",
    "for num in range(15):\n",
    "    names.append(get_summ_stat_name_text(num))"
   ]
  },
  {
   "cell_type": "code",
   "execution_count": 124,
   "metadata": {},
   "outputs": [
    {
     "data": {
      "image/png": "[encoded data removed]",
      "text/plain": [
       "<Figure size 472.5x130 with 1 Axes>"
      ]
     },
     "metadata": {},
     "output_type": "display_data"
    }
   ],
   "source": [
    "import seaborn as sns\n",
    "import pandas as pd\n",
    "\n",
    "norm_ss = (np.asarray(ss_noNan_posterior)[:,:15]-stats_mean[:15])/stats_std[:15]\n",
    "\n",
    "with mpl.rc_context(fname='../.matplotlibrc'):\n",
    "    fig, ax = plt.subplots(1,1, figsize=(3.5*1.35, 1.3))\n",
    "    plt.scatter(np.arange(15)+0.4, (summstats_experimental[:15]-stats_mean[:15])/stats_std[:15], marker='x', s=15.0, color=col['GT'])\n",
    "    df = pd.DataFrame(np.asarray(norm_ss))\n",
    "\n",
    "    box = sns.boxplot(data=df, width=0.4, fliersize=.0, linewidth=1.2) # , color='#0570b0'\n",
    "    for i, patch in enumerate(box.artists):\n",
    "        r, g, b, a = patch.get_facecolor() # r, g, b, a = patch.get_facecolor()\n",
    "        patch.set_facecolor(col['CONSISTENT2']) # patch.set_facecolor((r, g, b, .6))\n",
    "        patch.set_edgecolor(col['CONSISTENT2'])\n",
    "        for j in range(i*6,i*6+6):\n",
    "            line = ax.lines[j]\n",
    "            line.set_color(col['CONSISTENT1'])\n",
    "            line.set_mfc(col['CONSISTENT1'])\n",
    "            line.set_mec(col['CONSISTENT1'])\n",
    "        \n",
    "    ax.set_ylim([-2,2])\n",
    "    ax.set_xlim([-0.5,14.7])\n",
    "    ax.set_xticklabels(names, rotation='vertical')\n",
    "    ax.set_yticks([-2, -1, 0, 1, 2])\n",
    "    ax.set_yticklabels(['$\\mathdefault{-2} \\sigma$', '$\\mathdefault{-}\\sigma$', '0', '$\\sigma$', '$\\mathdefault{2} \\sigma$'])\n",
    "    ax.text(0.33,  -0.68, 'Summary statistics', transform=ax.transAxes)\n",
    "    ax.text(0.322, -0.80, '[st. dev. of samples]', transform=ax.transAxes)\n",
    "    plt.savefig(PANEL_Z1, facecolor='None', transparent=True, dpi=300, bbox_inches='tight')\n",
    "    plt.show()"
   ]
  },
  {
   "cell_type": "code",
   "execution_count": 100,
   "metadata": {},
   "outputs": [
    {
     "data": {
      "image/png": "[encoded data removed]",
      "text/plain": [
       "<Figure size 472.5x130 with 1 Axes>"
      ]
     },
     "metadata": {},
     "output_type": "display_data"
    }
   ],
   "source": [
    "import seaborn as sns\n",
    "import pandas as pd\n",
    "\n",
    "norm_ss = (np.asarray(ss_noNan)[:,:15]-stats_mean[:15])/stats_std[:15]\n",
    "\n",
    "with mpl.rc_context(fname='../.matplotlibrc'):\n",
    "    fig, ax = plt.subplots(1,1, figsize=(3.5*1.35, 1.3))\n",
    "    plt.scatter(np.arange(15)+0.4, (summstats_experimental[:15]-stats_mean[:15])/stats_std[:15], marker='x', s=15.0, color=col['GT'])\n",
    "    df = pd.DataFrame(np.asarray(norm_ss))\n",
    "\n",
    "    box = sns.boxplot(data=df, width=0.4, fliersize=.0, linewidth=1.2) # , color='#0570b0'\n",
    "    for i, patch in enumerate(box.artists):\n",
    "        r, g, b, a = patch.get_facecolor() # r, g, b, a = patch.get_facecolor()\n",
    "        patch.set_facecolor(1-((1-np.asarray(col['INCONSISTENT'])))*0.6) # patch.set_facecolor((r, g, b, .6))\n",
    "        patch.set_edgecolor(1-((1-np.asarray(col['INCONSISTENT'])))*0.6) # WANT A BRIGHTER ONE!\n",
    "        for j in range(i*6,i*6+6):\n",
    "            line = ax.lines[j]\n",
    "            line.set_color(col['INCONSISTENT'])\n",
    "            line.set_mfc(col['INCONSISTENT'])\n",
    "            line.set_mec(col['INCONSISTENT'])\n",
    "        \n",
    "    ax.set_ylim([-2,2])\n",
    "    ax.set_xlim([-0.5,14.7])\n",
    "    ax.set_xticklabels(names, rotation='vertical')\n",
    "    ax.set_yticks([-2, -1, 0, 1, 2])\n",
    "    ax.set_yticklabels(['$\\mathdefault{-2} \\sigma$', '$\\mathdefault{-}\\sigma$', '0', '$\\sigma$', '$\\mathdefault{2} \\sigma$'])\n",
    "    ax.text(0.33,  -0.68, 'Summary statistics', transform=ax.transAxes)\n",
    "    ax.text(0.322, -0.80, '[st. dev. of samples]', transform=ax.transAxes)\n",
    "    plt.savefig(PANEL_Z2, facecolor='None', transparent=True, dpi=300, bbox_inches='tight')\n",
    "    plt.show()"
   ]
  },
  {
   "cell_type": "markdown",
   "metadata": {},
   "source": [
    "# Assemble figure"
   ]
  },
  {
   "cell_type": "code",
   "execution_count": 102,
   "metadata": {},
   "outputs": [],
   "source": [
    "color_mixture = 0.5 * (np.asarray(list(col['CONSISTENT1'])) + np.asarray(list(col['CONSISTENT2'])))"
   ]
  },
  {
   "cell_type": "code",
   "execution_count": 103,
   "metadata": {},
   "outputs": [],
   "source": [
    "import time\n",
    "import IPython.display as IPd\n",
    "\n",
    "def svg(img):\n",
    "    IPd.display(IPd.HTML('<img src=\"{}\" / >'.format(img, time.time())))"
   ]
  },
  {
   "cell_type": "code",
   "execution_count": 142,
   "metadata": {
    "collapsed": true,
    "jupyter": {
     "outputs_hidden": true
    }
   },
   "outputs": [
    {
     "data": {
      "text/html": [
       "<img src=\"fig/fig9_suppl_sampleMarginal.svg\" / >"
      ],
      "text/plain": [
       "<IPython.core.display.HTML object>"
      ]
     },
     "metadata": {},
     "output_type": "display_data"
    }
   ],
   "source": [
    "from svgutils.compose import *\n",
    "\n",
    "### from svgutils.compose import *\n",
    "# > Inkscape pixel is 1/90 of an inch, other software usually uses 1/72.\n",
    "# > http://www.inkscapeforum.com/viewtopic.php?f=6&t=5964\n",
    "svg_scale = 1.25  # set this to 1.25 for Inkscape, 1.0 otherwise\n",
    "factor_svg=5.5\n",
    "\n",
    "# Panel letters in Helvetica Neue, 12pt, Medium\n",
    "kwargs_text = {'size': '12pt', 'font': 'Arial', 'weight': '800'}\n",
    "kwargs_heading = {'size': '8pt', 'font': 'Arial'}\n",
    "kwargs_consistent = {'size': '10pt', 'font': 'Arial', 'weight': '500', 'color': '#AF99EF'}\n",
    "kwargs_consistent1 = {'size': '10pt', 'font': 'Arial', 'weight': '500', 'color': '#9E7DD5'}\n",
    "kwargs_inconsistent = {'size': '10pt', 'font': 'Arial', 'weight': '500', 'color': '#D73789'}\n",
    "kwargs_text8pt = {'size': '7.7pt', 'font': 'Arial'}\n",
    "\n",
    "sizefactor = 1.0\n",
    "dshift = 0.5*factor_svg\n",
    "\n",
    "top_left_x_AB = 295.9\n",
    "top_left_y_AB = 287.4\n",
    "\n",
    "top_left_x_1 = 380\n",
    "top_left_y_1 = 355\n",
    "\n",
    "top_left_x_2 = 333\n",
    "top_left_y_2 = 306\n",
    "\n",
    "top_left_x_3 = 429\n",
    "top_left_y_3 = 402\n",
    "\n",
    "square_size = 48.2\n",
    "small_square = 6.0\n",
    "\n",
    "rectangle_col = 'black'\n",
    "smallRect_col = 'blue'\n",
    "rectangle_width = 1.0\n",
    "    \n",
    "f = Figure('20.3cm', '12.1cm',\n",
    "\n",
    "    Panel(\n",
    "          SVG(PANEL_X).scale(svg_scale).move(0, 15*factor_svg),\n",
    "          Text(\"a\", 0*factor_svg, 17*factor_svg, **kwargs_text),\n",
    "          #Text(\"Na CaT CaS A KCa Kd H leak\", 6.5*factor_svg, 63.0*factor_svg, **kwargs_heading),\n",
    "    ).move(0*factor_svg, -14.5*factor_svg),\n",
    "    \n",
    "    Panel(\n",
    "          SVG(PANEL_Y1).scale(svg_scale).move(0, 15*factor_svg),\n",
    "          Text(\"b\", -2*factor_svg, 17*factor_svg, **kwargs_text),\n",
    "    ).move(53*factor_svg, -14.5*factor_svg),\n",
    "    \n",
    "    Panel(\n",
    "          SVG(PANEL_Y2).scale(svg_scale).move(0, 15*factor_svg),\n",
    "    ).move(95*factor_svg, -14.5*factor_svg),\n",
    "           \n",
    "    Panel(\n",
    "          SVG(PANEL_Y3).scale(svg_scale).move(0, 15*factor_svg),\n",
    "    ).move(53*factor_svg, 8.7*factor_svg),\n",
    "    \n",
    "    Panel(\n",
    "          SVG(PANEL_Y4).scale(svg_scale).move(0, 15*factor_svg),\n",
    "        Text(\"50 mV\", 35.1*factor_svg, 20*factor_svg, **kwargs_text8pt),\n",
    "        Text(\"500 ms\", 4.1*factor_svg, 38.0*factor_svg, **kwargs_text8pt),\n",
    "    ).move(95*factor_svg, 8.7*factor_svg),\n",
    "           \n",
    "    Panel(\n",
    "          SVG(PANEL_Z1).scale(svg_scale).move(0, 15*factor_svg),\n",
    "          Text(\"c\", 0*factor_svg, 15*factor_svg, **kwargs_text),\n",
    "    ).move(0*factor_svg, 35.5*factor_svg),\n",
    "           \n",
    "    Panel(\n",
    "          SVG(PANEL_Z2).scale(svg_scale).move(0, 15*factor_svg),\n",
    "    ).move(72*factor_svg, 35.5*factor_svg),\n",
    "    \n",
    ")\n",
    "\n",
    "!mkdir -p fig\n",
    "f.save(\"fig/fig9_suppl_sampleMarginal.svg\")\n",
    "svg('fig/fig9_suppl_sampleMarginal.svg')"
   ]
  },
  {
   "cell_type": "code",
   "execution_count": null,
   "metadata": {},
   "outputs": [],
   "source": [
    "\n",
    "\n",
    "\n",
    "\n",
    "\n",
    "\n",
    "\n",
    "\n",
    "\n",
    "\n",
    "\n",
    "\n",
    "\n",
    "\n",
    "\n",
    "\n",
    "\n",
    "\n",
    "\n",
    "\n",
    "\n",
    "\n",
    "\n",
    "\n",
    "\n",
    "\n",
    "\n",
    "\n",
    "\n",
    "\n",
    "\n",
    "\n",
    "\n",
    "\n",
    "\n",
    "\n",
    "\n",
    "\n",
    "\n",
    "\n",
    "\n",
    "\n"
   ]
  },
  {
   "cell_type": "code",
   "execution_count": null,
   "metadata": {},
   "outputs": [],
   "source": []
  },
  {
   "cell_type": "code",
   "execution_count": null,
   "metadata": {},
   "outputs": [],
   "source": []
  }
 ],
 "metadata": {
  "kernelspec": {
   "display_name": "Python 3",
   "language": "python",
   "name": "python3"
  },
  "language_info": {
   "codemirror_mode": {
    "name": "ipython",
    "version": 3
   },
   "file_extension": ".py",
   "mimetype": "text/x-python",
   "name": "python",
   "nbconvert_exporter": "python",
   "pygments_lexer": "ipython3",
   "version": "3.7.4"
  }
 },
 "nbformat": 4,
 "nbformat_minor": 4
}
