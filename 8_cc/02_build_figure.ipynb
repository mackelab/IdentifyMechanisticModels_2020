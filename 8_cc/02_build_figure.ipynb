{
 "cells": [
  {
   "cell_type": "markdown",
   "metadata": {},
   "source": [
    "# Fig9: Conditional correlations in the STG"
   ]
  },
  {
   "cell_type": "code",
   "execution_count": 1,
   "metadata": {},
   "outputs": [],
   "source": [
    "import numpy as np\n",
    "import matplotlib.pylab as plt\n",
    "import delfi.distribution as dd\n",
    "import time\n",
    "from copy import deepcopy\n",
    "import sys\n",
    "sys.path.append(\"../fig8_stg/model/setup\")\n",
    "sys.path.append(\"../fig8_stg/model/simulator\")\n",
    "sys.path.append(\"../fig8_stg/model/inference\")\n",
    "sys.path.append(\"../fig8_stg/model/visualization\")\n",
    "sys.path.append(\"../fig8_stg/model/utils\")\n",
    "\n",
    "import sys; sys.path.append('../')\n",
    "from common import col, svg, plot_pdf, samples_nd, buildCondCovMatrix, extractSpecificCondCorr\n",
    "\n",
    "import netio\n",
    "import viz\n",
    "import importlib\n",
    "import viz_samples\n",
    "import train_utils as tu\n",
    "\n",
    "import matplotlib as mpl\n",
    "\n",
    "%load_ext autoreload\n",
    "%autoreload 2"
   ]
  },
  {
   "cell_type": "code",
   "execution_count": 2,
   "metadata": {},
   "outputs": [],
   "source": [
    "PANEL_A  = 'svg/31D_panel_a.svg'\n",
    "PANEL_B1  = 'svg/31D_panel_b1.svg'\n",
    "PANEL_B2  = 'svg/31D_panel_b2.svg'\n",
    "PANEL_C  = 'svg/31D_panel_c.svg'\n",
    "PANEL_C2 = 'svg/31D_panel_c2.svg'\n",
    "PANEL_D = 'svg/31D_panel_d.svg'\n",
    "PANEL_E1 = 'svg/31D_panel_e1.svg'\n",
    "PANEL_E2 = 'svg/31D_panel_e2.svg'\n",
    "\n",
    "PANEL_X1params = 'svg/31D_panel_App1_params.svg'\n",
    "PANEL_X2params = 'svg/31D_panel_App2_params.svg'\n",
    "PANEL_X1ss = 'svg/31D_panel_App1_ss.svg'\n",
    "PANEL_X2ss = 'svg/31D_panel_App2_ss.svg'\n",
    "\n",
    "PANEL_X = 'svg/31D_panel_x.svg'"
   ]
  },
  {
   "cell_type": "markdown",
   "metadata": {},
   "source": [
    "### Load samples"
   ]
  },
  {
   "cell_type": "code",
   "execution_count": 3,
   "metadata": {},
   "outputs": [],
   "source": [
    "params = netio.load_setup('train_31D_R1_BigPaper')"
   ]
  },
  {
   "cell_type": "code",
   "execution_count": 4,
   "metadata": {},
   "outputs": [
    {
     "name": "stdout",
     "output_type": "stream",
     "text": [
      "We use 170000 training samples.\n"
     ]
    }
   ],
   "source": [
    "filedir = \"../fig8_stg/results/31D_samples/pyloricsamples_31D_noNaN_3.npz\"\n",
    "pilot_data, trn_data, params_mean, params_std = tu.load_trn_data_normalize(filedir, params)\n",
    "print('We use', len(trn_data[0]), 'training samples.')\n",
    "\n",
    "stats = trn_data[1]\n",
    "stats_mean = np.mean(stats, axis=0)\n",
    "stats_std  = np.std(stats, axis=0)"
   ]
  },
  {
   "cell_type": "markdown",
   "metadata": {},
   "source": [
    "### Load network"
   ]
  },
  {
   "cell_type": "code",
   "execution_count": 5,
   "metadata": {},
   "outputs": [],
   "source": [
    "date_today = '1908208'\n",
    "import dill as pickle\n",
    "with open('../fig8_stg/results/31D_nets/191001_seed1_Exper11deg.pkl', 'rb') as file:\n",
    "    inf_SNPE_MAF, log, params = pickle.load(file)\n",
    "params = netio.load_setup('train_31D_R1_BigPaper')"
   ]
  },
  {
   "cell_type": "code",
   "execution_count": 6,
   "metadata": {},
   "outputs": [],
   "source": [
    "prior = netio.create_prior(params, log=True)\n",
    "dimensions = np.sum(params.use_membrane) + 7\n",
    "lims = np.asarray([-np.sqrt(3)*np.ones(dimensions), np.sqrt(3)*np.ones(dimensions)]).T"
   ]
  },
  {
   "cell_type": "code",
   "execution_count": 7,
   "metadata": {},
   "outputs": [],
   "source": [
    "prior = netio.create_prior(params, log=True)\n",
    "params_mean = prior.mean\n",
    "params_std = prior.std"
   ]
  },
  {
   "cell_type": "code",
   "execution_count": 8,
   "metadata": {},
   "outputs": [],
   "source": [
    "from find_pyloric import merge_samples, params_are_bounded\n",
    "\n",
    "labels_ = viz.get_labels(params)\n",
    "prior_normalized = dd.Uniform(-np.sqrt(3)*np.ones(dimensions), np.sqrt(3)*np.ones(dimensions), seed=params.seed)"
   ]
  },
  {
   "cell_type": "markdown",
   "metadata": {},
   "source": [
    "### Load experimental data"
   ]
  },
  {
   "cell_type": "code",
   "execution_count": 9,
   "metadata": {},
   "outputs": [],
   "source": [
    "summstats_experimental = np.load('../fig8_stg/results/31D_experimental/190807_summstats_prep845_082_0044.npz')['summ_stats']"
   ]
  },
  {
   "cell_type": "markdown",
   "metadata": {},
   "source": [
    "### Calculate posterior"
   ]
  },
  {
   "cell_type": "code",
   "execution_count": 10,
   "metadata": {},
   "outputs": [],
   "source": [
    "from find_pyloric import merge_samples, params_are_bounded\n",
    "\n",
    "all_paths = []\n",
    "all_posteriors = []\n",
    "labels_ = viz.get_labels(params)\n",
    "\n",
    "posterior_MAF = inf_SNPE_MAF.predict([summstats_experimental]) # given the current sample, we now predict the posterior given our simulation outcome. Note that this could just be overfitted."
   ]
  },
  {
   "cell_type": "markdown",
   "metadata": {},
   "source": [
    "### Load samples"
   ]
  },
  {
   "cell_type": "code",
   "execution_count": 11,
   "metadata": {},
   "outputs": [
    {
     "name": "stdout",
     "output_type": "stream",
     "text": [
      "(2520000, 31)\n"
     ]
    }
   ],
   "source": [
    "samples_MAF = merge_samples(\"../fig8_stg/results/31D_samples/02_cond_vals\", name='conductance_params')\n",
    "samples_MAF = np.reshape(samples_MAF, (1000*2520, 31))\n",
    "print(np.shape(samples_MAF))"
   ]
  },
  {
   "cell_type": "markdown",
   "metadata": {},
   "source": [
    "### Load start and end point"
   ]
  },
  {
   "cell_type": "code",
   "execution_count": 12,
   "metadata": {},
   "outputs": [],
   "source": [
    "num_to_watch = 3\n",
    "infile = '../fig8_stg/results/31D_pairs/similar_and_good/sample_pair_{}.npz'.format(num_to_watch) # 0 is shitty\n",
    "npz = np.load(infile)\n",
    "start_point = npz['params1']\n",
    "end_point = npz['params2']"
   ]
  },
  {
   "cell_type": "code",
   "execution_count": 13,
   "metadata": {},
   "outputs": [],
   "source": [
    "start_point_unnorm = start_point * params_std + params_mean\n",
    "end_point_unnorm   = end_point   * params_std + params_mean\n",
    "ratio = end_point_unnorm / start_point_unnorm\n",
    "run_true = (ratio > np.ones_like(ratio) * 2.0) | (ratio < np.ones_like(ratio) / 2.0)"
   ]
  },
  {
   "cell_type": "code",
   "execution_count": 14,
   "metadata": {},
   "outputs": [
    {
     "name": "stdout",
     "output_type": "stream",
     "text": [
      "[ True  True False  True False False  True False False False False  True\n",
      "  True False False False False False False False  True False  True False\n",
      " False False False False False False False]\n"
     ]
    }
   ],
   "source": [
    "print(run_true)"
   ]
  },
  {
   "cell_type": "code",
   "execution_count": 17,
   "metadata": {},
   "outputs": [],
   "source": [
    "lims = np.asarray([-np.sqrt(3)*np.ones(dimensions), np.sqrt(3)*np.ones(dimensions)]).T\n",
    "#lims[-7,1] -= 2*np.sqrt(3)/6"
   ]
  },
  {
   "cell_type": "code",
   "execution_count": 20,
   "metadata": {},
   "outputs": [],
   "source": [
    "condition=[samples_MAF[23]]"
   ]
  },
  {
   "cell_type": "code",
   "execution_count": 21,
   "metadata": {},
   "outputs": [
    {
     "name": "stdout",
     "output_type": "stream",
     "text": [
      "[array([ 0.36870709,  0.94398522,  0.70361459,  0.23584956,  0.72013789,\n",
      "       -0.08273453, -0.0159445 , -1.1242677 ,  1.10892916,  0.30762386,\n",
      "       -1.03168511, -1.22857141,  1.46345222,  0.22603768, -0.2999846 ,\n",
      "       -0.16751139,  0.09787674, -0.20366697,  0.98973262,  0.05867213,\n",
      "       -1.34967172, -0.97141302,  0.86625403, -0.39365372,  0.79057515,\n",
      "       -1.56889021,  0.1520375 ,  1.23345423,  1.37947774, -0.82434475,\n",
      "        1.31542718])]\n"
     ]
    }
   ],
   "source": [
    "print(condition)"
   ]
  },
  {
   "cell_type": "markdown",
   "metadata": {},
   "source": [
    "# Panel A: marginal posterior"
   ]
  },
  {
   "cell_type": "code",
   "execution_count": 16,
   "metadata": {},
   "outputs": [],
   "source": [
    "from decimal import Decimal\n",
    "all_labels = []\n",
    "for dim_i in range(31):\n",
    "    if dim_i > len(params_mean) - 7.5: # synapses\n",
    "        if dim_i == 24: all_labels.append([r'$\\mathdefault{0.01}$   ', r'$\\mathdefault{10000}\\;\\;\\;\\;$   '])\n",
    "        else: all_labels.append([r'$\\;\\;\\mathdefault{0.01}$', r'$\\mathdefault{1000}\\;\\;\\;\\;$ '])\n",
    "    else: # membrane conductances\n",
    "        num_after_digits = -int(np.log10(lims[dim_i, 1] * params_std[dim_i] + params_mean[dim_i]))\n",
    "        if num_after_digits > 2:\n",
    "            num_after_digits=2\n",
    "        labels = [round(Decimal((lims[dim_i, num_tmp] * params_std[dim_i] + params_mean[dim_i]) / 0.628e-3), num_after_digits)\n",
    "                  for num_tmp in range(2)]\n",
    "        new_labels = []\n",
    "        counter=0\n",
    "        for l in labels:\n",
    "            if counter == 0:\n",
    "                new_labels.append(r'$\\mathdefault{'+str(l)+'}$')\n",
    "            else:\n",
    "                new_labels.append(r'$\\mathdefault{'+str(l)+'}\\;\\;\\;$ ')\n",
    "            counter+=1\n",
    "        all_labels.append(new_labels)"
   ]
  },
  {
   "cell_type": "code",
   "execution_count": 213,
   "metadata": {},
   "outputs": [
    {
     "name": "stderr",
     "output_type": "stream",
     "text": [
      "../common.py:589: FutureWarning: elementwise comparison failed; returning scalar instead, but in the future will perform elementwise comparison\n",
      "  if opts['labels'] == [] or opts['labels'] is None:\n"
     ]
    },
    {
     "data": {
      "image/png": "[encoded data removed]",
      "text/plain": [
       "<Figure size 289x289 with 36 Axes>"
      ]
     },
     "metadata": {},
     "output_type": "display_data"
    }
   ],
   "source": [
    "import matplotlib.patheffects as pe\n",
    "\n",
    "with mpl.rc_context(fname='../.matplotlibrc'):\n",
    "\n",
    "    labels_ = viz.get_labels_8pt(params)\n",
    "    labels_[9] += ''\n",
    "\n",
    "    fig, axes = samples_nd(samples=[samples_MAF[:2520000]],\n",
    "                           subset=[4,5,11,12,19,22], # ,25,26,28\n",
    "                           limits=lims,\n",
    "                           ticks=lims,\n",
    "                           tick_labels=all_labels,\n",
    "                           fig_size=(17.0*0.17, 17.0*0.17),\n",
    "                           labels=labels_,\n",
    "                           scatter_offdiag={'rasterized':True, 'alpha':1.0},\n",
    "                           samples_colors=[col['SNPE']],\n",
    "                           diag=['kde'],\n",
    "                           upper=['hist'],\n",
    "                           hist_offdiag={'bins':50})\n",
    "    \n",
    "    plt.savefig(PANEL_A, facecolor='None', transparent=True)\n",
    "    plt.show()"
   ]
  },
  {
   "cell_type": "markdown",
   "metadata": {},
   "source": [
    "# Panel B: Conditional posteriors"
   ]
  },
  {
   "cell_type": "code",
   "execution_count": 52,
   "metadata": {},
   "outputs": [
    {
     "name": "stderr",
     "output_type": "stream",
     "text": [
      "../common.py:589: FutureWarning: elementwise comparison failed; returning scalar instead, but in the future will perform elementwise comparison\n",
      "  if opts['labels'] == [] or opts['labels'] is None:\n"
     ]
    },
    {
     "data": {
      "image/png": "[encoded data removed]",
      "text/plain": [
       "<Figure size 289x289 with 36 Axes>"
      ]
     },
     "metadata": {},
     "output_type": "display_data"
    }
   ],
   "source": [
    "import matplotlib.patheffects as pe\n",
    "\n",
    "with mpl.rc_context(fname='../.matplotlibrc'):\n",
    "\n",
    "    labels_ = viz.get_labels_8pt(params)\n",
    "    labels_[9] += ''\n",
    "\n",
    "    fig, axes = samples_nd(pdfs=[posterior_MAF],\n",
    "                           samples=[samples_MAF[:12600]],\n",
    "                           subset=[4,5,11,12,19,22], # ,25,26,28\n",
    "                           limits=lims,\n",
    "                           ticks=lims,\n",
    "                           tick_labels=all_labels,\n",
    "                           fig_size=(17.0*0.17,17.0*0.17),\n",
    "                           labels=labels_,\n",
    "                           #points=[samples_MAF[7]],\n",
    "                           scatter_offdiag={'rasterized':True, 'alpha':1.0},\n",
    "                           #points_offdiag={'marker':'o', 'markeredgecolor':'w', 'markersize':3.6, 'markeredgewidth':0.5, 'path_effects':[pe.Stroke(linewidth=1.2, foreground='k'), pe.Normal()]},\n",
    "                           points_colors=[col['CONSISTENT1']],\n",
    "                           samples_colors=[col['SNPE']],\n",
    "                           condition=[samples_MAF[7]],\n",
    "                           diag=['cond'],\n",
    "                           upper=['cond'],\n",
    "                           hist_offdiag={'bins':50})\n",
    "    \n",
    "    plt.savefig(PANEL_B1, facecolor='None', transparent=True)\n",
    "    plt.show()"
   ]
  },
  {
   "cell_type": "code",
   "execution_count": 84,
   "metadata": {},
   "outputs": [
    {
     "name": "stderr",
     "output_type": "stream",
     "text": [
      "../common.py:589: FutureWarning: elementwise comparison failed; returning scalar instead, but in the future will perform elementwise comparison\n",
      "  if opts['labels'] == [] or opts['labels'] is None:\n"
     ]
    },
    {
     "data": {
      "image/png": "[encoded data removed]",
      "text/plain": [
       "<Figure size 289x289 with 36 Axes>"
      ]
     },
     "metadata": {},
     "output_type": "display_data"
    }
   ],
   "source": [
    "import matplotlib.patheffects as pe\n",
    "\n",
    "with mpl.rc_context(fname='../.matplotlibrc'):\n",
    "\n",
    "    labels_ = viz.get_labels_8pt(params)\n",
    "    labels_[9] += ''\n",
    "\n",
    "    fig, axes = samples_nd(pdfs=[posterior_MAF],\n",
    "                           samples=[samples_MAF[:12600]],\n",
    "                           subset=[4,5,11,12,19,22], # ,25,26,28\n",
    "                           limits=lims,\n",
    "                           ticks=lims,\n",
    "                           tick_labels=all_labels,\n",
    "                           fig_size=(17.0*0.17, 17.0*0.17),\n",
    "                           labels=labels_,\n",
    "                           #points=[samples_MAF[1]],\n",
    "                           scatter_offdiag={'rasterized':True, 'alpha':1.0},\n",
    "                           #points_offdiag={'marker':'o', 'markeredgecolor':'w', 'markersize':3.6, 'markeredgewidth':0.5, 'path_effects':[pe.Stroke(linewidth=1.2, foreground='k'), pe.Normal()]},\n",
    "                           points_colors=[col['CONSISTENT1']],\n",
    "                           samples_colors=[col['SNPE']],\n",
    "                           condition=[samples_MAF[23]], # 1 # 23 # 26 # 28\n",
    "                           diag=['cond'],\n",
    "                           upper=['cond'],\n",
    "                           hist_offdiag={'bins':50})\n",
    "    \n",
    "    plt.savefig(PANEL_B2, facecolor='None', transparent=True)\n",
    "    plt.show()"
   ]
  },
  {
   "cell_type": "markdown",
   "metadata": {},
   "source": [
    "# Panel C: Correlation matrix for marginal"
   ]
  },
  {
   "cell_type": "code",
   "execution_count": 17,
   "metadata": {},
   "outputs": [],
   "source": [
    "rho = np.corrcoef(samples_MAF.T)"
   ]
  },
  {
   "cell_type": "code",
   "execution_count": 18,
   "metadata": {},
   "outputs": [
    {
     "data": {
      "image/png": "[encoded data removed]",
      "text/plain": [
       "<Figure size 270x270 with 1 Axes>"
      ]
     },
     "metadata": {},
     "output_type": "display_data"
    }
   ],
   "source": [
    "with mpl.rc_context(fname='../.matplotlibrc'):\n",
    "\n",
    "    fig, ax = plt.subplots(1, 1, facecolor='white', figsize=(2.7,2.7))\n",
    "    ax.imshow(rho, clim=[-1.0, 1.0], cmap='PiYG')\n",
    "    ax.get_xaxis().set_ticks([])\n",
    "    ax.get_yaxis().set_ticks([])\n",
    "    \n",
    "    plt.xticks([-0.5, 7.5, 15.5, 23.5, 30.5], (r'$\\;\\;\\;\\;\\;\\;\\;\\;\\;\\;\\;\\;\\;\\;\\;\\;\\;\\;\\;\\;\\;\\mathdefault{AB/PD}$',\n",
    "                                               r'$\\;\\;\\;\\;\\;\\;\\;\\;\\;\\;\\;\\;\\;\\;\\;\\;\\;\\;\\;\\;\\;\\;\\mathdefault{LP}$',\n",
    "                                               r'$\\;\\;\\;\\;\\;\\;\\;\\;\\;\\;\\;\\;\\;\\;\\;\\;\\;\\;\\;\\;\\;\\mathdefault{PY}$',\n",
    "                                               r'$\\;\\;\\;\\;\\;\\;\\;\\;\\;\\;\\;\\;\\;\\;\\;\\;\\;\\;\\;\\mathdefault{Synapses}$',''))\n",
    "    plt.yticks([-0.5, 7.5, 15.5, 23.5, 30.5], ('AB/PD    ','LP       ','PY       ','Synapses ',''))\n",
    "    plt.yticks(rotation=90)\n",
    "\n",
    "    #plt.savefig(PANEL_C, facecolor='None', transparent=True)\n",
    "    plt.show()"
   ]
  },
  {
   "cell_type": "markdown",
   "metadata": {},
   "source": [
    "# Panel D: Average corrlelation matrix for conditionals"
   ]
  },
  {
   "cell_type": "code",
   "execution_count": 19,
   "metadata": {},
   "outputs": [],
   "source": [
    "import time"
   ]
  },
  {
   "cell_type": "code",
   "execution_count": 20,
   "metadata": {
    "collapsed": true,
    "jupyter": {
     "outputs_hidden": true
    }
   },
   "outputs": [
    {
     "name": "stdout",
     "output_type": "stream",
     "text": [
      "mdnewcounter 0\n",
      "mdnewcounter 1\n",
      "mdnewcounter 2\n",
      "mdnewcounter 3\n",
      "mdnewcounter 4\n",
      "mdnewcounter 5\n",
      "mdnewcounter 6\n",
      "mdnewcounter 7\n",
      "mdnewcounter 8\n",
      "mdnewcounter 9\n",
      "mdnewcounter 10\n",
      "mdnewcounter 11\n",
      "mdnewcounter 12\n",
      "mdnewcounter 13\n",
      "mdnewcounter 14\n",
      "mdnewcounter 15\n",
      "mdnewcounter 16\n",
      "mdnewcounter 17\n",
      "mdnewcounter 18\n",
      "mdnewcounter 19\n",
      "mdnewcounter 20\n",
      "mdnewcounter 21\n",
      "mdnewcounter 22\n",
      "mdnewcounter 23\n",
      "mdnewcounter 24\n",
      "mdnewcounter 25\n",
      "mdnewcounter 26\n",
      "mdnewcounter 27\n",
      "mdnewcounter 28\n",
      "mdnewcounter 29\n",
      "mdnewcounter 30\n",
      "mdnewcounter 31\n",
      "mdnewcounter 32\n",
      "mdnewcounter 33\n",
      "mdnewcounter 34\n",
      "mdnewcounter 35\n",
      "mdnewcounter 36\n",
      "mdnewcounter 37\n",
      "mdnewcounter 38\n",
      "mdnewcounter 39\n",
      "mdnewcounter 40\n",
      "mdnewcounter 41\n",
      "mdnewcounter 42\n",
      "mdnewcounter 43\n",
      "mdnewcounter 44\n",
      "mdnewcounter 45\n",
      "mdnewcounter 46\n",
      "mdnewcounter 47\n",
      "mdnewcounter 48\n",
      "mdnewcounter 49\n",
      "mdnewcounter 50\n",
      "mdnewcounter 51\n",
      "mdnewcounter 52\n",
      "mdnewcounter 53\n",
      "mdnewcounter 54\n",
      "mdnewcounter 55\n",
      "mdnewcounter 56\n",
      "mdnewcounter 57\n",
      "mdnewcounter 58\n",
      "mdnewcounter 59\n",
      "mdnewcounter 60\n",
      "mdnewcounter 61\n",
      "mdnewcounter 62\n",
      "mdnewcounter 63\n",
      "mdnewcounter 64\n",
      "mdnewcounter 65\n",
      "mdnewcounter 66\n",
      "mdnewcounter 67\n",
      "mdnewcounter 68\n",
      "mdnewcounter 69\n",
      "mdnewcounter 70\n",
      "mdnewcounter 71\n",
      "mdnewcounter 72\n",
      "mdnewcounter 73\n",
      "mdnewcounter 74\n",
      "mdnewcounter 75\n",
      "mdnewcounter 76\n",
      "mdnewcounter 77\n",
      "mdnewcounter 78\n",
      "mdnewcounter 79\n",
      "mdnewcounter 80\n",
      "mdnewcounter 81\n",
      "mdnewcounter 82\n",
      "mdnewcounter 83\n",
      "mdnewcounter 84\n",
      "mdnewcounter 85\n",
      "mdnewcounter 86\n",
      "mdnewcounter 87\n",
      "mdnewcounter 88\n",
      "mdnewcounter 89\n",
      "mdnewcounter 90\n",
      "mdnewcounter 91\n",
      "mdnewcounter 92\n",
      "mdnewcounter 93\n",
      "mdnewcounter 94\n",
      "mdnewcounter 95\n",
      "mdnewcounter 96\n",
      "mdnewcounter 97\n",
      "mdnewcounter 98\n",
      "mdnewcounter 99\n",
      "mdnewcounter 100\n",
      "mdnewcounter 101\n",
      "mdnewcounter 102\n",
      "mdnewcounter 103\n",
      "mdnewcounter 104\n",
      "mdnewcounter 105\n",
      "mdnewcounter 106\n",
      "mdnewcounter 107\n",
      "mdnewcounter 108\n",
      "mdnewcounter 109\n",
      "mdnewcounter 110\n",
      "mdnewcounter 111\n",
      "mdnewcounter 112\n",
      "mdnewcounter 113\n",
      "mdnewcounter 114\n",
      "mdnewcounter 115\n",
      "mdnewcounter 116\n",
      "mdnewcounter 117\n",
      "mdnewcounter 118\n",
      "mdnewcounter 119\n",
      "mdnewcounter 120\n",
      "mdnewcounter 121\n",
      "mdnewcounter 122\n",
      "mdnewcounter 123\n",
      "mdnewcounter 124\n",
      "mdnewcounter 125\n",
      "mdnewcounter 126\n",
      "mdnewcounter 127\n",
      "mdnewcounter 128\n",
      "mdnewcounter 129\n",
      "mdnewcounter 130\n",
      "mdnewcounter 131\n",
      "mdnewcounter 132\n",
      "mdnewcounter 133\n",
      "mdnewcounter 134\n",
      "mdnewcounter 135\n",
      "mdnewcounter 136\n",
      "mdnewcounter 137\n",
      "mdnewcounter 138\n",
      "mdnewcounter 139\n",
      "mdnewcounter 140\n",
      "mdnewcounter 141\n",
      "mdnewcounter 142\n",
      "mdnewcounter 143\n",
      "mdnewcounter 144\n",
      "mdnewcounter 145\n",
      "mdnewcounter 146\n",
      "mdnewcounter 147\n",
      "mdnewcounter 148\n",
      "mdnewcounter 149\n",
      "mdnewcounter 150\n",
      "mdnewcounter 151\n",
      "mdnewcounter 152\n",
      "mdnewcounter 153\n",
      "mdnewcounter 154\n",
      "mdnewcounter 155\n",
      "mdnewcounter 156\n",
      "mdnewcounter 157\n",
      "mdnewcounter 158\n",
      "mdnewcounter 159\n",
      "mdnewcounter 160\n",
      "mdnewcounter 161\n",
      "mdnewcounter 162\n",
      "mdnewcounter 163\n",
      "mdnewcounter 164\n",
      "mdnewcounter 165\n",
      "mdnewcounter 166\n",
      "mdnewcounter 167\n",
      "mdnewcounter 168\n",
      "mdnewcounter 169\n",
      "mdnewcounter 170\n",
      "mdnewcounter 171\n",
      "mdnewcounter 172\n",
      "mdnewcounter 173\n",
      "mdnewcounter 174\n",
      "mdnewcounter 175\n",
      "mdnewcounter 176\n",
      "mdnewcounter 177\n",
      "mdnewcounter 178\n",
      "mdnewcounter 179\n",
      "mdnewcounter 180\n",
      "mdnewcounter 181\n",
      "mdnewcounter 182\n",
      "mdnewcounter 183\n",
      "mdnewcounter 184\n",
      "mdnewcounter 185\n",
      "mdnewcounter 186\n",
      "mdnewcounter 187\n",
      "mdnewcounter 188\n",
      "mdnewcounter 189\n",
      "mdnewcounter 190\n",
      "mdnewcounter 191\n",
      "mdnewcounter 192\n",
      "mdnewcounter 193\n",
      "mdnewcounter 194\n",
      "mdnewcounter 195\n",
      "mdnewcounter 196\n",
      "mdnewcounter 197\n",
      "mdnewcounter 198\n",
      "mdnewcounter 199\n",
      "mdnewcounter 200\n",
      "mdnewcounter 201\n",
      "mdnewcounter 202\n",
      "mdnewcounter 203\n",
      "mdnewcounter 204\n",
      "mdnewcounter 205\n",
      "mdnewcounter 206\n",
      "mdnewcounter 207\n",
      "mdnewcounter 208\n",
      "mdnewcounter 209\n",
      "mdnewcounter 210\n",
      "mdnewcounter 211\n",
      "mdnewcounter 212\n",
      "mdnewcounter 213\n",
      "mdnewcounter 214\n",
      "mdnewcounter 215\n",
      "mdnewcounter 216\n",
      "mdnewcounter 217\n",
      "mdnewcounter 218\n",
      "mdnewcounter 219\n",
      "mdnewcounter 220\n",
      "mdnewcounter 221\n",
      "mdnewcounter 222\n",
      "mdnewcounter 223\n",
      "mdnewcounter 224\n",
      "mdnewcounter 225\n",
      "mdnewcounter 226\n",
      "mdnewcounter 227\n",
      "mdnewcounter 228\n",
      "mdnewcounter 229\n",
      "mdnewcounter 230\n",
      "mdnewcounter 231\n",
      "mdnewcounter 232\n",
      "mdnewcounter 233\n",
      "mdnewcounter 234\n",
      "mdnewcounter 235\n",
      "mdnewcounter 236\n",
      "mdnewcounter 237\n",
      "mdnewcounter 238\n",
      "mdnewcounter 239\n",
      "mdnewcounter 240\n",
      "mdnewcounter 241\n",
      "mdnewcounter 242\n",
      "mdnewcounter 243\n",
      "mdnewcounter 244\n",
      "mdnewcounter 245\n",
      "mdnewcounter 246\n",
      "mdnewcounter 247\n",
      "mdnewcounter 248\n",
      "mdnewcounter 249\n",
      "mdnewcounter 250\n",
      "mdnewcounter 251\n",
      "mdnewcounter 252\n",
      "mdnewcounter 253\n",
      "mdnewcounter 254\n",
      "mdnewcounter 255\n",
      "mdnewcounter 256\n",
      "mdnewcounter 257\n",
      "mdnewcounter 258\n",
      "mdnewcounter 259\n",
      "mdnewcounter 260\n",
      "mdnewcounter 261\n",
      "mdnewcounter 262\n",
      "mdnewcounter 263\n",
      "mdnewcounter 264\n",
      "mdnewcounter 265\n",
      "mdnewcounter 266\n",
      "mdnewcounter 267\n",
      "mdnewcounter 268\n",
      "mdnewcounter 269\n",
      "mdnewcounter 270\n",
      "mdnewcounter 271\n",
      "mdnewcounter 272\n",
      "mdnewcounter 273\n",
      "mdnewcounter 274\n",
      "mdnewcounter 275\n",
      "mdnewcounter 276\n",
      "mdnewcounter 277\n",
      "mdnewcounter 278\n",
      "mdnewcounter 279\n",
      "mdnewcounter 280\n",
      "mdnewcounter 281\n",
      "mdnewcounter 282\n",
      "mdnewcounter 283\n",
      "mdnewcounter 284\n",
      "mdnewcounter 285\n",
      "mdnewcounter 286\n",
      "mdnewcounter 287\n",
      "mdnewcounter 288\n",
      "mdnewcounter 289\n",
      "mdnewcounter 290\n",
      "mdnewcounter 291\n",
      "mdnewcounter 292\n",
      "mdnewcounter 293\n",
      "mdnewcounter 294\n",
      "mdnewcounter 295\n",
      "mdnewcounter 296\n",
      "mdnewcounter 297\n",
      "mdnewcounter 298\n",
      "mdnewcounter 299\n",
      "mdnewcounter 300\n",
      "mdnewcounter 301\n",
      "mdnewcounter 302\n",
      "mdnewcounter 303\n",
      "mdnewcounter 304\n",
      "mdnewcounter 305\n",
      "mdnewcounter 306\n",
      "mdnewcounter 307\n",
      "mdnewcounter 308\n",
      "mdnewcounter 309\n",
      "mdnewcounter 310\n",
      "mdnewcounter 311\n",
      "mdnewcounter 312\n",
      "mdnewcounter 313\n",
      "mdnewcounter 314\n",
      "mdnewcounter 315\n",
      "mdnewcounter 316\n",
      "mdnewcounter 317\n",
      "mdnewcounter 318\n",
      "mdnewcounter 319\n",
      "mdnewcounter 320\n",
      "mdnewcounter 321\n",
      "mdnewcounter 322\n",
      "mdnewcounter 323\n",
      "mdnewcounter 324\n",
      "mdnewcounter 325\n",
      "mdnewcounter 326\n",
      "mdnewcounter 327\n",
      "mdnewcounter 328\n",
      "mdnewcounter 329\n",
      "mdnewcounter 330\n",
      "mdnewcounter 331\n",
      "mdnewcounter 332\n",
      "mdnewcounter 333\n",
      "mdnewcounter 334\n",
      "mdnewcounter 335\n",
      "mdnewcounter 336\n",
      "mdnewcounter 337\n",
      "mdnewcounter 338\n",
      "mdnewcounter 339\n",
      "mdnewcounter 340\n",
      "mdnewcounter 341\n",
      "mdnewcounter 342\n",
      "mdnewcounter 343\n",
      "mdnewcounter 344\n",
      "mdnewcounter 345\n",
      "mdnewcounter 346\n",
      "mdnewcounter 347\n",
      "mdnewcounter 348\n",
      "mdnewcounter 349\n",
      "mdnewcounter 350\n",
      "mdnewcounter 351\n",
      "mdnewcounter 352\n",
      "mdnewcounter 353\n",
      "mdnewcounter 354\n",
      "mdnewcounter 355\n",
      "mdnewcounter 356\n",
      "mdnewcounter 357\n",
      "mdnewcounter 358\n",
      "mdnewcounter 359\n",
      "mdnewcounter 360\n",
      "mdnewcounter 361\n",
      "mdnewcounter 362\n",
      "mdnewcounter 363\n",
      "mdnewcounter 364\n",
      "mdnewcounter 365\n",
      "mdnewcounter 366\n",
      "mdnewcounter 367\n",
      "mdnewcounter 368\n",
      "mdnewcounter 369\n",
      "mdnewcounter 370\n",
      "mdnewcounter 371\n",
      "mdnewcounter 372\n",
      "mdnewcounter 373\n",
      "mdnewcounter 374\n",
      "mdnewcounter 375\n",
      "mdnewcounter 376\n",
      "mdnewcounter 377\n",
      "mdnewcounter 378\n",
      "mdnewcounter 379\n",
      "mdnewcounter 380\n",
      "mdnewcounter 381\n",
      "mdnewcounter 382\n",
      "mdnewcounter 383\n",
      "mdnewcounter 384\n",
      "mdnewcounter 385\n",
      "mdnewcounter 386\n",
      "mdnewcounter 387\n",
      "mdnewcounter 388\n",
      "mdnewcounter 389\n",
      "mdnewcounter 390\n",
      "mdnewcounter 391\n",
      "mdnewcounter 392\n",
      "mdnewcounter 393\n",
      "mdnewcounter 394\n",
      "mdnewcounter 395\n",
      "mdnewcounter 396\n",
      "mdnewcounter 397\n",
      "mdnewcounter 398\n",
      "mdnewcounter 399\n",
      "mdnewcounter 400\n",
      "mdnewcounter 401\n",
      "mdnewcounter 402\n",
      "mdnewcounter 403\n",
      "mdnewcounter 404\n",
      "mdnewcounter 405\n",
      "mdnewcounter 406\n",
      "mdnewcounter 407\n",
      "mdnewcounter 408\n",
      "mdnewcounter 409\n",
      "mdnewcounter 410\n",
      "mdnewcounter 411\n",
      "mdnewcounter 412\n",
      "mdnewcounter 413\n",
      "mdnewcounter 414\n",
      "mdnewcounter 415\n",
      "mdnewcounter 416\n",
      "mdnewcounter 417\n",
      "mdnewcounter 418\n",
      "mdnewcounter 419\n",
      "mdnewcounter 420\n",
      "mdnewcounter 421\n",
      "mdnewcounter 422\n",
      "mdnewcounter 423\n",
      "mdnewcounter 424\n",
      "mdnewcounter 425\n",
      "mdnewcounter 426\n",
      "mdnewcounter 427\n",
      "mdnewcounter 428\n",
      "mdnewcounter 429\n",
      "mdnewcounter 430\n",
      "mdnewcounter 431\n",
      "mdnewcounter 432\n",
      "mdnewcounter 433\n",
      "mdnewcounter 434\n",
      "mdnewcounter 435\n",
      "mdnewcounter 436\n",
      "mdnewcounter 437\n",
      "mdnewcounter 438\n",
      "mdnewcounter 439\n",
      "mdnewcounter 440\n",
      "mdnewcounter 441\n",
      "mdnewcounter 442\n",
      "mdnewcounter 443\n",
      "mdnewcounter 444\n",
      "mdnewcounter 445\n",
      "mdnewcounter 446\n",
      "mdnewcounter 447\n",
      "mdnewcounter 448\n",
      "mdnewcounter 449\n",
      "mdnewcounter 450\n",
      "mdnewcounter 451\n",
      "mdnewcounter 452\n",
      "mdnewcounter 453\n",
      "mdnewcounter 454\n",
      "mdnewcounter 455\n",
      "mdnewcounter 456\n",
      "mdnewcounter 457\n",
      "mdnewcounter 458\n",
      "mdnewcounter 459\n",
      "mdnewcounter 460\n",
      "mdnewcounter 461\n",
      "mdnewcounter 462\n",
      "mdnewcounter 463\n",
      "mdnewcounter 464\n",
      "mdnewcounter 465\n",
      "mdnewcounter 466\n",
      "mdnewcounter 467\n",
      "mdnewcounter 468\n",
      "mdnewcounter 469\n",
      "mdnewcounter 470\n",
      "mdnewcounter 471\n",
      "mdnewcounter 472\n",
      "mdnewcounter 473\n",
      "mdnewcounter 474\n",
      "mdnewcounter 475\n",
      "mdnewcounter 476\n",
      "mdnewcounter 477\n",
      "mdnewcounter 478\n",
      "mdnewcounter 479\n",
      "mdnewcounter 480\n",
      "mdnewcounter 481\n",
      "mdnewcounter 482\n",
      "mdnewcounter 483\n",
      "mdnewcounter 484\n",
      "mdnewcounter 485\n",
      "mdnewcounter 486\n",
      "mdnewcounter 487\n",
      "mdnewcounter 488\n",
      "mdnewcounter 489\n",
      "mdnewcounter 490\n",
      "mdnewcounter 491\n",
      "mdnewcounter 492\n",
      "mdnewcounter 493\n",
      "mdnewcounter 494\n",
      "mdnewcounter 495\n",
      "mdnewcounter 496\n",
      "mdnewcounter 497\n",
      "mdnewcounter 498\n",
      "mdnewcounter 499\n",
      "For 500 samples, it took:   18097.508468151093\n"
     ]
    }
   ],
   "source": [
    "max_dim     = 31\n",
    "num_samples = 500\n",
    "resolution  = 50\n",
    "start_t = time.time()\n",
    "rho_symm_save = buildCondCovMatrix(posterior_MAF, lims=lims, samples=samples_MAF[:num_samples], num_samples=num_samples, max_dim=max_dim, resolution=resolution)\n",
    "print('For', num_samples, 'samples, it took:  ', time.time()-start_t)\n",
    "np.savez('results/cond_cov_{}samples_{}resolution.npz'.format(num_samples, resolution), rho_symm=rho_symm_save)"
   ]
  },
  {
   "cell_type": "code",
   "execution_count": 21,
   "metadata": {},
   "outputs": [],
   "source": [
    "rho_symm = np.load('results/cond_cov_500samples_50resolution.npz')['rho_symm']"
   ]
  },
  {
   "cell_type": "code",
   "execution_count": 22,
   "metadata": {},
   "outputs": [
    {
     "data": {
      "image/png": "[encoded data removed]",
      "text/plain": [
       "<Figure size 270x270 with 1 Axes>"
      ]
     },
     "metadata": {},
     "output_type": "display_data"
    }
   ],
   "source": [
    "with mpl.rc_context(fname='../.matplotlibrc'):\n",
    "\n",
    "    fig, ax = plt.subplots(1, 1, facecolor='white', figsize=(2.7,2.7))\n",
    "    mpb = ax.imshow(rho_symm, clim=[-1.0, 1.0], cmap='PiYG')\n",
    "    ax.get_xaxis().set_ticks([])\n",
    "    ax.get_yaxis().set_ticks([])\n",
    "    \n",
    "    plt.xticks([-0.5, 7.5, 15.5, 23.5, 30.5], (r'$\\;\\;\\;\\;\\;\\;\\;\\;\\;\\;\\;\\;\\;\\;\\;\\;\\;\\;\\;\\;\\;\\mathdefault{AB/PD}$',\n",
    "                                               r'$\\;\\;\\;\\;\\;\\;\\;\\;\\;\\;\\;\\;\\;\\;\\;\\;\\;\\;\\;\\;\\;\\;\\mathdefault{LP}$',\n",
    "                                               r'$\\;\\;\\;\\;\\;\\;\\;\\;\\;\\;\\;\\;\\;\\;\\;\\;\\;\\;\\;\\;\\;\\mathdefault{PY}$',\n",
    "                                               r'$\\;\\;\\;\\;\\;\\;\\;\\;\\;\\;\\;\\;\\;\\;\\;\\;\\;\\;\\;\\mathdefault{Synapses}$',''))\n",
    "    plt.yticks([-0.5, 7.5, 15.5, 23.5, 30.5], ('AB/PD    ','LP       ','PY       ','Synapses ',''))\n",
    "    plt.yticks(rotation=90)\n",
    "\n",
    "    plt.savefig(PANEL_D, facecolor='None', transparent=True)\n",
    "    plt.show()"
   ]
  },
  {
   "cell_type": "markdown",
   "metadata": {},
   "source": [
    "# Panel C2: Colorbar"
   ]
  },
  {
   "cell_type": "code",
   "execution_count": 24,
   "metadata": {},
   "outputs": [
    {
     "data": {
      "image/png": "[encoded data removed]",
      "text/plain": [
       "<Figure size 270x270 with 1 Axes>"
      ]
     },
     "metadata": {},
     "output_type": "display_data"
    }
   ],
   "source": [
    "with mpl.rc_context(fname='../.matplotlibrc'):\n",
    "\n",
    "    # draw a new figure and replot the colorbar there\n",
    "    fig,ax = plt.subplots(figsize=(2.7,2.7))\n",
    "    cb = plt.colorbar(mpb,ax=ax, aspect=30)\n",
    "\n",
    "    #cb.outline.set_color('white')\n",
    "    \n",
    "    cb.outline.set_edgecolor('k')\n",
    "    cb.outline.set_linewidth(0.2)\n",
    "\n",
    "    cb.set_ticks([-0.99,0.99])  # vertically oriented colorbar\n",
    "    cb.ax.set_yticklabels(['-1', '1'])  # vertically oriented colorbar\n",
    "                           \n",
    "    cb.ax.set_ylabel('Correlation coefficient')\n",
    "    cb.ax.yaxis.labelpad = -8\n",
    "    \n",
    "    \n",
    "    ax.remove()\n",
    "    \n",
    "    plt.savefig(PANEL_C2, facecolor='None', transparent=True)\n",
    "    plt.show()"
   ]
  },
  {
   "cell_type": "markdown",
   "metadata": {},
   "source": [
    "# Panel E: Extract specific correlations"
   ]
  },
  {
   "cell_type": "code",
   "execution_count": 25,
   "metadata": {},
   "outputs": [],
   "source": [
    "num_samples = 500\n",
    "specific_correlation_save = extractSpecificCondCorr(posterior_MAF, corrs=[[3,6], [11,14], [19,22], [6,28], [14,24], [14,25], [14,30], [22,26], [22,27], [22,29]], lims=lims, samples=samples_MAF[:num_samples], num_samples=num_samples, max_dim=max_dim, resolution=resolution)\n",
    "np.savez('results/cond_cov_matrix/cond_specific_{}samples_{}resolution.npz'.format(num_samples, resolution), specific_correlation=specific_correlation_save)"
   ]
  },
  {
   "cell_type": "code",
   "execution_count": 26,
   "metadata": {},
   "outputs": [],
   "source": [
    "specific_correlation = np.load('results/cond_cov_matrix/cond_specific_500samples_50resolution.npz')['specific_correlation']"
   ]
  },
  {
   "cell_type": "code",
   "execution_count": 27,
   "metadata": {},
   "outputs": [],
   "source": [
    "num_membrane = 3"
   ]
  },
  {
   "cell_type": "code",
   "execution_count": 28,
   "metadata": {},
   "outputs": [],
   "source": [
    "cmap = plt.cm.get_cmap('PiYG')"
   ]
  },
  {
   "cell_type": "code",
   "execution_count": 35,
   "metadata": {},
   "outputs": [
    {
     "data": {
      "image/png": "[encoded data removed]",
      "text/plain": [
       "<Figure size 320x85 with 1 Axes>"
      ]
     },
     "metadata": {},
     "output_type": "display_data"
    }
   ],
   "source": [
    "import seaborn as sns\n",
    "import pandas as pd\n",
    "\n",
    "with mpl.rc_context(fname='../.matplotlibrc'):\n",
    "    fig, ax = plt.subplots(1,1, figsize=(3.2,0.85))\n",
    "    df = pd.DataFrame(specific_correlation[:3].T)\n",
    "\n",
    "    ax.axhline(0.0, c='gray', lw=.5)\n",
    "    ax = sns.boxplot(data=df, width=0.25, fliersize=.0, linewidth=1.2) # , color='#0570b0'\n",
    "    for i, patch in enumerate(ax.artists):\n",
    "        r, g, b, a = patch.get_facecolor() # r, g, b, a = patch.get_facecolor()\n",
    "        patch.set_facecolor((r, g, b, .6)) # patch.set_facecolor((r, g, b, .6))\n",
    "        mean_val = np.mean(specific_correlation[i]) * 0.5 + 0.5\n",
    "        rgba = cmap(mean_val)\n",
    "        patch.set_facecolor((rgba[0], rgba[1], rgba[2])) # patch.set_facecolor((r, g, b, .6))\n",
    "    plt.xticks(np.arange(3), ('AB-A\\nAB-H', 'LP-A\\nLP-H', 'PY-A\\nPY-H'))\n",
    "    plt.xticks(rotation=45)\n",
    "    ax.tick_params(axis='both', which='major', pad=1)\n",
    "\n",
    "    ax.set_ylim([-1,1])\n",
    "    ax.set_xlim(-0.5, 2.5)\n",
    "    \n",
    "    ax.yaxis.labelpad = -0\n",
    "    plt.ylabel('Corr. coeff.')\n",
    "    \n",
    "    plt.savefig(PANEL_E1, facecolor='None', transparent=True)\n",
    "    plt.show()"
   ]
  },
  {
   "cell_type": "code",
   "execution_count": 34,
   "metadata": {},
   "outputs": [
    {
     "data": {
      "image/png": "[encoded data removed]",
      "text/plain": [
       "<Figure size 320x85 with 1 Axes>"
      ]
     },
     "metadata": {},
     "output_type": "display_data"
    }
   ],
   "source": [
    "import seaborn as sns\n",
    "import pandas as pd\n",
    "\n",
    "with mpl.rc_context(fname='../.matplotlibrc'):\n",
    "    fig, ax = plt.subplots(1,1, figsize=(3.2,0.85))\n",
    "    df = pd.DataFrame(specific_correlation[3:].T)\n",
    "\n",
    "    ax.axhline(0.0, c='gray', lw=.5, zorder=-10)\n",
    "    ax = sns.boxplot(data=df, width=0.57, fliersize=.0, linewidth=1.2)\n",
    "    for i, patch in enumerate(ax.artists):\n",
    "        r, g, b, a = patch.get_facecolor()\n",
    "        patch.set_facecolor((r, g, b, .6)) # patch.set_facecolor((r, g, b, .6))\n",
    "        mean_val = np.mean(specific_correlation[i+3]) * 0.5 + 0.5\n",
    "        rgba = cmap(mean_val)\n",
    "        patch.set_facecolor((rgba[0], rgba[1], rgba[2])) # patch.set_facecolor((r, g, b, .6))\n",
    "    plt.xticks(np.arange(len(specific_correlation)-num_membrane), ('PD-H\\nLP-PD', 'LP-H\\nAB-LP', 'LP-H\\nPD-LP', 'LP-H\\nPY-LP', 'PY-H\\nAB-PY', 'PY-H\\nPD-PY', 'PY-H\\nLP-PY'))\n",
    "    plt.xticks(rotation=45)\n",
    "    ax.tick_params(axis='both', which='major', pad=1)\n",
    "    \n",
    "    ax.yaxis.labelpad = -0\n",
    "    plt.ylabel('Corr. coeff.')\n",
    "\n",
    "    ax.set_ylim([-1,1])\n",
    "    ax.set_xlim(-0.4, 6.4)\n",
    "    \n",
    "    plt.savefig(PANEL_E2, facecolor='None', transparent=True)\n",
    "    plt.show()"
   ]
  },
  {
   "cell_type": "markdown",
   "metadata": {},
   "source": [
    "# Assemble figure"
   ]
  },
  {
   "cell_type": "code",
   "execution_count": 3,
   "metadata": {},
   "outputs": [],
   "source": [
    "color_mixture = 0.5 * (np.asarray(list(col['CONSISTENT1'])) + np.asarray(list(col['CONSISTENT2'])))"
   ]
  },
  {
   "cell_type": "code",
   "execution_count": 4,
   "metadata": {},
   "outputs": [],
   "source": [
    "import time\n",
    "import IPython.display as IPd\n",
    "\n",
    "def svg(img):\n",
    "    IPd.display(IPd.HTML('<img src=\"{}\" / >'.format(img, time.time())))"
   ]
  },
  {
   "cell_type": "code",
   "execution_count": 5,
   "metadata": {},
   "outputs": [
    {
     "data": {
      "text/html": [
       "<img src=\"fig/fig9_stg.svg\" / >"
      ],
      "text/plain": [
       "<IPython.core.display.HTML object>"
      ]
     },
     "metadata": {},
     "output_type": "display_data"
    }
   ],
   "source": [
    "from svgutils.compose import *\n",
    "\n",
    "# > Inkscape pixel is 1/90 of an inch, other software usually uses 1/72.\n",
    "# > http://www.inkscapeforum.com/viewtopic.php?f=6&t=5964\n",
    "svg_scale = 1.25  # set this to 1.25 for Inkscape, 1.0 otherwise\n",
    "factor_svg=5.5\n",
    "\n",
    "# Panel letters in Helvetica Neue, 12pt, Medium\n",
    "kwargs_text = {'size': '12pt', 'font': 'Arial', 'weight': '800'}\n",
    "kwargs_heading = {'size': '8pt', 'font': 'Arial'}\n",
    "kwargs_consistent = {'size': '10pt', 'font': 'Arial', 'weight': '500', 'color': '#AF99EF'}\n",
    "kwargs_consistent1 = {'size': '10pt', 'font': 'Arial', 'weight': '500', 'color': '#9E7DD5'}\n",
    "kwargs_inconsistent = {'size': '10pt', 'font': 'Arial', 'weight': '500', 'color': '#D73789'}\n",
    "kwargs_text8pt = {'size': '7.7pt', 'font': 'Arial'}\n",
    "\n",
    "sizefactor = 1.0\n",
    "dshift = 0.5*factor_svg\n",
    "\n",
    "top_left_x_AB = 295.9\n",
    "top_left_y_AB = 287.4\n",
    "\n",
    "top_left_x_1 = 380\n",
    "top_left_y_1 = 355\n",
    "\n",
    "top_left_x_2 = 333\n",
    "top_left_y_2 = 306\n",
    "\n",
    "top_left_x_3 = 429\n",
    "top_left_y_3 = 402\n",
    "\n",
    "square_size = 48.2\n",
    "small_square = 6.0\n",
    "\n",
    "rectangle_col = 'black'\n",
    "smallRect_col = 'blue'\n",
    "rectangle_width = 1.0\n",
    "    \n",
    "f = Figure('20.3cm', '13.2cm',\n",
    "\n",
    "    Panel(\n",
    "          SVG(PANEL_A).scale(svg_scale).move(0, 15*factor_svg),\n",
    "          Text(\"a\", 0*factor_svg, 17*factor_svg, **kwargs_text),\n",
    "          #Text(\"Na CaT CaS A KCa Kd H leak\", 6.5*factor_svg, 63.0*factor_svg, **kwargs_heading),\n",
    "    ).move(0*factor_svg, -14.5*factor_svg),\n",
    "    \n",
    "    Panel(\n",
    "          SVG(PANEL_B1).scale(svg_scale).move(0, 15*factor_svg),\n",
    "          Text(\"c\", 0*factor_svg, 17*factor_svg, **kwargs_text),\n",
    "    ).move(48*factor_svg, -14.5*factor_svg),\n",
    "    \n",
    "    Panel(\n",
    "          SVG(PANEL_B2).scale(svg_scale).move(0, 15*factor_svg),\n",
    "    ).move(96*factor_svg, -14.5*factor_svg),\n",
    "    \n",
    "    Panel(\n",
    "          SVG(PANEL_C).scale(svg_scale).move(0, 0*factor_svg),\n",
    "          Text(\"b\", 3*factor_svg, 0*factor_svg, **kwargs_text),\n",
    "          #Text(\"Marginal covariance matrix\", 8.5*factor_svg, 0.5*factor_svg, **kwargs_heading),\n",
    "    ).move(-3*factor_svg, 50*factor_svg),\n",
    "    \n",
    "    Panel(\n",
    "          SVG(PANEL_C2).scale(svg_scale).move(0, 0*factor_svg),\n",
    "    ).move(39.5*factor_svg, 50*factor_svg),\n",
    "    \n",
    "    Panel(\n",
    "          SVG(PANEL_D).scale(svg_scale).move(0, 0*factor_svg),\n",
    "        Text(\"d\", 3.0*factor_svg, 0*factor_svg, **kwargs_text),\n",
    "        #Text(\"Conditional covariance matrix\", 8.5*factor_svg, 0.5*factor_svg, **kwargs_heading),\n",
    "    ).move(45.0*factor_svg, 50*factor_svg),\n",
    "    \n",
    "    Panel(\n",
    "          SVG(PANEL_E1).scale(svg_scale).move(0, 0*factor_svg),\n",
    "          Text(\"e\", -1*factor_svg, 0*factor_svg, **kwargs_text),\n",
    "          #Text(\"Experimentally observed correlations\", 5*factor_svg, 0.5*factor_svg, **kwargs_heading),\n",
    "    ).move(92.4*factor_svg, 50*factor_svg),\n",
    "    \n",
    "    Panel(\n",
    "          SVG(PANEL_E2).scale(svg_scale).move(0, 0*factor_svg),\n",
    "    ).move(92.4*factor_svg, 69.2*factor_svg),\n",
    "    \n",
    "    # AB/PD square\n",
    "    Line(((top_left_x_AB, top_left_y_AB), (top_left_x_AB, top_left_y_AB+square_size)), width=rectangle_width, color=rectangle_col),\n",
    "    Line(((top_left_x_AB, top_left_y_AB), (top_left_x_AB+square_size, top_left_y_AB)), width=rectangle_width, color=rectangle_col),\n",
    "    Line(((top_left_x_AB+square_size, top_left_y_AB), (top_left_x_AB+square_size, top_left_y_AB+square_size)), width=rectangle_width, color=rectangle_col),\n",
    "    Line(((top_left_x_AB, top_left_y_AB+square_size), (top_left_x_AB+square_size, top_left_y_AB+square_size)), width=rectangle_width, color=rectangle_col),\n",
    "    \n",
    "    # LP square\n",
    "    Line(((top_left_x_AB+square_size, top_left_y_AB+square_size), (top_left_x_AB+square_size, top_left_y_AB+2*square_size)), width=rectangle_width, color=rectangle_col),\n",
    "    Line(((top_left_x_AB+square_size, top_left_y_AB+square_size), (top_left_x_AB+2*square_size, top_left_y_AB+square_size)), width=rectangle_width, color=rectangle_col),\n",
    "    Line(((top_left_x_AB+2*square_size, top_left_y_AB+square_size), (top_left_x_AB+2*square_size, top_left_y_AB+2*square_size)), width=rectangle_width, color=rectangle_col),\n",
    "    Line(((top_left_x_AB+square_size, top_left_y_AB+2*square_size), (top_left_x_AB+2*square_size, top_left_y_AB+2*square_size)), width=rectangle_width, color=rectangle_col),\n",
    "    \n",
    "    # PY square\n",
    "    Line(((top_left_x_AB+2*square_size, top_left_y_AB+2*square_size), (top_left_x_AB+2*square_size, top_left_y_AB+3*square_size)), width=rectangle_width, color=rectangle_col),\n",
    "    Line(((top_left_x_AB+2*square_size, top_left_y_AB+2*square_size), (top_left_x_AB+3*square_size, top_left_y_AB+2*square_size)), width=rectangle_width, color=rectangle_col),\n",
    "    Line(((top_left_x_AB+3*square_size, top_left_y_AB+2*square_size), (top_left_x_AB+3*square_size, top_left_y_AB+3*square_size)), width=rectangle_width, color=rectangle_col),\n",
    "    Line(((top_left_x_AB+2*square_size, top_left_y_AB+3*square_size), (top_left_x_AB+3*square_size, top_left_y_AB+3*square_size)), width=rectangle_width, color=rectangle_col),\n",
    "           \n",
    "    # AB-A, AB-H square\n",
    "    #Line(((top_left_x_1, top_left_y_1), (top_left_x_1, top_left_y_1+small_square)), width=rectangle_width, color=smallRect_col),\n",
    "    #Line(((top_left_x_1, top_left_y_1), (top_left_x_1+small_square, top_left_y_1)), width=rectangle_width, color=smallRect_col),\n",
    "    #Line(((top_left_x_1+small_square, top_left_y_1), (top_left_x_1+small_square, top_left_y_1+small_square)), width=rectangle_width, color=smallRect_col),\n",
    "    #Line(((top_left_x_1, top_left_y_1+small_square), (top_left_x_1+small_square, top_left_y_1+small_square)), width=rectangle_width, color=smallRect_col),\n",
    "           \n",
    "    # AB-A, AB-H square\n",
    "    #Line(((top_left_x_2, top_left_y_2), (top_left_x_2, top_left_y_2+small_square)), width=rectangle_width, color=smallRect_col),\n",
    "    #Line(((top_left_x_2, top_left_y_2), (top_left_x_2+small_square, top_left_y_2)), width=rectangle_width, color=smallRect_col),\n",
    "    #Line(((top_left_x_2+small_square, top_left_y_2), (top_left_x_2+small_square, top_left_y_2+small_square)), width=rectangle_width, color=smallRect_col),\n",
    "    #Line(((top_left_x_2, top_left_y_2+small_square), (top_left_x_2+small_square, top_left_y_2+small_square)), width=rectangle_width, color=smallRect_col),\n",
    "    \n",
    "    # AB-A, AB-H square\n",
    "    #Line(((top_left_x_3, top_left_y_3), (top_left_x_3, top_left_y_3+small_square)), width=rectangle_width, color=smallRect_col),\n",
    "    #Line(((top_left_x_3, top_left_y_3), (top_left_x_3+small_square, top_left_y_3)), width=rectangle_width, color=smallRect_col),\n",
    "    #Line(((top_left_x_3+small_square, top_left_y_3), (top_left_x_3+small_square, top_left_y_3+small_square)), width=rectangle_width, color=smallRect_col),\n",
    "    #Line(((top_left_x_3, top_left_y_3+small_square), (top_left_x_3+small_square, top_left_y_3+small_square)), width=rectangle_width, color=smallRect_col),\n",
    ")\n",
    "\n",
    "!mkdir -p fig\n",
    "f.save(\"fig/fig9_stg.svg\")\n",
    "svg('fig/fig9_stg.svg')"
   ]
  },
  {
   "cell_type": "code",
   "execution_count": null,
   "metadata": {},
   "outputs": [],
   "source": [
    "\n",
    "\n",
    "\n",
    "\n",
    "\n",
    "\n",
    "\n",
    "\n",
    "\n",
    "\n",
    "\n",
    "\n",
    "\n",
    "\n",
    "\n",
    "\n",
    "\n",
    "\n",
    "\n",
    "\n",
    "\n",
    "\n",
    "\n",
    "\n",
    "\n",
    "\n",
    "\n",
    "\n",
    "\n",
    "\n",
    "\n",
    "\n",
    "\n",
    "\n",
    "\n",
    "\n",
    "\n",
    "\n",
    "\n",
    "\n",
    "\n",
    "\n"
   ]
  },
  {
   "cell_type": "code",
   "execution_count": null,
   "metadata": {},
   "outputs": [],
   "source": []
  },
  {
   "cell_type": "code",
   "execution_count": null,
   "metadata": {},
   "outputs": [],
   "source": []
  }
 ],
 "metadata": {
  "kernelspec": {
   "display_name": "Python 3",
   "language": "python",
   "name": "python3"
  },
  "language_info": {
   "codemirror_mode": {
    "name": "ipython",
    "version": 3
   },
   "file_extension": ".py",
   "mimetype": "text/x-python",
   "name": "python",
   "nbconvert_exporter": "python",
   "pygments_lexer": "ipython3",
   "version": "3.7.9"
  }
 },
 "nbformat": 4,
 "nbformat_minor": 4
}
