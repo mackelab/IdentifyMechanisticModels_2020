{
 "cells": [
  {
   "cell_type": "markdown",
   "metadata": {},
   "source": [
    "# Figures"
   ]
  },
  {
   "cell_type": "markdown",
   "metadata": {},
   "source": [
    "Note that for figure 2 of the manuscript, we manually merged panels from `2_glm` and `3_glm` after revisions. Results of the benchmark comparison between SNPE, Rejection ABC, and SMC-ABC (panel d) are in `benchmark/benchmark_results.zip`."
   ]
  },
  {
   "cell_type": "code",
   "execution_count": null,
   "metadata": {},
   "outputs": [],
   "source": [
    "%matplotlib inline\n",
    "\n",
    "import delfi.distribution as dd\n",
    "import matplotlib as mpl\n",
    "import matplotlib.gridspec as gridspec\n",
    "import matplotlib.patches as mpatches\n",
    "import matplotlib.pyplot as plt\n",
    "import numpy as np\n",
    "import pickle\n",
    "import seaborn as sns\n",
    "\n",
    "from model.GLM import GLM\n",
    "from mpl_toolkits.axes_grid1 import make_axes_locatable\n",
    "\n",
    "import sys; sys.path.append('../')\n",
    "from common import col, svg, plot_pdf\n",
    "\n",
    "!mkdir -p svg/\n",
    "\n",
    "tmp = np.load('results/single_round_lfs.npy',\n",
    "              allow_pickle=True)[()]\n",
    "posterior, prior = tmp['posterior'], tmp['prior']\n",
    "\n",
    "tmp = np.load('results/ground_truth_data_lfs.npy',\n",
    "              allow_pickle=True)[()]\n",
    "obs_stats, pars_true, labels_params = tmp['obs_stats'],  tmp['pars_true'], tmp['labels_params']\n",
    "\n",
    "samples = np.load('results/sam_lfs.npz')['arr_0'].T\n",
    "\n",
    "plot_post = posterior\n",
    "plot_prior = prior\n",
    "pars_raw   = pars_true\n",
    "labels_params = params_ls = ['bias', r'$f_0$', r'$f_1$', r'$f_2$', r'$f_3$', r'$f_4$', r'$f_5$', r'$f_6$', r'$f_7$', r'$f_8$']\n",
    "\n",
    "lims_samples = np.array([[-3, -3, -3, -3, -3, -3, -3, -3, -3, -3],\n",
    "                         [ 3,  3,  3,  3,  3,  3,  3,  3,  3,  3]]).T\n",
    "\n",
    "lims_post    = np.array([[-3., -2, -1, -1, -1, -3, -3, -3, -3, -3],\n",
    "                         [ 3.,  2,  3,  3,  2,  3,  3,  3,  3,  3]]).T\n",
    "\n",
    "#obs_stats, pars_true, params_ls"
   ]
  },
  {
   "cell_type": "markdown",
   "metadata": {},
   "source": [
    "## Model illustration"
   ]
  },
  {
   "cell_type": "markdown",
   "metadata": {},
   "source": [
    "The following plot is used as stimulus in the model illustration."
   ]
  },
  {
   "cell_type": "code",
   "execution_count": null,
   "metadata": {},
   "outputs": [],
   "source": [
    "with mpl.rc_context(fname='../.matplotlibrc'):\n",
    "    plt.figure(figsize=(3,2))\n",
    "\n",
    "    m = GLM(seed=42)\n",
    "    obs = m.gen_single(pars_true)\n",
    "    idx = np.arange(0, 100)\n",
    "    plt.plot(idx, obs['I'][idx], color=[0.2, 0.2, 0.2])\n",
    "    plt.axis('off')\n",
    "\n",
    "    plt.savefig('illustration/stimulus.svg', facecolor=plt.gcf().get_facecolor(), transparent=True)\n",
    "    plt.show()"
   ]
  },
  {
   "cell_type": "markdown",
   "metadata": {},
   "source": [
    "The following plot is used as ground truth filter in the model illustration:"
   ]
  },
  {
   "cell_type": "code",
   "execution_count": null,
   "metadata": {},
   "outputs": [],
   "source": [
    "with mpl.rc_context(fname='../.matplotlibrc'):\n",
    "    plt.figure(figsize=(3,2))\n",
    "    plt.plot(np.arange(pars_true.size-1)+1, pars_true.flatten()[1:], 'o-', color=col['GT'])\n",
    "    plt.xticks([1, 5, 9], np.array(params_ls)[np.array([1,5,9])])\n",
    "    plt.yticks([0, 1])\n",
    "    plt.axis([0.8, 9.2, -0.5, 2])\n",
    "    plt.axis('off')\n",
    "\n",
    "    plt.savefig('illustration/filter.svg', facecolor=plt.gcf().get_facecolor(), transparent=True)\n",
    "    plt.show()"
   ]
  },
  {
   "cell_type": "code",
   "execution_count": null,
   "metadata": {},
   "outputs": [],
   "source": [
    "PANEL_A = 'illustration/model.svg'\n",
    "svg(PANEL_A)"
   ]
  },
  {
   "cell_type": "markdown",
   "metadata": {},
   "source": [
    "## Summary statistics"
   ]
  },
  {
   "cell_type": "code",
   "execution_count": null,
   "metadata": {},
   "outputs": [],
   "source": [
    "with mpl.rc_context(fname='../.matplotlibrc'):\n",
    "    plt.figure(figsize=(2.5, 1.6))\n",
    "    plt.plot(np.arange(obs_stats.size-1), obs_stats.flatten()[1:] / obs_stats.flatten()[0], 'o-', color=col['GT'])\n",
    "\n",
    "    plt.title('spike-triggered average')\n",
    "    plt.xticks([0, 4, 8])\n",
    "    plt.yticks([-0.2, 0.5])\n",
    "\n",
    "    plt.xlabel(r'$\\Delta{}t$')\n",
    "    plt.ylabel('value')\n",
    "\n",
    "    sns.despine(offset=10, trim=True)\n",
    "    plt.tight_layout()\n",
    "\n",
    "    PANEL_B = 'svg/panel_b.svg'\n",
    "    plt.savefig(PANEL_B, facecolor=plt.gcf().get_facecolor(), transparent=True)\n",
    "    plt.close()\n",
    "\n",
    "svg(PANEL_B)"
   ]
  },
  {
   "cell_type": "markdown",
   "metadata": {},
   "source": [
    "## Comparison on marginals"
   ]
  },
  {
   "cell_type": "code",
   "execution_count": null,
   "metadata": {},
   "outputs": [],
   "source": [
    "with mpl.rc_context(fname='../.matplotlibrc'):\n",
    "    fig = plt.figure(figsize=(3.7, 2.1))\n",
    "\n",
    "    m, S = plot_post.calc_mean_and_cov()\n",
    "    m_samp = np.mean(samples, axis=0)\n",
    "    cov_samp = np.cov(samples.T)\n",
    "    gt = pars_true.copy()\n",
    "\n",
    "    m, m_samp, gt = m[1:], m_samp[1:], gt[1:]\n",
    "    S, cov_samp = S[:,1:][1:], cov_samp[:,1:][1:]\n",
    "    num_param_inf = len(gt)\n",
    "\n",
    "    ax = plt.subplot(1,1,1)\n",
    "    ax.fill_between(np.linspace(1,num_param_inf,num_param_inf),\n",
    "                     m_samp-2*np.sqrt(np.diag(cov_samp)),\n",
    "                     m_samp+2*np.sqrt(np.diag(cov_samp)),\n",
    "                     facecolor=col['MCMC'],\n",
    "                     alpha=0.3)\n",
    "    ax.fill_between(np.linspace(1, num_param_inf, num_param_inf),\n",
    "                     m-2*np.sqrt(np.diag(S)),\n",
    "                     m+2*np.sqrt(np.diag(S)),\n",
    "                     facecolor=col['SNPE'],\n",
    "                     alpha=0.3)\n",
    "    ax.plot(np.linspace(1,num_param_inf,num_param_inf),\n",
    "             gt, '-o', color=col['GT'], label='true value')\n",
    "    ax.plot(np.linspace(1,num_param_inf,num_param_inf),\n",
    "             m_samp, '-o', color = col['MCMC'],\n",
    "             label='MCMC')\n",
    "    ax.plot(np.linspace(1,num_param_inf,num_param_inf),\n",
    "             m, '-o', color = col['SNPE'], label='SNPE')\n",
    "\n",
    "    #ax.ylim([-2,5])\n",
    "    plt.yticks([-2, -1, 0, 1, 2, 3])\n",
    "    plt.xticks([1, 5, 9], np.array(params_ls)[np.array([1,5,9])])\n",
    "    plt.xlabel('filter parameter')\n",
    "    plt.ylabel('value')\n",
    "    ax.axis([0.9, num_param_inf+.1, -2.2, 3.3])\n",
    "    ax.legend()\n",
    "\n",
    "    sns.despine(offset=10, trim=True)\n",
    "    plt.tight_layout()\n",
    "\n",
    "    PANEL_C = 'svg/panel_c.svg'\n",
    "    plt.savefig(PANEL_C, facecolor=plt.gcf().get_facecolor(), transparent=True)\n",
    "    plt.close()\n",
    "\n",
    "svg(PANEL_C)"
   ]
  },
  {
   "cell_type": "markdown",
   "metadata": {},
   "source": [
    "## Covariance matrices"
   ]
  },
  {
   "cell_type": "code",
   "execution_count": null,
   "metadata": {},
   "outputs": [],
   "source": [
    "with mpl.rc_context(fname='../.matplotlibrc'):\n",
    "    fig = plt.figure(figsize=(4.9, 2.3))\n",
    "\n",
    "    m, S = plot_post.calc_mean_and_cov()\n",
    "    m_samp = np.mean(samples, axis=0)\n",
    "    cov_samp = np.cov(samples.T)\n",
    "    gt = pars_true.copy()\n",
    "\n",
    "    m, m_samp, gt = m[1:], m_samp[1:], gt[1:]\n",
    "    S, cov_samp = S[:,1:][1:], cov_samp[:,1:][1:]\n",
    "    num_param_inf = len(gt)\n",
    "\n",
    "    gs = gridspec.GridSpec(1, 3, width_ratios=[1,0.2,1], height_ratios=[1])\n",
    "    min_cov = np.min([np.min(cov_samp), np.min(S)])\n",
    "    max_cov = np.max([np.max(cov_samp), np.max(S)])\n",
    "\n",
    "    ax = plt.subplot(gs[0,0])\n",
    "    im = plt.imshow(S, clim=(min_cov, max_cov))\n",
    "    plt.axis('off')\n",
    "    divider = make_axes_locatable(ax)\n",
    "    cax = divider.append_axes(\"right\", size=\"5%\", pad=0.05)\n",
    "    cb = plt.colorbar(im, cax=cax)\n",
    "    cb.set_label(' SNPE covariance', rotation=90)\n",
    "    cb.set_clim([min_cov, max_cov])\n",
    "    cb.set_ticks([0, max_cov])\n",
    "    cb.set_ticklabels([0, max_cov])\n",
    "    cb.outline.set_visible(False)\n",
    "    cb.set_ticklabels(['0', str(np.round(max_cov, 2))])\n",
    "    \n",
    "    ax = plt.subplot(gs[0,2])\n",
    "    im = plt.imshow(cov_samp, clim=(min_cov, max_cov))\n",
    "    plt.axis('off')\n",
    "    divider = make_axes_locatable(ax)\n",
    "    cax = divider.append_axes(\"right\", size=\"5%\", pad=0.05)\n",
    "    cb = plt.colorbar(im, cax=cax)\n",
    "    cb.set_label(' MCMC covariance', rotation=90)\n",
    "    cb.set_clim([min_cov, max_cov])\n",
    "    cb.set_ticks([0, max_cov])\n",
    "    cb.outline.set_visible(False)\n",
    "    cb.set_ticklabels(['0', str(np.round(max_cov, 2))])\n",
    "    \n",
    "    PANEL_D = 'svg/panel_d.svg'\n",
    "    plt.savefig(PANEL_D, facecolor=plt.gcf().get_facecolor(), transparent=True)\n",
    "    #plt.close()\n",
    "    plt.show()\n",
    "\n",
    "#svg(PANEL_D)"
   ]
  },
  {
   "cell_type": "markdown",
   "metadata": {},
   "source": [
    "## Partial posterior"
   ]
  },
  {
   "cell_type": "markdown",
   "metadata": {},
   "source": [
    "## Compose figure"
   ]
  },
  {
   "cell_type": "code",
   "execution_count": null,
   "metadata": {},
   "outputs": [],
   "source": [
    "from svgutils.compose import *\n",
    "\n",
    "# > Inkscape pixel is 1/90 of an inch, other software usually uses 1/72.\n",
    "# > http://www.inkscapeforum.com/viewtopic.php?f=6&t=5964\n",
    "svg_scale = 1.25  # set this to 1.25 for Inkscape, 1.0 otherwise\n",
    "\n",
    "# Panel letters in Helvetica Neue, 12pt, Medium\n",
    "kwargs_text = {'size': '12pt', 'font': 'Arial', 'weight': '800'}\n",
    "\n",
    "pxw = 720\n",
    "pxh = 760\n",
    "\n",
    "\n",
    "f = Figure(\"20.3cm\", \"4.8cm\",\n",
    "\n",
    "\n",
    "    Panel(\n",
    "          SVG(PANEL_C).scale(svg_scale).move(0,0),\n",
    "          Text(\"A\", 0, 13, **kwargs_text),\n",
    "    ).move(0, 0),\n",
    "\n",
    "    Panel(\n",
    "          SVG(PANEL_D).scale(svg_scale).move(0,0),\n",
    "          Text(\"B\", -10, 13, **kwargs_text),\n",
    "    ).move(pxw*0.5, 0),\n",
    "\n",
    "    #Grid(10,10)\n",
    "           \n",
    ")\n",
    "\n",
    "f.save(\"fig/fig2_glm_supp_comparison.svg\")\n",
    "svg('fig/fig2_glm_supp_comparison.svg')"
   ]
  },
  {
   "cell_type": "markdown",
   "metadata": {},
   "source": [
    "### Supplementary figure"
   ]
  },
  {
   "cell_type": "code",
   "execution_count": null,
   "metadata": {
    "scrolled": false
   },
   "outputs": [],
   "source": [
    "with mpl.rc_context(fname='../.matplotlibrc'):\n",
    "\n",
    "    fig, axes = plot_pdf(plot_post,\n",
    "                         lims=lims_post,\n",
    "                         gt=pars_raw.reshape(-1),\n",
    "                         figsize=(12, 12),\n",
    "                         resolution=100,\n",
    "                         samples=samples.T,\n",
    "                         contours=True,\n",
    "                         levels=np.asarray([0.95]),\n",
    "                         col1=col['MCMC'],\n",
    "                         col2=col['SNPE'],\n",
    "                         col4=col['GT'],\n",
    "                         ticks=True,\n",
    "                         labels_params=labels_params);\n",
    "\n",
    "    for i in range(plot_post.ndim):\n",
    "        axes[i,i].set_xticks([lims_post[i, 0], lims_post[i, 1]])\n",
    "        axes[i,i].set_yticks([])\n",
    "\n",
    "    sns.despine(offset=5, left=True)\n",
    "\n",
    "    SUPP_1 = 'fig/fig2_glm_supp_posterior.svg'\n",
    "    plt.savefig(SUPP_1, transparent=True)\n",
    "    plt.close()\n",
    "\n",
    "svg(SUPP_1)"
   ]
  }
 ],
 "metadata": {
  "jupytext": {
   "cell_metadata_filter": "outputHidden,inputHidden,-all",
   "main_language": "python",
   "notebook_metadata_filter": "-all"
  },
  "kernelspec": {
   "display_name": "Python 3",
   "language": "python",
   "name": "python3"
  },
  "language_info": {
   "codemirror_mode": {
    "name": "ipython",
    "version": 3
   },
   "file_extension": ".py",
   "mimetype": "text/x-python",
   "name": "python",
   "nbconvert_exporter": "python",
   "pygments_lexer": "ipython3",
   "version": "3.7.7"
  }
 },
 "nbformat": 4,
 "nbformat_minor": 2
}
