{
 "cells": [
  {
   "cell_type": "code",
   "execution_count": null,
   "metadata": {
    "scrolled": false
   },
   "outputs": [],
   "source": [
    "import delfi.distribution as dd\n",
    "import delfi.generator as dg\n",
    "import delfi.inference as infer\n",
    "import delfi.utils.io as io\n",
    "import delfi.summarystats as ds\n",
    "import matplotlib.pyplot as plt\n",
    "import numpy as np\n",
    "import util\n",
    "\n",
    "from delfi.utils.viz import plot_pdf\n",
    "from model.GLM import GLM\n",
    "from model.GLMStats import GLMStats\n",
    "\n",
    "%matplotlib inline\n",
    "\n",
    "!mkdir -p results\n",
    "\n",
    "\n",
    "seed = 42\n",
    "m = GLM(seed=seed)\n",
    "p = util.smoothing_prior(n_params=m.n_params, seed=seed)\n",
    "s = GLMStats(n_summary=m.n_params)\n",
    "g = dg.Default(model=m, prior=p, summary=s)\n",
    "\n",
    "true_params, labels_params = util.obs_params()\n",
    "obs = util.obs_data(true_params, seed=seed)\n",
    "obs_stats = util.obs_stats(true_params, seed=seed)    \n",
    "\n",
    "res = infer.APT(\n",
    "   g, \n",
    "   obs=obs_stats, \n",
    "   n_hiddens=[50,50],\n",
    "   seed=seed,        \n",
    "   pilot_samples=1000,\n",
    "   svi=False,\n",
    "   n_components=1,\n",
    "   prior_norm=True,\n",
    ")\n",
    "\n",
    "logs, tds, posteriors = res.run(\n",
    "    n_train=10000,\n",
    "    n_rounds=1,\n",
    "    minibatch=100,\n",
    "    epochs=1000,\n",
    "    silent_fail=False,\n",
    "    proposal='mog',\n",
    ")"
   ]
  },
  {
   "cell_type": "code",
   "execution_count": null,
   "metadata": {},
   "outputs": [],
   "source": [
    "# mcmc reference\n",
    "try:\n",
    "    sam = np.load('results/sam_lfs.npz')['arr_0']\n",
    "except:\n",
    "    sam = util.pg_mcmc(true_params, obs)\n",
    "    np.savez('results/sam_lfs.npz', sam)    "
   ]
  },
  {
   "cell_type": "code",
   "execution_count": null,
   "metadata": {},
   "outputs": [],
   "source": [
    "# quick inspection of posteriors over rounds\n",
    "for r in range(1):\n",
    "    posterior = posteriors[r]\n",
    "    plot_pdf(posterior, \n",
    "        lims=[-2,2], \n",
    "        samples=sam, \n",
    "        gt=true_params, \n",
    "        figsize=(14,14));"
   ]
  },
  {
   "cell_type": "code",
   "execution_count": null,
   "metadata": {},
   "outputs": [],
   "source": [
    "# saving results\n",
    "filename = 'results/single_round_lfs'\n",
    "np.save(filename, \n",
    "        {\n",
    "        'posterior' : posteriors[-1],\n",
    "        'prior'    : g.prior        \n",
    "    })\n",
    "\n",
    "filename = 'results/ground_truth_data_lfs'\n",
    "np.save(filename, \n",
    "        {\n",
    "        'obs_stats' : obs_stats,\n",
    "        'pars_true'    : true_params,\n",
    "        'labels_params' : labels_params\n",
    "        \n",
    "    })"
   ]
  }
 ],
 "metadata": {
  "jupytext": {
   "cell_metadata_filter": "-all",
   "main_language": "python",
   "notebook_metadata_filter": "-all"
  },
  "kernelspec": {
   "display_name": "Python 3",
   "language": "python",
   "name": "python3"
  },
  "language_info": {
   "codemirror_mode": {
    "name": "ipython",
    "version": 3
   },
   "file_extension": ".py",
   "mimetype": "text/x-python",
   "name": "python",
   "nbconvert_exporter": "python",
   "pygments_lexer": "ipython3",
   "version": "3.7.3"
  }
 },
 "nbformat": 4,
 "nbformat_minor": 2
}
