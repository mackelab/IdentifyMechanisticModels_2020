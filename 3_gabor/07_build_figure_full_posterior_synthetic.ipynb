{
 "cells": [
  {
   "cell_type": "code",
   "execution_count": null,
   "metadata": {},
   "outputs": [],
   "source": [
    "import delfi.distribution as dd\n",
    "import numpy as np\n",
    "import matplotlib as mpl\n",
    "import matplotlib.pyplot as plt\n",
    "import seaborn as sns\n",
    "\n",
    "import sys; sys.path.append('../')\n",
    "from common import col, svg, plot_pdf, samples_nd"
   ]
  },
  {
   "cell_type": "code",
   "execution_count": null,
   "metadata": {},
   "outputs": [],
   "source": [
    "# MCMC Samples\n",
    "idx_cell = 6 # load toy cell number 6 (cosine-shaped RF with ~1Hz firing rate)\n",
    "n_samples=1000000\n",
    "path =  'results/MCMC/'\n",
    "savefile = path + 'toycell_' + str(idx_cell) + '/maprf_MCMC_prior01_run_1_'+ str(n_samples)+'samples_param9_5min.npy'\n",
    "tmp = np.load(savefile, allow_pickle=True)[()]\n",
    "T, params_dict_true = tmp['T'], tmp['params_dict_true']\n",
    "params_ls = ['bias', 'gain', 'phase', 'freq','angle','ratio','width', 'xo', 'yo']\n",
    "samples = np.hstack([np.atleast_2d(T[key].T).T for key in params_ls])\n",
    "def symmetrize_sample_modes(samples):\n",
    "    assert samples.ndim==2 and samples.shape[1] == 9 \n",
    "    # assumes phase in [0, pi]\n",
    "    assert np.min(samples[:,2]) >= 0. and np.max(samples[:,2] <= np.pi)\n",
    "    # assumes angle in [0, 2*pi]\n",
    "    assert np.min(samples[:,4]) >= 0. and np.max(samples[:,4] <= 2*np.pi)\n",
    "    # assumes freq, ratio and width > 0\n",
    "    assert np.all(np.min(samples[:,np.array([3,5,6])], axis=0) >= 0.)\n",
    "\n",
    "    samples1 = samples.copy()\n",
    "    idx = np.where( samples[:,4] > np.pi )[0]\n",
    "    samples1[idx,4] = samples1[idx,4] - np.pi\n",
    "    idx = np.where( samples[:,4] < np.pi )[0]\n",
    "    samples1[idx,4] = samples1[idx,4] + np.pi\n",
    "    #samples1[:,2] = np.pi - samples1[:,2]\n",
    "    samples_all = np.vstack((samples, samples1))[::2, :]\n",
    "\n",
    "    #samples1 = samples_all.copy()\n",
    "    #samples1[:,1] = - samples1[:,1] \n",
    "    #samples1[:,2] = np.pi - samples1[:,2] \n",
    "    #samples_all = np.vstack((samples_all, samples1))[::2, :]\n",
    "\n",
    "    return samples_all\n",
    "samples = symmetrize_sample_modes(samples)\n",
    "\n",
    "# Posterior\n",
    "tmp = np.load('results/SNPE/toycell_6/maprf_100k_prior01_run_1_round2_param9_nosvi_CDELFI_posterior.npy', allow_pickle=True)[()]\n",
    "posterior, proposal, prior = tmp['posterior'], tmp['proposal'], tmp['prior']\n",
    "\n",
    "# Ground truth\n",
    "tmp = np.load('results/SNPE/toycell_6/ground_truth_data.npy', allow_pickle=True)[()]\n",
    "obs_stats, pars_true, rf = tmp['obs_stats'],  tmp['pars_true'], tmp['rf']\n",
    "\n",
    "labels_params = ['bias', 'gain', 'phase', 'freq', 'angle', 'ratio', 'width', r'$x$', r'$y$']\n",
    "\n",
    "plot_post = dd.mixture.TransformedGaussianMixture.MoTG(\n",
    "                            ms= [posterior.xs[i].m for i in range(posterior.n_components)],\n",
    "                            Ss =[posterior.xs[i].S for i in range(posterior.n_components)],\n",
    "                            a = posterior.a,\n",
    "                            flags=[0,1,2,1,2,1,1,2,2],\n",
    "                            lower=[0,0,0,0,0,0,0,-1,-1], upper=[0,0,np.pi,0,2*np.pi,0,0,1,1])\n",
    "\n",
    "lims_post = np.array([[-3, 0, .001, 0,       .001, 0, 0, -.999, -.999], \n",
    "                 [ 3,  5.5, .999*np.pi, 3, 1.999*np.pi, 3, 3, .999,   .999]]).T"
   ]
  },
  {
   "cell_type": "code",
   "execution_count": null,
   "metadata": {
    "scrolled": false
   },
   "outputs": [],
   "source": [
    "# with plot_pdf\n",
    "with mpl.rc_context(fname='../.matplotlibrc'):\n",
    "    fig, axes = plot_pdf(plot_post,\n",
    "                      #pdf2=plot_prior,\n",
    "                      lims=lims_post,\n",
    "                      gt=plot_post._f(pars_true.reshape(1,-1)).reshape(-1),\n",
    "                      figsize=(12, 12),\n",
    "                      #resolution=100,\n",
    "                      contours=True,\n",
    "                      levels=(0.95,),\n",
    "                      samples=samples.T,\n",
    "                      col1=col['MCMC'],\n",
    "                      col2=col['SNPE'],\n",
    "                      col3=col['PRIOR'],\n",
    "                      col4=col['GT'],\n",
    "                      labels_params=labels_params)\n",
    "\n",
    "    for i in range(plot_post.ndim):\n",
    "        axes[i,i].set_xticks([lims_post[i, 0], lims_post[i, 1]])\n",
    "        axes[i,i].set_yticks([])\n",
    "\n",
    "    sns.despine(offset=5, left=True)\n",
    "    \n",
    "    SUPP_1 = 'fig/fig3_gabor_supp_posterior.svg'\n",
    "    fig.savefig(SUPP_1, transparent=True)\n",
    "    plt.close()\n",
    "\n",
    "svg(SUPP_1)"
   ]
  },
  {
   "cell_type": "code",
   "execution_count": null,
   "metadata": {},
   "outputs": [],
   "source": []
  }
 ],
 "metadata": {
  "kernelspec": {
   "display_name": "Python 3",
   "language": "python",
   "name": "python3"
  },
  "language_info": {
   "codemirror_mode": {
    "name": "ipython",
    "version": 3
   },
   "file_extension": ".py",
   "mimetype": "text/x-python",
   "name": "python",
   "nbconvert_exporter": "python",
   "pygments_lexer": "ipython3",
   "version": "3.7.4"
  }
 },
 "nbformat": 4,
 "nbformat_minor": 2
}
