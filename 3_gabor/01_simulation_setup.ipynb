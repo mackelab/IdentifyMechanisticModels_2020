{
 "cells": [
  {
   "cell_type": "markdown",
   "metadata": {},
   "source": [
    "# Define simulation setup (simulator settings and toy cells)\n",
    "- define overall simulation setup: simulator parameters to infer for Gabor-RF simulator\n",
    "- generate a number of `toy' gabor cells with receptive field (RF) defined by their ground-truth parameters $\\theta^*$ used for the simulator"
   ]
  },
  {
   "cell_type": "code",
   "execution_count": null,
   "metadata": {},
   "outputs": [],
   "source": [
    "!mkdir -p results/\n",
    "\n",
    "import numpy as np\n",
    "\n",
    "params_ls = {'glm': ('bias',),\n",
    "             'kernel': {'s' : ('gain', 'phase', 'freq', 'angle', 'ratio', 'width'),\n",
    "                        'l' : ['xo', 'yo'],\n",
    "                        't' : []}} # do no infer temporal kernels (assume to be instantaneous)\n",
    "\n",
    "sim_info = {'d' : 41,  # STA is d x d \n",
    "            'parametrization' : 'gabor', \n",
    "            'params_ls' : params_ls,\n",
    "            'duration' : 300, # duration in seconds\n",
    "            'dt' : 0.025,     # bin width in seconds\n",
    "            'len_kt' : 2 }    # length of temporal kernel (2 is minimum)\n",
    "\n",
    "np.save('results/sim_info', sim_info)"
   ]
  },
  {
   "cell_type": "markdown",
   "metadata": {},
   "source": [
    "## Define toy cells\n",
    "- three different archetypes are generated, differed mostly by their 'phase' parameter: \n",
    "    - sine-shaped RF: at phase $\\frac{\\pi}/2$, the Gabor RF is perfectly sine-shaped\n",
    "    - cosine-shaped RF: at phase $0$, the Gabor RF is perfectly cosine-shaped\n",
    "    - general RF: intermediate phase $\\frac{\\pi}{4}$\n",
    "- different archetypes also differ by location, ratio, width, angle frequency ...\n",
    "- we generate each archetype for two different firing rates (defined by different 'bias' and 'gain' parameters): 5 Hz and 1 Hz. The higher firing rate shifts posteriors over bias and gain, and generally leads to tighter posteriors on all other parameters (STAs become much clearer and better identify the RF)."
   ]
  },
  {
   "cell_type": "markdown",
   "metadata": {},
   "source": [
    "### 5 Hz toy cells"
   ]
  },
  {
   "cell_type": "code",
   "execution_count": null,
   "metadata": {},
   "outputs": [],
   "source": [
    "!mkdir -p results/toy_cells/\n",
    "\n",
    "# cell number 1 (phase pi/4)\n",
    "params_dict_true = {'glm': {'binsize': 0.025,\n",
    "                            'bias': 1.48810066532243},\n",
    "                    'kernel': {'s': {'angle': 0.7,\n",
    "                                     'freq': 1.8,\n",
    "                                     'gain': 0.49262003027013,\n",
    "                                     'phase': np.pi/4,\n",
    "                                     'ratio': 1.5,\n",
    "                                     'width': 2.5},\n",
    "                               'l': {'xo': 0.3,\n",
    "                                     'yo': -0.4},\n",
    "                               't': {'value': np.array([1., 0.])}}} # temporal here. Instantaneous here!\n",
    "\n",
    "np.save('results/toy_cells/toy_cell_' + str(1), params_dict_true)"
   ]
  },
  {
   "cell_type": "code",
   "execution_count": null,
   "metadata": {},
   "outputs": [],
   "source": [
    "# cell number 2 (sine-shaped)\n",
    "params_dict_true = {'glm': {'binsize': 0.025,\n",
    "                            'bias': 1.48810066532243},\n",
    "                    'kernel': {'s': {'angle': 0.7 + np.pi/4,\n",
    "                                     'freq': 2.4,\n",
    "                                     'gain': 0.49262003027013,\n",
    "                                     'phase': np.pi/2-0.001, # -0.001 for numberical stability\n",
    "                                     'ratio': 2.8,\n",
    "                                     'width': 2.3},\n",
    "                               'l': {'xo': -0.5,\n",
    "                                     'yo': 0.1},\n",
    "                               't': {'value': np.array([1., 0.])}}}\n",
    "\n",
    "np.save('results/toy_cells/toy_cell_' + str(2), params_dict_true)"
   ]
  },
  {
   "cell_type": "code",
   "execution_count": null,
   "metadata": {},
   "outputs": [],
   "source": [
    "# cell number 3 (cosine-shaped), 5 Hz\n",
    "params_dict_true = {'glm': {'binsize': 0.025,\n",
    "                            'bias': 1.48810066532243},\n",
    "                    'kernel': {'s': {'angle': 0.7 + np.pi/3,\n",
    "                                     'freq': 1.8,\n",
    "                                     'gain': 0.49262003027013,\n",
    "                                     'phase': 0.001,\n",
    "                                     'ratio': 0.8,\n",
    "                                     'width': 2.7},\n",
    "                               'l': {'xo': 0.3,\n",
    "                                     'yo': 0.4},\n",
    "                               't': {'value': np.array([1., 0.])}}}\n",
    "\n",
    "np.save('results/toy_cells/toy_cell_' + str(3), params_dict_true)"
   ]
  },
  {
   "cell_type": "markdown",
   "metadata": {},
   "source": [
    "### 1 Hz toy cells"
   ]
  },
  {
   "cell_type": "code",
   "execution_count": null,
   "metadata": {},
   "outputs": [],
   "source": [
    "# cell number 4 (phase pi/4)\n",
    "params_dict_true = {'glm': {'binsize': 0.025,\n",
    "                            'bias': -0.202179976727683},\n",
    "                    'kernel': {'s': {'angle': 0.7,\n",
    "                                     'freq': 1.8,\n",
    "                                     'gain': 0.635893036174612,\n",
    "                                     'phase': np.pi/4,\n",
    "                                     'ratio': 1.5,\n",
    "                                     'width': 2.5},\n",
    "                               'l': {'xo': 0.3,\n",
    "                                     'yo': -0.4},\n",
    "                               't': {'value': np.array([1., 0.])}}}\n",
    "\n",
    "np.save('results/toy_cells/toy_cell_' + str(4), params_dict_true)"
   ]
  },
  {
   "cell_type": "code",
   "execution_count": null,
   "metadata": {},
   "outputs": [],
   "source": [
    "# cell number 5 (sine-shaped)\n",
    "params_dict_true = {'glm': {'binsize': 0.025,\n",
    "                            'bias': -0.202179976727683},\n",
    "                    'kernel': {'s': {'angle': 0.7 + np.pi/4,\n",
    "                                     'freq': 2.4,\n",
    "                                     'gain': 0.635893036174612,\n",
    "                                     'phase': np.pi/2-0.001,\n",
    "                                     'ratio': 2.8,\n",
    "                                     'width': 2.3},\n",
    "                               'l': {'xo': -0.5,\n",
    "                                     'yo': 0.1},\n",
    "                               't': {'value': np.array([1., 0.])}}}\n",
    "\n",
    "np.save('results/toy_cells/toy_cell_' + str(5), params_dict_true)"
   ]
  },
  {
   "cell_type": "markdown",
   "metadata": {},
   "source": [
    "### results shown in paper only on cell 6: cosine-shaped (i.e. bimodal posterior in phase!) cell  firing at about 1Hz"
   ]
  },
  {
   "cell_type": "code",
   "execution_count": null,
   "metadata": {},
   "outputs": [],
   "source": [
    "# cell number 6 (cosine-shaped), 1 Hz\n",
    "params_dict_true = {'glm': {'binsize': 0.025,\n",
    "                            'bias': -0.202179976727683},\n",
    "                    'kernel': {'s': {'angle': 0.7 + np.pi/3,\n",
    "                                     'freq': 1.8,\n",
    "                                     'gain': 0.635893036174612,\n",
    "                                     'phase': 0.001,\n",
    "                                     'ratio': 0.8,\n",
    "                                     'width': 2.7},\n",
    "                               'l': {'xo': 0.3,\n",
    "                                     'yo': 0.4},\n",
    "                               't': {'value': np.array([1., 0.])}}}\n",
    "\n",
    "np.save('results/toy_cells/toy_cell_' + str(6), params_dict_true)"
   ]
  },
  {
   "cell_type": "markdown",
   "metadata": {},
   "source": [
    "# validate"
   ]
  },
  {
   "cell_type": "code",
   "execution_count": null,
   "metadata": {},
   "outputs": [],
   "source": [
    "for i in range(6):\n",
    "    params_dict_true = np.load('results/toy_cells/toy_cell_' + str(i+1) + '.npy', allow_pickle=True)[()]\n",
    "    print(params_dict_true)"
   ]
  }
 ],
 "metadata": {
  "jupytext": {
   "cell_metadata_filter": "-all",
   "main_language": "python",
   "notebook_metadata_filter": "-all"
  },
  "kernelspec": {
   "display_name": "Python 3",
   "language": "python",
   "name": "python3"
  },
  "language_info": {
   "codemirror_mode": {
    "name": "ipython",
    "version": 3
   },
   "file_extension": ".py",
   "mimetype": "text/x-python",
   "name": "python",
   "nbconvert_exporter": "python",
   "pygments_lexer": "ipython3",
   "version": "3.7.4"
  }
 },
 "nbformat": 4,
 "nbformat_minor": 2
}
