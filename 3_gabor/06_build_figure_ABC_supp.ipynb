{
 "cells": [
  {
   "cell_type": "markdown",
   "metadata": {},
   "source": [
    "# inference for Gabor-GLM with ABC methods\n",
    "\n",
    "learning receptive field parameters from inputs (white-noise videos) and outputs (spike trains) of linear-nonlinear neuron models with parameterized linear filters\n",
    "\n",
    "- we run a classical likelihood-free inference algorithm (SMC-ABC) on the Gabor-GLM simulator\n",
    "- like SNPE, SMC-ABC iteratively refines a posterior estimate across multiple rounds\n",
    "- within each rounds, SMC-ABC runs a rejection-sampling scheme that rejects parameters based on a distance measure $d(x,x_o)$.\n",
    "\n",
    "\n",
    "- the design of this distance measure $d$ can be tricky and requires good summary statistics.\n",
    "- here we use a standard approach: squared error on (normalized) summary statistics, $d(x,x_o) = || (x-x_o) \\ / \\ std ||_2$.\n",
    "- this standard approach does not work well here, since the summary statistics in this case include a $1641$-dimensional spike-triggered average"
   ]
  },
  {
   "cell_type": "code",
   "execution_count": null,
   "metadata": {
    "lines_to_next_cell": 2
   },
   "outputs": [],
   "source": [
    "%%capture\n",
    "%matplotlib inline\n",
    "\n",
    "import theano\n",
    "theano.config.floatX='float64'\n",
    "\n",
    "import matplotlib as mpl\n",
    "import matplotlib.pyplot as plt\n",
    "import numpy as np\n",
    "import seaborn as sns\n",
    "\n",
    "import delfi.distribution as dd\n",
    "import delfi.generator as dg\n",
    "import delfi.inference as infer\n",
    "import delfi.utils.io as io\n",
    "#from delfi.utils.viz import plot_pdf\n",
    "\n",
    "from model.gabor_rf import maprf as model\n",
    "from model.gabor_stats import maprfStats\n",
    "from utils import setup_sim, setup_sampler, quick_plot, contour_draws\n",
    "\n",
    "import sys; sys.path.append('../')\n",
    "from common import col, svg, plot_pdf, samples_nd\n",
    "\n",
    "from support_files.run_abc import run_smc"
   ]
  },
  {
   "cell_type": "markdown",
   "metadata": {},
   "source": [
    "# parameters for this experiment"
   ]
  },
  {
   "cell_type": "code",
   "execution_count": null,
   "metadata": {},
   "outputs": [],
   "source": [
    "seed = 42    # seed for generation of xo for selected cell. MCMC currently not seeded !\n",
    "\n",
    "idx_cell = 6 # load toy cell number i = idx_cell\n",
    "\n",
    "maxsim = int(1e6)\n",
    "n_particles= int(1e3)\n",
    "\n",
    "savefile = 'results/SMC/toycell_' + str(idx_cell) + '/maprf_SMC_prior01_run_1_'+ str(n_particles) + 'particles_param9'"
   ]
  },
  {
   "cell_type": "markdown",
   "metadata": {},
   "source": [
    "# load cell, generate xo"
   ]
  },
  {
   "cell_type": "code",
   "execution_count": null,
   "metadata": {},
   "outputs": [],
   "source": [
    "g, prior, d = setup_sim(seed, path='')\n",
    "\n",
    "filename = 'results/toy_cells/toy_cell_' + str(idx_cell) + '.npy'\n",
    "params_dict_true = np.load(filename, allow_pickle=True)[()]\n",
    "params_dict_true['kernel']['t'] = {'value' : 1.}\n",
    "\n",
    "m = g.model\n",
    "m.params_dict = params_dict_true.copy()\n",
    "m.rng = np.random.RandomState(seed=seed)\n",
    "\n",
    "pars_true, obs = m.read_params_buffer(), m.gen_single()\n",
    "obs_stats = g.summary.calc([obs])\n",
    "\n",
    "# plot ground-truth receptive field\n",
    "rf = g.model.params_to_rf(pars_true)[0]\n",
    "plt.imshow(np.hstack((obs_stats[0,:-1].reshape(d,d), rf)), interpolation='None')\n",
    "plt.show()\n",
    "\n",
    "print('spike count', obs_stats[0,-1])"
   ]
  },
  {
   "cell_type": "markdown",
   "metadata": {},
   "source": [
    "# define distance function (based on pilot runs)"
   ]
  },
  {
   "cell_type": "code",
   "execution_count": null,
   "metadata": {},
   "outputs": [],
   "source": [
    "gts, pilots =g.gen(10000)\n",
    "stats_mean, stats_std = np.zeros((1,pilots.shape[1])), np.ones((1,pilots.shape[1]))\n",
    "\n",
    "stats_mean[:,-1] = pilots[:,-1].mean()\n",
    "\n",
    "# firing rate re-normalized to contribute ~20% of total loss (counts 1/4 as much as the d**2 STA pixels)\n",
    "stats_std[:,:-1] = pilots[:, :-1].std()\n",
    "stats_std[:,-1]  = 4/(d**2)*pilots[:,-1].std() #\n",
    "\n",
    "class normed_summary():\n",
    "\n",
    "    def calc(self, y):\n",
    "\n",
    "        x = g.summary.calc(y)\n",
    "\n",
    "        return (x-stats_mean)/stats_std\n",
    "\n",
    "obs_statz =  (obs_stats.flatten() - stats_mean) /  stats_std"
   ]
  },
  {
   "cell_type": "markdown",
   "metadata": {},
   "source": [
    "## simulations from ground-truth parameter\n",
    "- to better understand distances between summary statistics, we simulate repeatedly from the ground-truth parameters $\\theta^*$ that originally generated $x_o$.\n",
    "- these distances $d(x,x_o)$ for $x \\sim p(x|\\theta^*)$ will typically be smaller those for $x \\sim p(x|\\theta)$ for prior-drawn $\\theta\\sim p(\\theta)$, and even for $\\theta \\sim p(\\theta|x_o)$."
   ]
  },
  {
   "cell_type": "code",
   "execution_count": null,
   "metadata": {},
   "outputs": [],
   "source": [
    "y_true = g.model.gen([pars_true for i in range(1000)])\n",
    "x_true = [g.summary.calc(y_true[i]) for i in range(len(y_true))]\n",
    "stats_true  = np.vstack(x_true)"
   ]
  },
  {
   "cell_type": "markdown",
   "metadata": {},
   "source": [
    "# unnormalized L2 distance\n",
    "- no division by stats_std in calculation of distance\n",
    "- distance in this case dominated by the spike counts"
   ]
  },
  {
   "cell_type": "code",
   "execution_count": null,
   "metadata": {},
   "outputs": [],
   "source": [
    "# compute distances over pilot runs\n",
    "def calc_dist(stats_1, stats_2):\n",
    "    \"\"\"Euclidian distance between summary statistics\"\"\"\n",
    "    return np.sqrt(np.sum( ((stats_1 - stats_2)) ** 2))\n",
    "\n",
    "# compute distances over pilot runs\n",
    "dists = np.empty(stats_true.shape[0])\n",
    "for i in range(stats_true.shape[0]):\n",
    "    dists[i] = calc_dist( stats_true[i], obs_stats.flatten(0))\n",
    "\n",
    "print(r'x from ground-truth $\\theta^*$')\n",
    "print('minimal distance: ', np.min(dists))\n",
    "\n",
    "# show distance histogram (use to pick initial epsilon, e.g. roughly as median distance)\n",
    "plt.hist(dists, bins=np.linspace(0,500,100), normed=True, label=r'x from ground-truth $\\theta^*$')\n",
    "\n",
    "dists = np.empty(pilots.shape[0])\n",
    "for i in range(pilots.shape[0]):\n",
    "    dists[i] = calc_dist( pilots[i], obs_stats.flatten() )\n",
    "# show distance histogram (use to pick initial epsilon, e.g. roughly as median distance)\n",
    "plt.hist(dists, bins=np.linspace(0,500,100), normed=True, label=r'x from prior-drawn $\\theta$')\n",
    "plt.legend()\n",
    "plt.xlabel('distance')\n",
    "plt.ylabel('rel. frequency')\n",
    "print(r'x from prior-drawn $\\theta$')\n",
    "print('minimal distance: ', np.min(dists))\n",
    "plt.show()"
   ]
  },
  {
   "cell_type": "markdown",
   "metadata": {},
   "source": [
    "# STA-only distances\n",
    "- note that even for samples $x \\sim p(x|\\theta^*)$ from ground-truth parameters (blue), minimal distances $d(x,x_o)$ are clearly >>0.\n",
    "- summary-stats space is so high-dimensional and noise-driven that the closest distances are not achieved by\n",
    "  simulations $x$ from ground-truth parameters $\\theta^*$, but by $x$ from parameters $\\theta$ that yield next-to-zero firing rates (with $||x_o||_2$ as an effective lower bound)!"
   ]
  },
  {
   "cell_type": "code",
   "execution_count": null,
   "metadata": {},
   "outputs": [],
   "source": [
    "# compute distances over pilot runs\n",
    "def calc_dist(stats_1, stats_2):\n",
    "    \"\"\"Euclidian distance between summary statistics\"\"\"\n",
    "    return np.sqrt(np.sum( ((stats_1[:-1] - stats_2[:-1])) ** 2))\n",
    "\n",
    "# compute distances over pilot runs\n",
    "dists = np.empty(stats_true.shape[0])\n",
    "for i in range(stats_true.shape[0]):\n",
    "    dists[i] = calc_dist( stats_true[i], obs_stats.flatten())\n",
    "\n",
    "# show distance histogram (use to pick initial epsilon, e.g. roughly as median distance)\n",
    "plt.hist(dists, bins=np.linspace(0,10,100), normed=True, label=r'x from ground-truth $\\theta^*$')\n",
    "\n",
    "dists = np.empty(pilots.shape[0])\n",
    "for i in range(pilots.shape[0]):\n",
    "    dists[i] = calc_dist( pilots[i], obs_stats.flatten() )\n",
    "plt.hist(dists, bins=np.linspace(0,10,100), normed=True, label=r'x from prior-drawn $\\theta$')\n",
    "\n",
    "L2o = np.sqrt(np.sum(obs_stats[0,:-1]**2))\n",
    "plt.plot([L2o, L2o], [0,5], 'g', label=r'$||x_o||_2$')\n",
    "\n",
    "plt.legend()\n",
    "plt.xlabel('distance')\n",
    "plt.ylabel('rel. frequency')\n",
    "\n",
    "plt.show()\n",
    "\n",
    "print('L2 norm of observed STA:', L2o)"
   ]
  },
  {
   "cell_type": "markdown",
   "metadata": {},
   "source": [
    "# normalized L2 distance\n",
    "- a weighted L2 distance with 80% of loss coming from errors in STAs and 20% from errors in spike count\n",
    "- note that 20% roughly corresponds to 2 out of 9 model parameters (gain and bias) determining the firing rate\n",
    "- $x$ generated from ground-truth parameters now have lower distances $d(x,x_o)$ than those $x$ from prior-drawn $\\theta$\n",
    "- shape information (STAs) with 80% still dominates the overall loss"
   ]
  },
  {
   "cell_type": "code",
   "execution_count": null,
   "metadata": {},
   "outputs": [],
   "source": [
    "# compute distances over pilot runs\n",
    "\n",
    "def calc_dist(stats_1, stats_2):\n",
    "    \"\"\"Euclidian distance between summary statistics\"\"\"\n",
    "    return np.sqrt(np.sum( ((stats_1 - stats_2)/stats_std) ** 2))\n",
    "\n",
    "# compute distances over pilot runs\n",
    "dists = np.empty(stats_true.shape[0])\n",
    "for i in range(stats_true.shape[0]):\n",
    "    dists[i] = calc_dist( stats_true[i], obs_stats )\n",
    "\n",
    "print(np.min(dists))\n",
    "# show distance histogram (use to pick initial epsilon, e.g. roughly as median distance)\n",
    "plt.hist(dists, bins=np.linspace(0,150,100), normed=True, label=r'x from ground-truth $\\theta^*$')\n",
    "\n",
    "dists = np.empty(pilots.shape[0])\n",
    "for i in range(pilots.shape[0]):\n",
    "    dists[i] = calc_dist( pilots[i], obs_stats )\n",
    "plt.hist(dists, bins=np.linspace(0,150,100), normed=True, label=r'x from prior-drawn $\\theta$')\n",
    "\n",
    "plt.legend()\n",
    "plt.show()"
   ]
  },
  {
   "cell_type": "markdown",
   "metadata": {},
   "source": [
    "# visualize 10 closest summary stats to xo under normalized L2 distance\n",
    "- due to the noise on each pixel of the high-dimensional STAs, almost no information on the actual RF shape can be extracted from pixel-bases L2 loss ...\n",
    "- closest $x$ to $x_o$ mostly defined through their spike count (307 spikes in total for $x_o$)"
   ]
  },
  {
   "cell_type": "code",
   "execution_count": null,
   "metadata": {},
   "outputs": [],
   "source": [
    "PANEL_A = 'svg/SMC_ABC__loss_10samples.svg'"
   ]
  },
  {
   "cell_type": "code",
   "execution_count": null,
   "metadata": {
    "lines_to_next_cell": 2
   },
   "outputs": [],
   "source": [
    "lvls = [0.2, 0.2]\n",
    "\n",
    "import matplotlib as mpl\n",
    "with mpl.rc_context(fname='../.matplotlibrc'):\n",
    "\n",
    "    plt.figure(figsize=(10, 4.2))\n",
    "    for i in range(10):\n",
    "\n",
    "        plt.subplot(2,5,i+1)\n",
    "        idx = np.argsort(dists)[i]\n",
    "\n",
    "        x = (pilots[idx,:] - stats_mean) / stats_std\n",
    "        plt.imshow(x[0,:-1].reshape(d,d), interpolation='None', cmap='gray')\n",
    "        plt.title(str(int(pilots[idx,-1])) + ' spikes', loc='right')\n",
    "        rfm = g.model.params_to_rf(gts[idx,:].reshape(-1))[0]\n",
    "        plt.contour(rfm, levels=[lvls[0]*rfm.min(), lvls[1]*rfm.max()], colors=[col['SMC']])\n",
    "        plt.axis('off')\n",
    "\n",
    "    plt.subplots_adjust( wspace=0.2, hspace=0.1, left=0.1, bottom=0.12)\n",
    "\n",
    "    plt.savefig(PANEL_A, transparent=True)\n",
    "    plt.show()"
   ]
  },
  {
   "cell_type": "markdown",
   "metadata": {},
   "source": [
    "# run ABC"
   ]
  },
  {
   "cell_type": "markdown",
   "metadata": {},
   "source": [
    "### run SMC"
   ]
  },
  {
   "cell_type": "code",
   "execution_count": null,
   "metadata": {},
   "outputs": [],
   "source": [
    "!mkdir -p results/SMC/toycell_6/\n",
    "\n",
    "seed = 42 # SMC seed\n",
    "eps_init = dists[np.argmin( (dists-np.median(dists))**2 )]\n",
    "print(eps_init)\n",
    "\n",
    "all_ps, all_xs, all_logweights, all_eps, all_nsims = run_smc(model=g.model, prior=g.prior, summary=normed_summary(),\n",
    "                                                     obs_stats=obs_statz,\n",
    "                                                     seed=seed, fn=savefile,\n",
    "                                                     n_particles=n_particles, eps_init=eps_init, maxsim=maxsim)"
   ]
  },
  {
   "cell_type": "markdown",
   "metadata": {},
   "source": [
    "# load results"
   ]
  },
  {
   "cell_type": "code",
   "execution_count": null,
   "metadata": {},
   "outputs": [],
   "source": [
    "res = np.load('results/SMC/toycell_6/maprf_SMC_prior01_run_1_1000particles_param9.npy',\n",
    "    allow_pickle=True)[()]\n",
    "\n",
    "for k,v in res.items():\n",
    "    globals()[k] = v"
   ]
  },
  {
   "cell_type": "markdown",
   "metadata": {},
   "source": [
    "# check results\n",
    "- sampled posteriors on 'bias' and 'gain' (restricting spike count and firing rate) are much tighter relative to the priors\n",
    "- marginals over remaining parameters (defining the shape and location of the RF) are very similar to the prior, i.e. we failed to learn much about $\\theta$ from $x_o$."
   ]
  },
  {
   "cell_type": "code",
   "execution_count": null,
   "metadata": {
    "lines_to_next_cell": 2
   },
   "outputs": [],
   "source": [
    "fig_inches = (10,10)\n",
    "\n",
    "lims_samples = np.vstack([g.prior.m - 5*np.sqrt(np.diag(g.prior.S)), g.prior.m + 5*np.sqrt(np.diag(g.prior.S))]).T\n",
    "\n",
    "labels_params = ['bias', 'log gain', 'logit phase', 'log freq', 'logit angle',\n",
    "                'log ratio', 'log width', 'logit $x_o$', 'logit $y_o$']\n",
    "\n",
    "with mpl.rc_context(fname='../.matplotlibrc'):\n",
    "    fig,axes = plot_pdf(g.prior,\n",
    "                        samples=all_ps[-1].T,\n",
    "                        levels=(0.9499, 0.95),\n",
    "                        gt=pars_true.flatten(),\n",
    "                        figsize=(10,10),\n",
    "                        lims=lims_samples,\n",
    "                        labels_params=labels_params,\n",
    "                        col1=col['SMC'],\n",
    "                        col2=(0.55,0.,0.),\n",
    "                        col4=col['GT'],);\n",
    "    \n",
    "\n",
    "    for i in range(g.prior.ndim):\n",
    "        axes[i,i].set_xticks([lims_samples[i, 0], lims_samples[i, 1]])\n",
    "        axes[i,i].set_yticks([])\n",
    "\n",
    "    sns.despine(offset=5, left=True)\n",
    "\n",
    "    PANEL_B = 'svg/supp_smc_abc.svg'\n",
    "    fig.savefig(PANEL_B, transparent=True)"
   ]
  },
  {
   "cell_type": "markdown",
   "metadata": {},
   "source": [
    "## store results"
   ]
  },
  {
   "cell_type": "code",
   "execution_count": null,
   "metadata": {
    "lines_to_next_cell": 2
   },
   "outputs": [],
   "source": [
    "np.save(savefile, {'eps_init' : eps_init,\n",
    "                    'obs_statz' : obs_statz,\n",
    "                    'obs_stats' : obs_stats,\n",
    "                    'n_particles' : n_particles,\n",
    "                    'maxsim' : maxsim,\n",
    "                    'stats_mean' : stats_mean,\n",
    "                    'stats_std' : stats_std,\n",
    "                    'all_ps' : all_ps,\n",
    "                    'all_logweights' : all_logweights,\n",
    "                    'all_eps' : all_eps,\n",
    "                    'all_nsims' : all_nsims,\n",
    "                    'params_dict_true' : params_dict_true})"
   ]
  },
  {
   "cell_type": "markdown",
   "metadata": {},
   "source": [
    "## Compose figure"
   ]
  },
  {
   "cell_type": "code",
   "execution_count": null,
   "metadata": {},
   "outputs": [],
   "source": [
    "from svgutils.compose import *\n",
    "\n",
    "# > Inkscape pixel is 1/90 of an inch, other software usually uses 1/72.\n",
    "# > http://www.inkscapeforum.com/viewtopic.php?f=6&t=5964\n",
    "svg_scale = 1.25  # set this to 1.25 for Inkscape, 1.0 otherwise\n",
    "\n",
    "# Panel letters in Helvetica Neue, 12pt, Medium\n",
    "kwargs_text = {'size': '12pt', 'font': 'Arial', 'weight': '800'}\n",
    "\n",
    "pxw = 720\n",
    "pxh = 760\n",
    "\n",
    "PANEL_A = 'svg/SMC_ABC__loss_10samples.svg'\n",
    "PANEL_B = 'svg/supp_smc_abc.svg'\n",
    "PANEL_C = 'fig/fig3_gabor_supp_smc_abc_comps.svg'\n",
    "\n",
    "f = Figure(\"20.3cm\", \"28.3cm\",\n",
    "\n",
    "    Panel(\n",
    "          SVG(PANEL_A).scale(1.22).move(3, 5),\n",
    "          Text(\"a\", 0, 13, **kwargs_text),\n",
    "    ).move(0, 0),\n",
    "\n",
    "    Panel(\n",
    "          SVG(PANEL_B).scale(svg_scale).move(15,10),\n",
    "          Text(\"b\", 0, 13, **kwargs_text),\n",
    "    ).move(0, 310),\n",
    "\n",
    "    Panel(\n",
    "          SVG(PANEL_C).scale(svg_scale).move(15,15),\n",
    "          Text(\"c\", 0, 13, **kwargs_text),\n",
    "    ).move(0, 730),\n",
    "           \n",
    "    #Grid(10, 10),\n",
    ")\n",
    "\n",
    "f.save(\"fig/fig3_gabor_supp_smc_abc.svg\")\n",
    "svg('fig/fig3_gabor_supp_smc_abc.svg')"
   ]
  },
  {
   "cell_type": "code",
   "execution_count": null,
   "metadata": {},
   "outputs": [],
   "source": []
  }
 ],
 "metadata": {
  "jupytext": {
   "cell_metadata_filter": "-all",
   "main_language": "python",
   "notebook_metadata_filter": "-all"
  },
  "kernelspec": {
   "display_name": "Python 3",
   "language": "python",
   "name": "python3"
  },
  "language_info": {
   "codemirror_mode": {
    "name": "ipython",
    "version": 3
   },
   "file_extension": ".py",
   "mimetype": "text/x-python",
   "name": "python",
   "nbconvert_exporter": "python",
   "pygments_lexer": "ipython3",
   "version": "3.7.4"
  }
 },
 "nbformat": 4,
 "nbformat_minor": 2
}
