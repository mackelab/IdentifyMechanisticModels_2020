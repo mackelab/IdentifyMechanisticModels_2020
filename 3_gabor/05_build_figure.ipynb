{
 "cells": [
  {
   "cell_type": "markdown",
   "metadata": {},
   "source": [
    "# Figures"
   ]
  },
  {
   "cell_type": "markdown",
   "metadata": {},
   "source": [
    "This notebook will create the figure for the manuscript."
   ]
  },
  {
   "cell_type": "code",
   "execution_count": null,
   "metadata": {},
   "outputs": [],
   "source": [
    "%matplotlib inline\n",
    "\n",
    "import theano\n",
    "theano.config.floatX='float64'\n",
    "\n",
    "import delfi.distribution as dd\n",
    "import matplotlib as mpl\n",
    "import matplotlib.gridspec as gridspec\n",
    "import matplotlib.patches as mpatches\n",
    "import matplotlib.pyplot as plt\n",
    "import numpy as np\n",
    "import pickle\n",
    "import seaborn as sns\n",
    "\n",
    "from utils import setup_sim, get_data_o\n",
    "\n",
    "import sys; sys.path.append('../')\n",
    "from common import col, svg, plot_pdf"
   ]
  },
  {
   "cell_type": "code",
   "execution_count": null,
   "metadata": {},
   "outputs": [],
   "source": [
    "!mkdir -p svg/\n",
    "\n",
    "PANEL_A ='illustration/model.svg'\n",
    "svg(PANEL_A)"
   ]
  },
  {
   "cell_type": "markdown",
   "metadata": {},
   "source": [
    "## Gabor RF results"
   ]
  },
  {
   "cell_type": "code",
   "execution_count": null,
   "metadata": {},
   "outputs": [],
   "source": [
    "## training data and true parameters, data, statistics\n",
    "seed = 42\n",
    "idx_cell = 6 # load toy cell number 6 (cosine-shaped RF with ~1Hz firing rate)\n",
    "\n",
    "tmp = np.load('results/SNPE/toycell_6/ground_truth_data.npy', allow_pickle=True)[()]\n",
    "obs_stats, pars_true, rf = tmp['obs_stats'],  tmp['pars_true'], tmp['rf']\n",
    "\n",
    "sim_info = np.load('results/sim_info.npy', allow_pickle=True)[()]\n",
    "d, params_ls = sim_info['d'], sim_info['params_ls']\n",
    "\n",
    "assert obs_stats[0,-1] == 299 # the cell we want to work with should have this number of spikes\n",
    "\n",
    "labels_params = ['bias', 'gain', 'phase', 'freq', 'angle', 'ratio', 'width', 'xo', 'yo']"
   ]
  },
  {
   "cell_type": "markdown",
   "metadata": {},
   "source": [
    "### SNP results"
   ]
  },
  {
   "cell_type": "code",
   "execution_count": null,
   "metadata": {
    "lines_to_next_cell": 2
   },
   "outputs": [],
   "source": [
    "tmp = np.load('results/SNPE/toycell_6/maprf_100k_prior01_run_1_round2_param9_nosvi_CDELFI_posterior.npy', allow_pickle=True)[()]\n",
    "posterior, proposal, prior = tmp['posterior'], tmp['proposal'], tmp['prior']\n",
    "\n",
    "plot_prior = dd.TransformedNormal(m=prior.m, S = prior.S,\n",
    "                            flags=[0,0,2,1,2,1,1,2,2],\n",
    "                            lower=[0,0,0,0,0,0,0,-1,-1], upper=[0,0,np.pi,0,2*np.pi,0,0,1,1])\n",
    "\n",
    "plot_post = dd.mixture.TransformedGaussianMixture.MoTG(\n",
    "                            ms= [posterior.xs[i].m for i in range(posterior.n_components)],\n",
    "                            Ss =[posterior.xs[i].S for i in range(posterior.n_components)],\n",
    "                            a = posterior.a,\n",
    "                            flags=[0,0,2,1,2,1,1,2,2],\n",
    "                            lower=[0,0,0,0,0,0,0,-1,-1], upper=[0,0,np.pi,0,2*np.pi,0,0,1,1])\n",
    "\n",
    "lims_post = np.array([[-1.5, -1.1, .001,         0.01,          .001, 0.01, 0.01, -.999, -.999],\n",
    "                 [ 1.5,  1.1, .999*np.pi, 2.49,   1.999*np.pi, 1.99, 3.99, .999,   .999]]).T"
   ]
  },
  {
   "cell_type": "markdown",
   "metadata": {},
   "source": [
    "### MCMC sampler"
   ]
  },
  {
   "cell_type": "code",
   "execution_count": null,
   "metadata": {
    "lines_to_next_cell": 2
   },
   "outputs": [],
   "source": [
    "n_samples=1000000\n",
    "path =  'results/MCMC/'\n",
    "savefile = path + 'toycell_' + str(idx_cell) + '/maprf_MCMC_prior01_run_1_'+ str(n_samples)+'samples_param9_5min.npy'\n",
    "tmp = np.load(savefile, allow_pickle=True)[()]\n",
    "\n",
    "T, params_dict_true = tmp['T'], tmp['params_dict_true']\n",
    "\n",
    "params_ls = ['bias', 'gain', 'phase', 'freq','angle','ratio','width', 'xo', 'yo']\n",
    "samples = np.hstack([np.atleast_2d(T[key].T).T for key in params_ls])\n",
    "\n",
    "def symmetrize_sample_modes(samples):\n",
    "\n",
    "    assert samples.ndim==2 and samples.shape[1] == 9\n",
    "\n",
    "    # assumes phase in [0, pi]\n",
    "    assert np.min(samples[:,2]) >= 0. and np.max(samples[:,2] <= np.pi)\n",
    "    # assumes angle in [0, 2*pi]\n",
    "    assert np.min(samples[:,4]) >= 0. and np.max(samples[:,4] <= 2*np.pi)\n",
    "    # assumes freq, ratio and width > 0\n",
    "    assert np.all(np.min(samples[:,np.array([3,5,6])], axis=0) >= 0.)\n",
    "\n",
    "    samples1 = samples.copy()\n",
    "    idx = np.where( samples[:,4] > np.pi )[0]\n",
    "    samples1[idx,4] = samples1[idx,4] - np.pi\n",
    "    idx = np.where( samples[:,4] < np.pi )[0]\n",
    "    samples1[idx,4] = samples1[idx,4] + np.pi\n",
    "    #samples1[:,2] = np.pi - samples1[:,2]\n",
    "    samples_all = np.vstack((samples, samples1))[::2, :]\n",
    "\n",
    "    samples1 = samples_all.copy()\n",
    "    samples1[:,1] = - samples1[:,1]\n",
    "    samples1[:,2] = np.pi - samples1[:,2]\n",
    "    samples_all = np.vstack((samples_all, samples1))[::2, :]\n",
    "\n",
    "    return samples_all\n",
    "\n",
    "samples = symmetrize_sample_modes(samples)\n",
    "\n",
    "pars_raw = np.array([ params_dict_true['glm']['bias'],\n",
    "                      params_dict_true['kernel']['s']['gain'],\n",
    "                      params_dict_true['kernel']['s']['phase'] + 0.05, # remove phase a bit from left interval border\n",
    "                      params_dict_true['kernel']['s']['angle'],\n",
    "                      params_dict_true['kernel']['s']['freq'],\n",
    "                      params_dict_true['kernel']['s']['ratio'],\n",
    "                      params_dict_true['kernel']['s']['width'],\n",
    "                      params_dict_true['kernel']['l']['xo'],\n",
    "                      params_dict_true['kernel']['l']['yo'] ])\n",
    "\n",
    "lims_samples = np.array([[-.5, -1.1, .00001*np.pi, 0, 0.301*np.pi, 0, 0,-0.1,-0.0],\n",
    "                         [ .1,  1.1, .99999*np.pi, 3, 1.699*np.pi, 3, 5, 0.4, 0.5]]).T"
   ]
  },
  {
   "cell_type": "markdown",
   "metadata": {},
   "source": [
    "## Panel for summary statistics"
   ]
  },
  {
   "cell_type": "code",
   "execution_count": null,
   "metadata": {},
   "outputs": [],
   "source": [
    "with mpl.rc_context(fname='../.matplotlibrc'):\n",
    "    plt.figure(figsize=(1.9, 1.9))\n",
    "    plt.imshow(obs_stats[0,:-1].reshape(d,d), interpolation='nearest', cmap='gray')\n",
    "    #plt.title('spike-triggered \\n average', fontsize=fontsize)\n",
    "    plt.text(3, 6, 'STA', color='w', fontsize=10)\n",
    "    plt.tight_layout()\n",
    "    plt.axis('off')\n",
    "\n",
    "    # option to add contours of ground-truth RF\n",
    "    add_gt = False\n",
    "    if add_gt:\n",
    "        rfm = g.model.params_to_rf(pars_true.reshape(-1))[0]\n",
    "        plt.contour(rfm, levels=[lvls[0]*rfm.min(), lvls[1]*rfm.max()], colors='r')\n",
    "\n",
    "    PANEL_B_1 = 'svg/panel_b_1.svg'\n",
    "    plt.savefig(PANEL_B_1, facecolor=plt.gcf().get_facecolor(), transparent=True)\n",
    "    plt.close()\n",
    "\n",
    "svg(PANEL_B_1)"
   ]
  },
  {
   "cell_type": "markdown",
   "metadata": {},
   "source": [
    "## Panel for parameters"
   ]
  },
  {
   "cell_type": "code",
   "execution_count": null,
   "metadata": {},
   "outputs": [],
   "source": [
    "with mpl.rc_context(fname='../.matplotlibrc'):\n",
    "    plt.figure(figsize=(1.9, 1.9))\n",
    "    plt.imshow(rf, interpolation='nearest', cmap='gray')\n",
    "    #plt.title('ground-truth \\n filter', fontsize=fontsize)\n",
    "    plt.text(3, 12, 'ground-truth \\n'+'receptive field', color='w', fontsize=10)\n",
    "    plt.tight_layout()\n",
    "    plt.axis('off')\n",
    "\n",
    "    PANEL_B_2 = 'svg/panel_b_2.svg'\n",
    "    plt.savefig(PANEL_B_2, facecolor=plt.gcf().get_facecolor(), transparent=True)\n",
    "    plt.close()\n",
    "\n",
    "svg(PANEL_B_2)"
   ]
  },
  {
   "cell_type": "markdown",
   "metadata": {},
   "source": [
    "## (Partial) posterior"
   ]
  },
  {
   "cell_type": "code",
   "execution_count": null,
   "metadata": {},
   "outputs": [],
   "source": [
    "with mpl.rc_context(fname='../.matplotlibrc'):\n",
    "    lims_samples = np.array([[-.5, -1.1, .00001*np.pi, 0, np.pi/3, 0, 0,-0.1,-0.0],\n",
    "                             [ .1,  1.1, 0.9999*np.pi, 3, 5*np.pi/3, 3, 5, 0.4, 0.5]]).T\n",
    "\n",
    "    idx = np.array([2,4,7,8])\n",
    "\n",
    "    labels_params_select = np.array(labels_params)[idx]\n",
    "\n",
    "    plot_post_select = dd.mixture.MoTG(ms=[x.m[idx] for x in plot_post.xs],\n",
    "                                      Ss=[x.S[idx][:,idx] for x in plot_post.xs],\n",
    "                                      a=plot_post.a,\n",
    "                                      flags=plot_post.flags[idx],\n",
    "                                      lower=plot_post.lower[idx],\n",
    "                                      upper=plot_post.upper[idx]\n",
    "                                     )\n",
    "\n",
    "    plot_prior_select = dd.TransformedNormal(m=plot_prior.m[idx], S = plot_prior.S[idx][:,idx],\n",
    "                                flags=plot_prior.flags[idx],\n",
    "                                lower=plot_prior.lower[idx],\n",
    "                                upper=plot_prior.upper[idx])\n",
    "\n",
    "    fig, axes = plot_pdf(plot_post_select,  #pdf2=plot_prior_select,\n",
    "                        lims=lims_samples[idx],\n",
    "                        gt=pars_raw.reshape(-1)[idx],\n",
    "                        figsize=(3.2, 3.2),\n",
    "                        resolution=100,\n",
    "                        samples=samples[:,idx].T,\n",
    "                        levels=[0.95],\n",
    "                        col1=col['MCMC'],\n",
    "                        col2=col['SNPE'],\n",
    "                        col4=col['GT'],\n",
    "                        partial_dots=True,\n",
    "                        ticks=False);\n",
    "\n",
    "    labels_params_select = np.array([r' $y$', r'  $x$', 'angle', 'phase'])\n",
    "\n",
    "    for i in range(idx.size):\n",
    "        axes[i, i].set_xlabel(labels_params_select[::-1][i])\n",
    "\n",
    "    axes[0, 0].set_xticks([0,np.pi])\n",
    "    axes[0, 0].set_xticklabels([r'$0^\\degree$',r'$180^\\degree$'])\n",
    "    axes[1, 1].set_xticks([1/6*np.pi,5/3*np.pi])\n",
    "    axes[1, 1].set_xticklabels([r'$60^\\degree$',r'$300^\\degree$'])\n",
    "    axes[2, 2].set_xticks([-0.1,0.4])\n",
    "    axes[2, 2].set_xticklabels([-0.1, 0.4])\n",
    "    axes[3, 3].set_xticks([0, 0.5])\n",
    "    axes[3, 3].set_xticklabels([0, 0.5])\n",
    "\n",
    "    sns.despine(offset=5, left=True)\n",
    "\n",
    "    PANEL_C = 'svg/panel_c.svg'\n",
    "    fig.savefig(PANEL_C, facecolor=plt.gcf().get_facecolor(), transparent=True)\n",
    "    plt.close()\n",
    "\n",
    "svg(PANEL_C)"
   ]
  },
  {
   "cell_type": "markdown",
   "metadata": {},
   "source": [
    "## Posterior samples synthetic data"
   ]
  },
  {
   "cell_type": "code",
   "execution_count": null,
   "metadata": {},
   "outputs": [],
   "source": [
    "with mpl.rc_context(fname='../.matplotlibrc'):\n",
    "\n",
    "\n",
    "    # this snippet of code requires the mapRF repository (to instantiate g.model)\n",
    "    g, prior, d = setup_sim(seed, path='')\n",
    "    filename = 'results/toy_cells/toy_cell_' + str(idx_cell) + '.npy'\n",
    "    obs_stats, pars_true = get_data_o(filename, g, seed)\n",
    "    rf = g.model.params_to_rf(pars_true)[0]\n",
    "\n",
    "    lvls, n_draws=[0.2, 0.2], 10\n",
    "    plt.figure(figsize=(1.9, 1.9))\n",
    "    plt.imshow(obs_stats[0,:-1].reshape(d,d), interpolation='nearest', cmap='gray')\n",
    "    line_cols = [(x[0], x[1], x[2]) for x in sns.light_palette(col['SNPE'], 10)]\n",
    "    for i in range(n_draws):\n",
    "        rfm = g.model.params_to_rf(posterior.gen().reshape(-1))[0]\n",
    "        plt.contour(rfm, levels=[lvls[0]*rfm.min(), lvls[1]*rfm.max()], colors=[col['SNPE']], linewidth=2)\n",
    "        #plt.hold(True)\n",
    "    #plt.title('sampled filters', fontsize=fontsize)\n",
    "\n",
    "    rfm = g.model.params_to_rf(pars_true.reshape(-1))[0]\n",
    "    plt.contour(rfm, levels=[lvls[0]*rfm.min(), lvls[1]*rfm.max()], colors=[col['GT']], linewidth=2.5)\n",
    "    plt.tight_layout()\n",
    "    plt.axis('off')\n",
    "\n",
    "    plt.text(3, 10, 'receptive field \\n'+'samples', color='w', fontsize=10)\n",
    "\n",
    "\n",
    "    PANEL_D =  'svg/panel_d.svg'\n",
    "    plt.savefig(PANEL_D, facecolor=plt.gcf().get_facecolor(), transparent=True)\n",
    "    plt.close()\n",
    "\n",
    "svg(PANEL_D)"
   ]
  },
  {
   "cell_type": "markdown",
   "metadata": {},
   "source": [
    "## Posterior samples real data"
   ]
  },
  {
   "cell_type": "code",
   "execution_count": null,
   "metadata": {},
   "outputs": [],
   "source": [
    "with mpl.rc_context(fname='../.matplotlibrc'):\n",
    "\n",
    "\n",
    "    # this snippet of code requires the mapRF repository (to instantiate g.model)\n",
    "    g, prior, d = setup_sim(seed, path='')\n",
    "    filename = 'results/toy_cells/toy_cell_' + str(idx_cell) + '.npy'\n",
    "    obs_stats, pars_true = get_data_o(filename, g, seed)\n",
    "    rf = g.model.params_to_rf(pars_true)[0]\n",
    "\n",
    "    lvls, n_draws=[0.2, 0.2], 10\n",
    "    plt.figure(figsize=(3.4, 3.4))\n",
    "    plt.imshow(obs_stats[0,:-1].reshape(d,d), interpolation='nearest', cmap='gray')\n",
    "    line_cols = [(x[0], x[1], x[2]) for x in sns.light_palette(col['SNPE'], 10)]\n",
    "    for i in range(n_draws):\n",
    "        rfm = g.model.params_to_rf(posterior.gen().reshape(-1))[0]\n",
    "        plt.contour(rfm, levels=[lvls[0]*rfm.min(), lvls[1]*rfm.max()], colors=[col['SNPE']], linewidth=2)\n",
    "        #plt.hold(True)\n",
    "    #plt.title('sampled filters', fontsize=fontsize)\n",
    "\n",
    "    plt.tight_layout()\n",
    "    plt.axis('off')\n",
    "\n",
    "    plt.text(1, 2.5, 'real data receptive field samples', color='w', fontsize=10)\n",
    "\n",
    "\n",
    "    PANEL_E =  'svg/panel_e.svg'\n",
    "    plt.savefig(PANEL_E, facecolor=plt.gcf().get_facecolor(), transparent=True)\n",
    "    plt.close()\n",
    "\n",
    "svg(PANEL_E)"
   ]
  },
  {
   "cell_type": "markdown",
   "metadata": {},
   "source": [
    "## Compose figure"
   ]
  },
  {
   "cell_type": "code",
   "execution_count": null,
   "metadata": {},
   "outputs": [],
   "source": [
    "from svgutils.compose import *\n",
    "\n",
    "# > Inkscape pixel is 1/90 of an inch, other software usually uses 1/72.\n",
    "# > http://www.inkscapeforum.com/viewtopic.php?f=6&t=5964\n",
    "svg_scale = 1.25  # set this to 1.25 for Inkscape, 1.0 otherwise\n",
    "\n",
    "# Panel letters in Helvetica Neue, 12pt, Medium\n",
    "kwargs_text = {'size': '12pt', 'font': 'Arial', 'weight': '800'}\n",
    "\n",
    "pxw = 720\n",
    "pxh = 760\n",
    "\n",
    "\n",
    "f = Figure(\"20.3cm\", \"12.3cm\",\n",
    "\n",
    "    Panel(\n",
    "          SVG(PANEL_A).scale(svg_scale).move(20,-15),\n",
    "          Text(\"A\", 0, 13, **kwargs_text),\n",
    "    ).move(0, 0),\n",
    "\n",
    "    Panel(\n",
    "          SVG(PANEL_B_1).scale(svg_scale).move(15,0),\n",
    "          SVG(PANEL_B_2).scale(svg_scale).move(15, 137),\n",
    "          Text(\"B\", 0, 22, **kwargs_text),\n",
    "    ).move(0, 185),\n",
    "\n",
    "    Panel(\n",
    "        SVG(PANEL_C).scale(svg_scale).move(25, 2),\n",
    "        Text(\"C\", -10, 22, **kwargs_text),\n",
    "    ).move(180, 185),\n",
    "\n",
    "    Panel(\n",
    "        SVG(PANEL_D).scale(svg_scale).move(0, 2),\n",
    "        Text(\"D\", -10, 22, **kwargs_text),\n",
    "    ).move(180, 185+137),\n",
    "\n",
    "    Panel(\n",
    "          SVG(PANEL_E).scale(svg_scale).move(12, 2),\n",
    "          Text(\"E\", -5, 22, **kwargs_text),\n",
    "    ).move(470, 185),\n",
    "           \n",
    "    #Grid(10, 10),\n",
    ")\n",
    "\n",
    "f.save(\"fig/fig3_gabor.svg\")\n",
    "svg('fig/fig3_gabor.svg')"
   ]
  },
  {
   "cell_type": "markdown",
   "metadata": {},
   "source": [
    "## Supplementary figure: full posterior"
   ]
  },
  {
   "cell_type": "code",
   "execution_count": null,
   "metadata": {},
   "outputs": [],
   "source": [
    "with mpl.rc_context(fname='../.matplotlibrc'):\n",
    "\n",
    "    labels_params[7] = r'$x$'\n",
    "    labels_params[8] = r'$y$'\n",
    "\n",
    "    fig, axes = plot_pdf(plot_post,\n",
    "                      #pdf2=plot_prior,\n",
    "                      lims=lims_post,\n",
    "                      gt=plot_post._f(pars_true.reshape(1,-1)).reshape(-1),\n",
    "                      figsize=(12, 12),\n",
    "                      #resolution=100,\n",
    "                      samples=samples.T,\n",
    "                      #levels=np.asarray([0.95]),\n",
    "                      col1=col['MCMC'],\n",
    "                      col2=col['SNPE'],\n",
    "                      #col3=col['PRIOR'],\n",
    "                      col4=col['GT'],\n",
    "                      labels_params=labels_params)\n",
    "\n",
    "    for i in range(plot_post.ndim):\n",
    "        axes[i,i].set_xticks([lims_post[i, 0], lims_post[i, 1]])\n",
    "        axes[i,i].set_yticks([])\n",
    "\n",
    "    sns.despine(offset=5, left=True)\n",
    "    \n",
    "    SUPP_1 = 'fig/fig3_gabor_supp_posterior.svg'\n",
    "    fig.savefig(SUPP_1, transparent=True)\n",
    "    plt.close()\n",
    "\n",
    "svg(SUPP_1)"
   ]
  },
  {
   "cell_type": "code",
   "execution_count": null,
   "metadata": {},
   "outputs": [],
   "source": []
  }
 ],
 "metadata": {
  "jupytext": {
   "cell_metadata_filter": "-all",
   "main_language": "python",
   "notebook_metadata_filter": "-all"
  },
  "kernelspec": {
   "display_name": "Python 3",
   "language": "python",
   "name": "python3"
  },
  "language_info": {
   "codemirror_mode": {
    "name": "ipython",
    "version": 3
   },
   "file_extension": ".py",
   "mimetype": "text/x-python",
   "name": "python",
   "nbconvert_exporter": "python",
   "pygments_lexer": "ipython3",
   "version": "3.7.4"
  }
 },
 "nbformat": 4,
 "nbformat_minor": 2
}
